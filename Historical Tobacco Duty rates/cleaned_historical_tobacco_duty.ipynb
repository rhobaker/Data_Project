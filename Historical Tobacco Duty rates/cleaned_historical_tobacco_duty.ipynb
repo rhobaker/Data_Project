{
 "cells": [
  {
   "cell_type": "code",
   "execution_count": 1,
   "metadata": {},
   "outputs": [],
   "source": [
    "import pandas as pd"
   ]
  },
  {
   "cell_type": "code",
   "execution_count": 18,
   "metadata": {},
   "outputs": [],
   "source": [
    "# Load the CSV files\n",
    "pre_may_2017_df = pd.read_csv('https://raw.githubusercontent.com/rhobaker/Data_Project/main/Historical%20Tobacco%20Duty%20rates/historical_tobacco_duty_pre_may_2017.csv')\n",
    "post_may_2017_df = pd.read_csv('https://raw.githubusercontent.com/rhobaker/Data_Project/main/Historical%20Tobacco%20Duty%20rates/historical_tobacco_duty_post_may_2017.csv')"
   ]
  },
  {
   "cell_type": "code",
   "execution_count": 19,
   "metadata": {},
   "outputs": [],
   "source": [
    "# Clean pre-May 2017 data\n",
    "def clean_pre_may_2017(df):\n",
    "    # Change 'Date of change' to datetime format\n",
    "    df['Date of change'] = pd.to_datetime(df['Date of change'], format='%d %B %Y', errors='coerce')\n",
    "    # Drop rows with invalid dates\n",
    "    df = df.dropna(subset=['Date of change'])\n",
    "    # Remove duplicates\n",
    "    df = df.drop_duplicates(subset=['Date of change'], keep='last')\n",
    "    # Check and handle missing values\n",
    "    if df.isnull().values.any():\n",
    "        df = df.fillna(method='ffill').fillna(method='bfill')\n",
    "    return df\n"
   ]
  },
  {
   "cell_type": "code",
   "execution_count": 21,
   "metadata": {},
   "outputs": [],
   "source": [
    "def clean_post_may_2017(df):\n",
    "    # Change 'Date of change' to datetime format\n",
    "    df['Date of change'] = pd.to_datetime(df['Date of change'], format='%d %B %Y', errors='coerce')\n",
    "    # Drop rows with invalid dates\n",
    "    df = df.dropna(subset=['Date of change'])\n",
    "    # Remove duplicates\n",
    "    df = df.drop_duplicates(subset=['Date of change'], keep='last')\n",
    "    # Check and handle missing values\n",
    "    if df.isnull().values.any():\n",
    "        df = df.fillna(method='ffill').fillna(method='bfill')\n",
    "    return df"
   ]
  },
  {
   "cell_type": "code",
   "execution_count": 20,
   "metadata": {},
   "outputs": [],
   "source": [
    "clean_pre_may_2017_df = clean_pre_may_2017(pre_may_2017_df)"
   ]
  },
  {
   "cell_type": "code",
   "execution_count": 22,
   "metadata": {},
   "outputs": [],
   "source": [
    "clean_post_may_2017_df = clean_post_may_2017(post_may_2017_df)"
   ]
  },
  {
   "cell_type": "code",
   "execution_count": 24,
   "metadata": {},
   "outputs": [
    {
     "name": "stdout",
     "output_type": "stream",
     "text": [
      "  Date of change  Cigarettes ad valorem (%)  Specific £ per 1000 sticks  \\\n",
      "0     1978-01-01                       30.0                        9.00   \n",
      "1     1979-08-13                       21.0                       11.77   \n",
      "2     1980-03-29                       21.0                       13.42   \n",
      "3     1981-03-14                       21.0                       18.04   \n",
      "4     1981-07-08                       21.0                       19.03   \n",
      "\n",
      "   Cigars £ per kg  HRT £ per kg  Other £ per kg  \n",
      "0            20.94         20.28           16.09  \n",
      "1            20.94         20.28           16.09  \n",
      "2            25.60         22.60           17.40  \n",
      "3            34.29         29.56           21.92  \n",
      "4            35.91         30.96           22.96  \n"
     ]
    }
   ],
   "source": [
    "# Print the cleaned dataframes to verify\n",
    "print(clean_pre_may_2017_df.head())"
   ]
  }
 ],
 "metadata": {
  "language_info": {
   "name": "python"
  }
 },
 "nbformat": 4,
 "nbformat_minor": 2
}
