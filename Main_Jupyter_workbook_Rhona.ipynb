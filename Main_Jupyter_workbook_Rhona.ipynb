{
  "cells": [
    {
      "cell_type": "markdown",
      "metadata": {
        "id": "view-in-github",
        "colab_type": "text"
      },
      "source": [
        "<a href=\"https://colab.research.google.com/github/rhobaker/Data_Project/blob/main/Main_Jupyter_workbook_Rhona.ipynb\" target=\"_parent\"><img src=\"https://colab.research.google.com/assets/colab-badge.svg\" alt=\"Open In Colab\"/></a>"
      ]
    },
    {
      "cell_type": "code",
      "source": [
        "# Import all libraries needed for the project\n",
        "import requests as requests\n",
        "import numpy as np\n",
        "import pandas as pd\n",
        "import matplotlib.pyplot as plt\n",
        "import seaborn as sns\n",
        "import requests as requests\n",
        "from functools import reduce"
      ],
      "metadata": {
        "id": "IhMukv-amf3O"
      },
      "execution_count": 1,
      "outputs": []
    },
    {
      "cell_type": "markdown",
      "metadata": {
        "id": "a9oWpTJPu01G"
      },
      "source": [
        "# Introduction to the project"
      ]
    },
    {
      "cell_type": "markdown",
      "metadata": {
        "id": "8gWJQITGu01H"
      },
      "source": [
        "The aim of our project was originally to examine the evidence that a proposed bill being put before the UK Parliament will be effective in reducing smoking rates in the UK.\n",
        "\n",
        "The long title of this bill was:\n",
        "\n",
        "> A Bill to Make provision about the supply of tobacco, vapes and other products, including provision prohibiting the sale of tobacco to people born on or after 1 January 2009; and to enable product requirements to be imposed in connection with tobacco, vapes and other products.\n",
        "\n",
        "https://bills.parliament.uk/bills/3703\n",
        "\n",
        "The Bill was set to prohibit the sale of cigarettes to people born after 2008.  Each year the age at which people can legally buy cigarettes will increase, resulting in people born after 31st December 2008 never being able to buy them.  The government believed that this would reduce the harm caused by smoking, which is still the number one cause of preventable deaths in the UK and costs the NHS £17bn a year.\n",
        "\n",
        "However, the Prime Minister called a general election on 22nd May to be held on the 4th July.  The proposed bill did not come into law before this happened.  The focus of our project has therefore changed slightly to examine the evidence that future prevention strategies implemented by the next government will be effective in further reducing smoking rates.\n",
        "\n",
        "https://www.bbc.co.uk/news/health-68825322#:~:text=The%20restrictions%20will%20apply%20to,able%20to%20legally%20buy%20cigarettes.\n",
        "\n",
        "https://www.bbc.co.uk/news/uk-politics-69058303\n"
      ]
    },
    {
      "cell_type": "markdown",
      "metadata": {
        "id": "9qruJsRyu01H"
      },
      "source": [
        "\n",
        "To analyse how effective this ban might be we used evidence from a number of data sources to answer two questions:\n",
        "\n",
        "**<span style=\"color:darkblue\">Question One:</span>**\\\n",
        "**How effective does historic data suggest that government mitigations have been on affecting smoking prevalence?**\n",
        "\n",
        "**<span style=\"color:darkblue\">Question Two:</span>**\\\n",
        "**Based on this analysis, how effective will the new ban be on reducing smoking prevalence?**\n",
        "\n"
      ]
    },
    {
      "cell_type": "markdown",
      "metadata": {
        "id": "8kPJzQ12u01H"
      },
      "source": [
        "## <span style=\"color:darkblue\"> Question One: </span>\n",
        "### **How effective does historic data suggest that government mitigations have been on affecting smoking prevalence?**"
      ]
    },
    {
      "cell_type": "markdown",
      "metadata": {
        "id": "Z4p8e7ZIu01H"
      },
      "source": [
        "### Analysis One:  Changes in global smoking rates compared to levels of government intervention"
      ]
    },
    {
      "cell_type": "markdown",
      "metadata": {
        "id": "V6dw15nZu01H"
      },
      "source": [
        "Using data from the WHO we have analysed how effective government measures have been on reducing rates of smoking globally, in order to determine how effective government measures are in general at reducing smoking rates.\n",
        "\n",
        "\n",
        "The WHO adopted the WHO Framework Convention on Tobacco Control on 21 May 2003 as a response to the global tobacco epidemic.  It uses the MPOWER package to help countries reduce their smoking rates by reducing the demand for tobacco products from their population.  It has six different strands:\n",
        "\n",
        "\n",
        "- **M**: Monitor tobacco use and prevention policies\n",
        "- **P**: Protect people from tobacco smoke\n",
        "- **O**: Offer help to quit tobacco use\n",
        "- **W**: Warn about the dangers of tobacco\n",
        "- **E**: Enforce bans on tobacco advertising, promotion and sponsorship\n",
        "- **R**: Raise taxes on tobacco\n",
        "\n",
        "Reference: https://www.who.int/initiatives/mpower\n",
        "\n",
        "#### Data Analysis\n",
        "\n",
        "The WHO categorises each of these strands into 5 levels to based on how well they have been implemented in each country, with 1 being the lowest level of control and 5 being the greatest.  This data is publically avaliable via an API.\n",
        "\n",
        "We used this API to get a total score per country for each of the years it is available.  This was used to calculate a weighted mean level of implementation for the world as a whole, based on the population of each country.\n",
        "\n",
        "By comparing this to global smoking rates, also avaliable via an API, we prepared an analysis to see if there is a relationship between the adoption of these initiatives and the global smoking rate.\n",
        "\n",
        "Reference: https://www.who.int/data/gho/data/themes/topics/indicator-groups/indicator-group-details/GHO/tobacco-control---progress-towards-selected-tobacco-control-policies-for-demand-reduction"
      ]
    },
    {
      "cell_type": "code",
      "execution_count": null,
      "metadata": {
        "id": "N9sH9RqLu01I"
      },
      "outputs": [],
      "source": [
        "# Get all API data needed from the WHO and save as JSON files\n",
        "\n",
        "# Define the urls for each of the APIs needed:\n",
        "# Global smoking rates by year:\n",
        "url_sr = \"https://ghoapi.azureedge.net/api/M_Est_tob_curr_std?$filter=SpatialDimType%20eq%20%27GLOBAL%27\"\n",
        "# Levels of smoking intervention prevelance:\n",
        "urlM = \"https://ghoapi.azureedge.net/api/M_Group\"\n",
        "urlP = \"https://ghoapi.azureedge.net/api/P_Group\"\n",
        "urlO = \"https://ghoapi.azureedge.net/api/O_Group\"\n",
        "urlW = \"https://ghoapi.azureedge.net/api/W_Group\"\n",
        "urlE = \"https://ghoapi.azureedge.net/api/E_Group\"\n",
        "urlR = \"https://ghoapi.azureedge.net/api/R_Group\"\n",
        "# World population by country:\n",
        "urlpop = \"https://ghoapi.azureedge.net/api/RS_1845\"\n",
        "\n",
        "#Use request module to get the API data and save in a variable:\n",
        "response_sr = requests.get(url_sr)\n",
        "responseM = requests.get(urlM)\n",
        "responseP = requests.get(urlP)\n",
        "responseO = requests.get(urlO)\n",
        "responseW = requests.get(urlW)\n",
        "responseE = requests.get(urlE)\n",
        "responseR = requests.get(urlR)\n",
        "responsepop = requests.get(urlpop)\n",
        "\n",
        "#Turn response into JSON data:\n",
        "json_data_rate = response_sr.json()\n",
        "json_data_M = responseM.json()\n",
        "json_data_P = responseP.json()\n",
        "json_data_O = responseO.json()\n",
        "json_data_W = responseW.json()\n",
        "json_data_E = responseE.json()\n",
        "json_data_R = responseR.json()\n",
        "json_data_pop = responsepop.json()\n",
        "\n",
        "#Check that the data has been imported and give an error message if not:\n",
        "if response_sr.status_code == 200 & responseM.status_code == 200 & responseP.status_code == 200 & responseP.status_code == 200 & responseO.status_code == 200 & responseW.status_code == 200 & responseE.status_code == 200 & responseR.status_code == 200 & responsepop.status_code == 200:\n",
        "    print(\"Data was retrieved\")\n",
        "else:\n",
        "    print(\"There was an error retrieving the data\")"
      ]
    },
    {
      "cell_type": "code",
      "execution_count": null,
      "metadata": {
        "id": "Qeqn3XjMu01I"
      },
      "outputs": [],
      "source": [
        "# Create a panda's DataFrame for global smoking rates:\n",
        "\n",
        "# Set empty arrays to append data into:\n",
        "sr_value = [] # For rates\n",
        "sr_time = [] # For years\n",
        "\n",
        "# Loop through the API data and append data to the empty arrays\n",
        "for i in json_data_rate[\"value\"]:\n",
        "    if i[\"Dim1\"] == \"SEX_BTSX\":  # Data for both sexes together\n",
        "        sr_value.append(i[\"NumericValue\"])\n",
        "        sr_time.append(i['TimeDimensionValue'])\n",
        "\n",
        "# Create lists for the data and for the column labels needed in the DataFrame\n",
        "data = list(zip(sr_time, sr_value))\n",
        "label = [\"Year\", \"Smoking Rate\"]\n",
        "\n",
        "#Create the DataFrame\n",
        "df_rate = pd.DataFrame(data, columns = label)\n",
        "# Turn the data into numeric values for calculations to be performed and graphs produced\n",
        "df_rate = df_rate.apply(pd.to_numeric, errors='coerce')\n",
        "# Set the year as the DataFrame's index\n",
        "df_rate = df_rate.set_index(\"Year\")\n",
        "# Check the result\n",
        "#df_rate"
      ]
    },
    {
      "cell_type": "code",
      "execution_count": null,
      "metadata": {
        "id": "i1nEgndtu01I"
      },
      "outputs": [],
      "source": [
        "# Create a panda's DataFrame for population data:\n",
        "\n",
        "# Set empty arrays to append data into\n",
        "indexpop = [] # For the country code\n",
        "valuepop = [] # For the population\n",
        "\n",
        "# Loop through API data and append values to the empty arrays\n",
        "for i in json_data_pop[\"value\"]:\n",
        "    indexpop.append(i[\"SpatialDim\"])\n",
        "    valuepop.append(i[\"Value\"])\n",
        "\n",
        "# Create lists for the data and for the column labels needed in the DataFrame\n",
        "data = list(zip(indexpop, valuepop))\n",
        "label = [\"Code\", \"Population\"]\n",
        "\n",
        "# Create the DataFrame\n",
        "df_pop = pd.DataFrame(data, columns = label)\n",
        "\n",
        "# Clean the spaces out of the numerical data in order to be able to use it for a calculation\n",
        "df_pop['Population'] = df_pop['Population'].str.replace(' ', '')\n",
        "\n",
        "# Turn the population value into an integer so it can be used for a calculation\n",
        "df_pop[\"Population\"] = pd.to_numeric(df_pop[\"Population\"])\n",
        "\n",
        "# Set the Code column to the DataFrame index\n",
        "df_pop = df_pop.set_index(\"Code\")\n",
        "# Check the result\n",
        "# df_pop"
      ]
    },
    {
      "cell_type": "code",
      "execution_count": null,
      "metadata": {
        "id": "di6T2mdYu01I"
      },
      "outputs": [],
      "source": [
        "# Calculate the total global population and save in a variable for use in the weighted mean calculation\n",
        "total_pop = sum(df_pop[\"Population\"])\n",
        "total_pop"
      ]
    },
    {
      "cell_type": "code",
      "execution_count": null,
      "metadata": {
        "id": "BlVarDBnu01I"
      },
      "outputs": [],
      "source": [
        "# Create a panda's DataFrame for MPOWER data:\n",
        "\n",
        "# Set empty arrays to append data into:\n",
        "mpower_index = [] # For the country code\n",
        "mpower_time = [] # For the year\n",
        "mpower_value = [] # For the value\n",
        "\n",
        "# Create a list of all files to append data for:\n",
        "List_of_json = [json_data_M, json_data_P, json_data_O, json_data_W, json_data_E, json_data_R]\n",
        "\n",
        "for i in List_of_json:\n",
        "    for j in i[\"value\"]:\n",
        "        mpower_index.append(j[\"SpatialDim\"])\n",
        "        mpower_time.append(j[\"TimeDimensionValue\"])\n",
        "        mpower_value.append(j[\"Value\"])\n",
        "\n",
        "# Create lists for the data and for the column labels needed in the DataFrame\n",
        "data = list(zip(mpower_index, mpower_time, mpower_value))\n",
        "label = [\"Code\", \"Year\", \"Value\"]\n",
        "\n",
        "# Create the DataFrame\n",
        "df_MPOWER = pd.DataFrame(data, columns = label)\n",
        "# Replace \"Not applicable\" with 1 - the lowest level possible\n",
        "df_MPOWER = df_MPOWER.replace(\"Not applicable\", 1)\n",
        "\n",
        "# Turn column \"Value\" into numeric to be able to calculate the mean\n",
        "df_MPOWER[\"Value\"] = df_MPOWER[\"Value\"].apply(pd.to_numeric, errors='coerce')\n",
        "\n",
        "# Create a DataFrame of a pivot table to get the total MPOWER score for each country\n",
        "df_MPOWER_pivot = pd.DataFrame(df_MPOWER.pivot_table(values='Value', index=\"Code\", columns = \"Year\", aggfunc = np.sum))\n",
        "# Check the result\n",
        "# df_MPOWER_pivot\n"
      ]
    },
    {
      "cell_type": "code",
      "execution_count": null,
      "metadata": {
        "id": "shwJrcmxu01I"
      },
      "outputs": [],
      "source": [
        "# Merge pivot tables with population\n",
        "# Inner merge used in order to only have data where there is a poplulation number\n",
        "merged_dataframe = pd.merge(df_pop, df_MPOWER_pivot, left_index=True, right_index=True, how='inner')\n",
        "# merged_dataframe"
      ]
    },
    {
      "cell_type": "code",
      "execution_count": null,
      "metadata": {
        "id": "6J0xdZptu01I"
      },
      "outputs": [],
      "source": [
        "# Multiply population by MPOWER score for the weighted mean calculation:\n",
        "\n",
        "# Create a list of the years\n",
        "df_MPOWER_pivot_columns = list(df_MPOWER_pivot.columns)\n",
        "\n",
        "# Loop through the columns and multiply population by total MPOWER score\n",
        "for i in df_MPOWER_pivot_columns:\n",
        "    merged_dataframe[i] = merged_dataframe[i] * merged_dataframe[\"Population\"]\n",
        "# merged_dataframe"
      ]
    },
    {
      "cell_type": "code",
      "execution_count": null,
      "metadata": {
        "id": "mPLt5CEpu01J"
      },
      "outputs": [],
      "source": [
        "# Add up each column in the table\n",
        "\n",
        "# Set empty arrays to append data into:\n",
        "total_year = []\n",
        "total_mean = []\n",
        "\n",
        "# Loop through the and append the weighted mean to the empty arrays\n",
        "for i in df_MPOWER_pivot_columns:\n",
        "    total_year.append(i)\n",
        "    total_mean.append(merged_dataframe[i].sum()/total_pop)\n",
        "\n",
        "# Create lists for the data needed in the DataFrame\n",
        "data = list(zip(total_year, total_mean))\n",
        "\n",
        "# Create a DataFrame of the weighted mean by year\n",
        "mean_by_year = pd.DataFrame(data, columns = [\"Year\", \"Weighted Mean MPOWER\"])\n",
        "# Turn all data into numeric values in order to plot them on the graph\n",
        "mean_by_year = mean_by_year.apply(pd.to_numeric, errors='coerce')\n",
        "# Set year as the index to merge with smoking rates\n",
        "mean_by_year = mean_by_year.set_index(\"Year\")\n",
        "# Check the DataFrame\n",
        "# mean_by_year"
      ]
    },
    {
      "cell_type": "code",
      "execution_count": null,
      "metadata": {
        "id": "Q3-9oj4Cu01J"
      },
      "outputs": [],
      "source": [
        "# Merge weighted mean with smoking rate\n",
        "# Use outer merge as we want to plot data for all of the years\n",
        "merged_rate_MPOWER = pd.merge(mean_by_year, df_rate, left_index=True, right_index=True, how='outer')\n",
        "# Drop future years and past years without MPOWER data\n",
        "cleaned_merged_rate_MPOWER = merged_rate_MPOWER.drop([2000, 2005,2025, 2030])\n",
        "# Check result\n",
        "# cleaned_merged_rate_MPOWER"
      ]
    },
    {
      "cell_type": "markdown",
      "metadata": {
        "id": "XZf63K3Bu01J"
      },
      "source": [
        "#### Calculate the Correlation"
      ]
    },
    {
      "cell_type": "code",
      "execution_count": null,
      "metadata": {
        "id": "NDamYK0yu01J"
      },
      "outputs": [],
      "source": [
        "# Calculate the correlation\n",
        "print(merged_rate_MPOWER.corr())"
      ]
    },
    {
      "cell_type": "markdown",
      "metadata": {
        "id": "zie6_RCOu01J"
      },
      "source": [
        "#### Plot the relationship"
      ]
    },
    {
      "cell_type": "code",
      "execution_count": null,
      "metadata": {
        "id": "R-BQZ89Hu01J"
      },
      "outputs": [],
      "source": [
        "# Create a mask to smooth the data into a line as not all years have data\n",
        "ratemask = np.isfinite(cleaned_merged_rate_MPOWER[\"Smoking Rate\"])\n",
        "MPOWERmask = np.isfinite(cleaned_merged_rate_MPOWER[\"Weighted Mean MPOWER\"])\n",
        "\n",
        "# Create the plot and set the axis values\n",
        "sns.set_theme(style=\"whitegrid\", palette=\"plasma\")\n",
        "fig, ax1 = plt.subplots()\n",
        "plt.xlim(2008, 2022)\n",
        "plt.ylim(18, 23)\n",
        "\n",
        "# Plot the MPOWER values\n",
        "ax1.set_xlabel('Year')\n",
        "ax1.set_ylabel('MPOWER Weighted Average Mean')\n",
        "ax1.plot(cleaned_merged_rate_MPOWER[\"Weighted Mean MPOWER\"][MPOWERmask], lw = 3)\n",
        "ax1.tick_params(axis ='y')\n",
        "\n",
        "\n",
        "# Adding Twin Axes to plot smoking rates\n",
        "ax2 = ax1.twinx()\n",
        "ax2.set_ylabel('Global Smoking Rate (%)')\n",
        "ax2.plot(cleaned_merged_rate_MPOWER[\"Smoking Rate\"][ratemask], lw=3)\n",
        "ax2.tick_params(axis ='y')\n",
        "\n",
        "# Adding title\n",
        "# plt.title('MPOWER Measures and Smoking Rates over Time')\n",
        "\n",
        "# Show plot\n",
        "plt.show()\n",
        "plt.clf()"
      ]
    },
    {
      "cell_type": "markdown",
      "source": [
        ">> Need to work out how to add figure numbers to these, so we can refer to them through the notebook."
      ],
      "metadata": {
        "id": "zSWuZAinz71U"
      }
    },
    {
      "cell_type": "markdown",
      "metadata": {
        "id": "lmWctyf8u01J"
      },
      "source": [
        "#### Conclusion\n",
        "The data shows that there is a clear correlation globally between the number of measures in place to reduce demand for tobacco and the smoking rate.\n",
        "This demonstrates that there is evidence that increasing the measures in place to reduce demand for tobacco products reduces smoking rates."
      ]
    },
    {
      "cell_type": "markdown",
      "metadata": {
        "id": "nYb5m7N2u01J"
      },
      "source": [
        "### Analysis One: How have smoking rates changed in the UK"
      ]
    },
    {
      "cell_type": "markdown",
      "metadata": {
        "id": "za_iet_Bu01J"
      },
      "source": [
        "The next step in our analysis was to determine if this global trend was also seen in the UK.\n",
        "Over the last twenty years there has been increasing legal measures implemented by successive UK governments to reduce the rate of smoking.\n",
        "A summary of these measures are outlined below:"
      ]
    },
    {
      "cell_type": "markdown",
      "metadata": {
        "id": "iA7LSCr4u01J"
      },
      "source": [
        "#### Timeline of key government legislation and regulation\n",
        "\n",
        "<img src=\"https://github.com/rhobaker/Data_Project/blob/main/Smoking_actions_timeline.png?raw=true\" width=\"900\" height=\"450\"/>"
      ]
    },
    {
      "cell_type": "markdown",
      "source": [
        ">> Add figure number"
      ],
      "metadata": {
        "id": "v0V0GXeL0HyM"
      }
    },
    {
      "cell_type": "markdown",
      "metadata": {
        "id": "ZG_1kVzhu01J"
      },
      "source": [
        "Reference: https://news.cancerresearchuk.org/2023/03/07/ending-smoking-could-free-up-gp-appointments/"
      ]
    },
    {
      "cell_type": "markdown",
      "source": [
        "### Analysis One:  Changes in UK smoking rates"
      ],
      "metadata": {
        "id": "6JKMb5hZ1_ma"
      }
    },
    {
      "cell_type": "code",
      "source": [],
      "metadata": {
        "id": "kk7s5PrClPRp"
      },
      "execution_count": null,
      "outputs": []
    },
    {
      "cell_type": "markdown",
      "source": [
        "Our first task was to examine how the UK smoking rate has changed overtime, so it could be compared to other factors.\n",
        "To do this we took data from the ONS Smoking Habits in the UK dataset.  We restricted this to the years from 2000 to 2019 as these are the years when the majority of government intervention has been seen."
      ],
      "metadata": {
        "id": "2uK2W7Nwh0Tg"
      }
    },
    {
      "cell_type": "code",
      "source": [
        "url = (\"https://raw.githubusercontent.com/rhobaker/Data_Project/main/ONS_adult_smoking_habits_in_great_britain/Table_1a-Table_1_cleaned.csv\")\n",
        "smokers = pd.read_csv(url)\n",
        "smokers.drop(['Unnamed: 0'], axis=1, inplace=True)\n",
        "#Getting relevant columns for visualisation\n",
        "adults=smokers[[\"Year\", \"All 16+\"]]\n",
        "#Reversing the columns so that both datasets match\n",
        "adults_reversed = adults.iloc[::-1]\n",
        "adults_reversed\n",
        "#Further qualifying the data so only data from the years 2000 is selected\n",
        "adults_2000 = adults_reversed.iloc[13:33]\n",
        "adults_2000 = adults_2000.reset_index()\n",
        "adults_2000.drop(['index'], axis=1, inplace=True)\n",
        "adults_2000.set_index(\"Year\", inplace = True)\n",
        "adults_2000.rename(columns={\"All 16+\": 'Smoking Rate'}, inplace=True)\n",
        "# adults_2000"
      ],
      "metadata": {
        "id": "TB6WYA5h2Jxa"
      },
      "execution_count": null,
      "outputs": []
    },
    {
      "cell_type": "code",
      "source": [
        "# Set the aesthetic style of the plots\n",
        "sns.set_theme(style=\"whitegrid\", palette=\"plasma\")\n",
        "\n",
        "plt.figure(figsize=(9, 6))\n",
        "plt.plot(adults_2000[\"Smoking Rate\"], lw=3)\n",
        "plt.xticks([2000,2002,2004,2006,2008,2010,2012, 2014, 2016, 2018, 2020])\n",
        "plt.xlabel(\"Year\")\n",
        "plt.ylabel(\"Smoking Rate %\")\n",
        "plt.title(\"Smoking rate in the UK population over time\")\n",
        "\n",
        "#Set annotations\n",
        "x, x1, x2, x3=2003, 2007, 2012, 2015\n",
        "l1, l2, l3, l4=\"Ad restrictions\\nLarger pack warnings\", \"Indoor smoking ban\", \"PoS display\\n restrictions\", \"All displays ban\\nCar smoking ban\"\n",
        "aps = dict(facecolor ='k', shrink = 0.05)\n",
        "\n",
        "\n",
        "plt.annotate(l1, xy =(x, 26),\n",
        "                xytext =(x-2.2, 24),\n",
        "                arrowprops = aps, fontsize=8)\n",
        "\n",
        "plt.annotate(l2, xy =(x1, 20.9),\n",
        "                xytext =(x1-2, 19.5),\n",
        "                arrowprops = aps, fontsize=8)\n",
        "\n",
        "plt.annotate(l3, xy =(x2, 20.3),\n",
        "                xytext =(x2-2, 18.5),\n",
        "                arrowprops = aps, fontsize=8)\n",
        "\n",
        "plt.annotate(l4, xy =(x3, 18),\n",
        "                xytext =(x3+1, 19),\n",
        "                arrowprops = aps, fontsize=8)\n",
        "\n",
        "\n",
        "plt.show()\n",
        "plt.clf()"
      ],
      "metadata": {
        "id": "cG2gqmxm3ywW"
      },
      "execution_count": null,
      "outputs": []
    },
    {
      "cell_type": "markdown",
      "source": [
        "It can be seen that the smoking rate has decreased from over 25% of the population in 2000 to just under 16% in 2019.  This has co-incided with the increase in legistation as described in Figure XX.  This is a reduction of around (58.89m x 27%) 15.9 million people in 2000 to (66.80m x 15.8%) around 10.6 million people in 2019, a fall of around 5.3 million people.\n",
        "\n",
        "Ref: https://www.ons.gov.uk/peoplepopulationandcommunity/populationandmigration/populationestimates/datasets/populationestimatestimeseriesdataset\n",
        "\n",
        "Our next step was to analyse what factors may be involved in this decline, in order to predict how any future changes may impact on this trend in the smoking rate."
      ],
      "metadata": {
        "id": "JECse_7ViGtX"
      }
    },
    {
      "cell_type": "markdown",
      "source": [
        "## Analysis Three: Taxation on tobacco\n",
        "\n",
        "One of the ways in which governments have attempted to reduce smoking rates is through raising taxes on tobacco.\\\n",
        "The analysis below shows how taxation on tobacco has changed to in an attempt to curb smoking. Below is an analysis of the average price of a King size pack ( 20 cigarette pack) since 2000 to now and the change in taxation during this time. Important note: pre 20 May 2017, cigarette ad valorem (%) and specific £ per 1000 sticks were used to calculate duty. Post 20 May 2017, the excise duty on cigarettes is equal to the higher of either the specific £ per 1000 sticks plus 16.5% of retail price or the minimum excise tax £ per 1000 sticks.\n"
      ],
      "metadata": {
        "id": "i83DnnCxH7Su"
      }
    },
    {
      "cell_type": "markdown",
      "source": [
        "To understand how this has impacted on the price of a packet of cigarettes we then analysed the amount of duty paid on 20 cigarettes from 2000 to 2022."
      ],
      "metadata": {
        "id": "oZBddpkCvXxm"
      }
    },
    {
      "cell_type": "code",
      "source": [
        "# Load the CSV files\n",
        "pre_may_2017_df = pd.read_csv('https://raw.githubusercontent.com/rhobaker/Data_Project/main/Historical%20Tobacco%20Duty%20rates/clean_historical_tobacco_duty_pre_may_2017.csv')\n",
        "post_may_2017_df = pd.read_csv('https://raw.githubusercontent.com/rhobaker/Data_Project/main/Historical%20Tobacco%20Duty%20rates/clean_historical_tobacco_duty_post_may_2017.csv')"
      ],
      "metadata": {
        "id": "9te-BAmQr6KU"
      },
      "execution_count": null,
      "outputs": []
    },
    {
      "cell_type": "code",
      "source": [
        "price_url = 'https://raw.githubusercontent.com/rhobaker/Data_Project/main/ONS_av_price_cigarettes_king_size_filter/Cleaned_ONS_av_price_cigarettes_king_size_filterce_cigarettes_king_size.csv'\n",
        "price = pd.read_csv(price_url)"
      ],
      "metadata": {
        "id": "baFR4wFzr9Ai"
      },
      "execution_count": null,
      "outputs": []
    },
    {
      "cell_type": "code",
      "source": [
        "vat_url = 'https://raw.githubusercontent.com/rhobaker/Data_Project/main/Historical%20Tobacco%20Duty%20rates/IFS%20historic%20VAT%20-%20Sheet1.csv'\n",
        "vat = pd.read_csv(vat_url)"
      ],
      "metadata": {
        "id": "PoHg870Nr_cV"
      },
      "execution_count": null,
      "outputs": []
    },
    {
      "cell_type": "code",
      "source": [
        "# Drop columns no longer needed\n",
        "vat = vat.drop(columns=['Reducedb', 'Highera', 'Registration threshold']).reset_index()"
      ],
      "metadata": {
        "id": "tirn9PhtdQ32"
      },
      "execution_count": null,
      "outputs": []
    },
    {
      "cell_type": "code",
      "source": [
        "# Extract the first year from the 'Year' column and convert to integer\n",
        "vat['Start Year'] = vat['Year'].str.split('-').str[0].astype(int)\n",
        "vat = vat[vat['Start Year'] >= 2000].reset_index()\n",
        "vat = vat.drop(columns=['index', 'level_0'])"
      ],
      "metadata": {
        "id": "IjVwHtBjdS4n"
      },
      "execution_count": null,
      "outputs": []
    },
    {
      "cell_type": "code",
      "source": [
        "# Strip the last character from the 'standard' column at index 8 and 9\n",
        "for index in [8, 9]:\n",
        "    if vat.at[index, 'Standard'].endswith('f'):\n",
        "        vat.at[index, 'Standard'] = vat.at[index, 'Standard'][:-1]"
      ],
      "metadata": {
        "id": "4Sv54315dVsz"
      },
      "execution_count": null,
      "outputs": []
    },
    {
      "cell_type": "code",
      "source": [
        "price['Price in £'] = price['Pence'] / 100\n",
        "price = price[price['year'] >= 2000].reset_index()\n",
        "price = price.drop(columns=['index'])"
      ],
      "metadata": {
        "id": "QclkZwW0dZgw"
      },
      "execution_count": null,
      "outputs": []
    },
    {
      "cell_type": "code",
      "source": [
        "# Ensure 'Date' columns are datetime types\n",
        "# Ensure 'Date of change' columns are datetime types without converting parsing errors to NaT\n",
        "pre_may_2017_df['Date of change'] = pd.to_datetime(pre_may_2017_df['Date of change'], format='%Y-%m-%d')\n",
        "post_may_2017_df['Date of change'] = pd.to_datetime(post_may_2017_df['Date of change'], format='%Y-%m-%d')"
      ],
      "metadata": {
        "id": "uzf3CtpQsd-x"
      },
      "execution_count": null,
      "outputs": []
    },
    {
      "cell_type": "code",
      "source": [
        "#Drop columns not needed\n",
        "pre_may_2017_df.drop(columns=['Cigars £ per kg', 'HRT £ per kg', 'Other £ per kg'], inplace=True)\n",
        "post_may_2017_df.drop(columns=['Cigars £ per kg', 'HRT £ per kg', 'Other £ per kg', 'TfH £ per kg'], inplace=True)\n"
      ],
      "metadata": {
        "id": "XVTNFj13sh8J"
      },
      "execution_count": null,
      "outputs": []
    },
    {
      "cell_type": "code",
      "source": [
        "#Combine the two dataframes\n",
        "combined_df = pd.concat([pre_may_2017_df, post_may_2017_df]).sort_values(by='Date of change').reset_index(drop=True)"
      ],
      "metadata": {
        "id": "OZb4l8B_sj9h"
      },
      "execution_count": null,
      "outputs": []
    },
    {
      "cell_type": "code",
      "source": [
        "# Convert 'Date of change' to datetime format\n",
        "combined_df['Date of change'] = pd.to_datetime(combined_df['Date of change'])\n",
        "\n",
        "# Drop rows where the year is earlier than 2000\n",
        "combined_df = combined_df[combined_df['Date of change'].dt.year >= 2000].reset_index()"
      ],
      "metadata": {
        "id": "lyBmRRGJdu6p"
      },
      "execution_count": null,
      "outputs": []
    },
    {
      "cell_type": "code",
      "source": [
        "# Extract year from 'Date of change' column in combined_df\n",
        "combined_df['Year'] = combined_df['Date of change'].dt.year\n",
        "\n",
        "# Merge price with combined_df based on year and align prices\n",
        "combined_df = combined_df.merge(price, how='left', left_on='Year', right_on='year')\n",
        "\n",
        "# Create 'Retail price of King size pack in £' column\n",
        "combined_df['Retail price of King size pack in £'] = np.where(combined_df['Year'] == combined_df['year'], combined_df['Price in £'], np.nan)\n",
        "\n",
        "combined_df.drop(columns=['year', 'Price in £', 'Pence', 'Year'], inplace=True)"
      ],
      "metadata": {
        "id": "T10jPtj_1PJW"
      },
      "execution_count": null,
      "outputs": []
    },
    {
      "cell_type": "code",
      "source": [
        "# Extracting year from 'Date of change' in combined_df\n",
        "combined_df['When'] = combined_df['Date of change'].dt.year\n",
        "\n",
        "# Merging combined_df and VAT\n",
        "combined_df = combined_df.merge(vat, how='left', left_on='When', right_on='Start Year')\n",
        "\n",
        "# Creating 'VAT' column based on condition\n",
        "combined_df['VAT'] = np.where(combined_df['When'] == combined_df['Start Year'], combined_df['Standard'], np.nan)"
      ],
      "metadata": {
        "id": "1X-SMT9reRrc"
      },
      "execution_count": null,
      "outputs": []
    },
    {
      "cell_type": "code",
      "source": [
        "# Dropping unnecessary columns\n",
        "combined_df.drop(columns=['When', 'Start Year', 'Standard'], inplace=True)\n"
      ],
      "metadata": {
        "id": "AGHIMfucfVXn"
      },
      "execution_count": null,
      "outputs": []
    },
    {
      "cell_type": "code",
      "source": [
        "def calculate_duty(date, cigarettes_per_pack):\n",
        "\n",
        "    # Get the retail price for the given date\n",
        "    retail_price = combined_df.loc[combined_df['Date of change'] == date, 'Retail price of King size pack in £'].iloc[0]\n",
        "    # Check if the retail price is NaN\n",
        "    if pd.isna(retail_price):\n",
        "        return np.nan\n",
        "    if date < pd.to_datetime('2017-05-20'):\n",
        "        # Historical duty pre-May 2017\n",
        "        if not pre_may_2017_df.empty:\n",
        "            pre_may_rows = pre_may_2017_df[pre_may_2017_df['Date of change'] <= date]\n",
        "            if not pre_may_rows.empty:\n",
        "                row = pre_may_rows.iloc[-1]\n",
        "                specific_duty_per_pack = (row['Specific £ per 1000 sticks'] / 1000) * cigarettes_per_pack  # Adjusted duty for a pack\n",
        "                ad_valorem_percentage = pd.to_numeric(row['Cigarettes ad valorem (%)'], errors='coerce')\n",
        "                # Calculate the percentage duty for a pack\n",
        "                percentage_duty = (ad_valorem_percentage / 100) * retail_price\n",
        "                # Total duty for a pack\n",
        "                total_duty = percentage_duty + specific_duty_per_pack\n",
        "            else:\n",
        "                total_duty = 0  # No historical data available\n",
        "        else:\n",
        "            total_duty = 0  # No historical data available\n",
        "    else:\n",
        "        # Duty post-May 2017\n",
        "        if not post_may_2017_df.empty:\n",
        "            post_may_rows = post_may_2017_df[post_may_2017_df['Date of change'] <= date]\n",
        "            if not post_may_rows.empty:\n",
        "                row = post_may_rows.iloc[-1]\n",
        "                specific_duty_per_pack = (row['Specific £ per 1000 sticks'] / 1000) * cigarettes_per_pack  # Adjusted duty for a pack\n",
        "                minimum_excise_tax_per_pack = (row['Minimum excise tax £ per 1000 sticks'] / 1000) * cigarettes_per_pack  # Adjusted column name here\n",
        "                ad_valorem_percentage = pd.to_numeric(row['Cigarettes ad valorem (%)'], errors='coerce')\n",
        "                # Calculate the percentage duty for a pack\n",
        "                percentage_duty = (ad_valorem_percentage / 100) * retail_price\n",
        "                # Total duty for a pack using specific duty plus percentage\n",
        "                total_duty_1 = percentage_duty + specific_duty_per_pack\n",
        "                # Total duty for a pack using minimum excise tax\n",
        "                total_duty_2 = minimum_excise_tax_per_pack\n",
        "                # Take the higher of the two total duties\n",
        "                if total_duty_1 > total_duty_2:\n",
        "                    total_duty = round(total_duty_1, 2)\n",
        "                else:\n",
        "                    total_duty = round(total_duty_2, 2)\n",
        "            else:\n",
        "                total_duty = 0  # No post-May 2017 data available\n",
        "        else:\n",
        "            total_duty = 0  # No post-May 2017 data available\n",
        "    return round(total_duty,2)"
      ],
      "metadata": {
        "id": "XWOQO2l0sm5V"
      },
      "execution_count": null,
      "outputs": []
    },
    {
      "cell_type": "code",
      "source": [
        "combined_df['Duty'] = combined_df['Date of change'].apply(lambda x: calculate_duty(x, 20))"
      ],
      "metadata": {
        "id": "vbtL8LvEsrFO"
      },
      "execution_count": null,
      "outputs": []
    },
    {
      "cell_type": "code",
      "source": [
        "combined_df['VAT Amount'] = round((combined_df['Retail price of King size pack in £'] / (1 + (pd.to_numeric(combined_df['VAT'], errors='coerce')/100))) * (pd.to_numeric(combined_df['VAT'], errors='coerce')/100),2)"
      ],
      "metadata": {
        "id": "D6M42fWPgKMq"
      },
      "execution_count": null,
      "outputs": []
    },
    {
      "cell_type": "code",
      "source": [
        "combined_df['Total tax'] = round(combined_df['Duty'] + combined_df['VAT Amount'],2)"
      ],
      "metadata": {
        "id": "nWIB-ruHgMrm"
      },
      "execution_count": null,
      "outputs": []
    },
    {
      "cell_type": "code",
      "source": [
        "# Plotting the duty over time\n",
        "plt.figure(figsize=(12, 6))\n",
        "plt.plot(combined_df['Date of change'], combined_df['Total tax'], label='Duty on a 20-pack of Cigarettes', color='tab:blue')\n",
        "plt.xlabel('Year')\n",
        "plt.ylabel('Total tax per King size pack (£)')\n",
        "plt.title('Duty on a 20-pack of Cigarettes Over Time')\n",
        "plt.legend()\n",
        "plt.grid(True)\n",
        "plt.show()"
      ],
      "metadata": {
        "id": "txRGm2eigXwe"
      },
      "execution_count": null,
      "outputs": []
    },
    {
      "cell_type": "code",
      "source": [
        "plt.figure(figsize=(12, 6))\n",
        "plt.plot(price['year'], price['Price in £'], label='Duty on a 20-pack of Cigarettes', color='tab:red')\n",
        "plt.xlabel('Year')\n",
        "plt.ylabel('Price in £')\n",
        "plt.title('Average price of King size pack of cigarettes (20 cigarettes)')\n",
        "plt.legend()\n",
        "plt.grid(True)\n",
        "plt.show()"
      ],
      "metadata": {
        "id": "prkLe0gPga5p"
      },
      "execution_count": null,
      "outputs": []
    },
    {
      "cell_type": "markdown",
      "source": [
        "## Conclusions\n",
        "\n",
        "+ The data showcases a sharp rise in both taxes and the average price of a King size pack.\n",
        "+ From the data, it can be inferred that this has a two-fold effect on smoking. Firstly, it deters heavy smoking due to the financial burden regular and excessive smoking incurs. Secondly, the lower profit margin as well as the social stigma towards smoking makes the tobacco industry less appealing for investors.\n",
        "+ Analysis Four goes into further detail how affordability affects smoking prevalence."
      ],
      "metadata": {
        "id": "ZpMz9V6WEPM1"
      }
    },
    {
      "cell_type": "markdown",
      "source": [
        "### Analysis Four:  The effect of affordability of tobacco on smoking prevalence\n",
        "\n"
      ],
      "metadata": {
        "id": "ogRVZIKnIAMT"
      }
    },
    {
      "cell_type": "markdown",
      "source": [
        "To understand how this has impacted on the affordability of tobacco products, we then analysed NHS publicly available datasets on the affordability of tobacco in England to see how this increase in tax has impacted it."
      ],
      "metadata": {
        "id": "r75MMioxuJzt"
      }
    },
    {
      "cell_type": "markdown",
      "source": [
        "#### Import NHS affordability of tobacco dataset"
      ],
      "metadata": {
        "id": "2AFbaZbzIBmj"
      }
    },
    {
      "cell_type": "code",
      "source": [
        "afford_url = 'https://raw.githubusercontent.com/rhobaker/Data_Project/main/NHS_smoking_eng_2020/Table_S.3.1-Table_1_cleaned.csv'\n",
        "\n",
        "affordability = pd.read_csv(afford_url)\n",
        "affordability.drop(['Unnamed: 0'], axis=1, inplace=True)\n",
        "#Getting relevant columns for visualisation\n",
        "affordability=affordability[[\"Year\",\"Tobacco Price Index\", \"Retail Price Index\", \"Tobacco Affordability Index\"]]\n",
        "#Further qualifying the data so only data from the years 2000 is selected\n",
        "affordability_2000 = affordability.iloc[13:33]\n",
        "affordability_2000.set_index(\"Year\", inplace = True)\n",
        "# affordability_2000"
      ],
      "metadata": {
        "id": "ASJAw_M0JgkS"
      },
      "execution_count": null,
      "outputs": []
    },
    {
      "cell_type": "markdown",
      "source": [
        "These numbers show that in the years from 2000 to 2019 the price of tobacco (the Tobacco Price Index) has increased by 190% ((786.1-270.4)/270.4).  In comparison, the price of other goods has only increased by 70% ((288.8-170.3)/170.3).  As a result tobacco has become 28% less affordable ((93.7-67.3)/93.7)."
      ],
      "metadata": {
        "id": "_IxHAb_YIRw8"
      }
    },
    {
      "cell_type": "markdown",
      "source": [
        "To analyse these numbers further, we have compared the affordability of tobacco to the smoking rate."
      ],
      "metadata": {
        "id": "OojRxcfaIVFf"
      }
    },
    {
      "cell_type": "code",
      "source": [
        "#Getting relevant columns for visualisation\n",
        "adults=smokers[[\"Year\", \"All 16+\"]]\n",
        "#Reversing the columns so that both datasets match\n",
        "adults_reversed = adults.iloc[::-1]\n",
        "adults_reversed\n",
        "#Further qualifying the data so only data from the years 2000 is selected\n",
        "adults_2000 = adults_reversed.iloc[13:33]\n",
        "adults_2000 = adults_2000.reset_index()\n",
        "adults_2000.drop(['index'], axis=1, inplace=True)\n",
        "adults_2000.set_index(\"Year\", inplace = True)\n",
        "#adults_2000\n"
      ],
      "metadata": {
        "id": "cVzmrs_RBzIo"
      },
      "execution_count": null,
      "outputs": []
    },
    {
      "cell_type": "code",
      "source": [
        "expend_url = 'https://raw.githubusercontent.com/rhobaker/Data_Project/main/NHS_smoking_eng_2020/Table_S.3.2-Table_1_cleaned.csv'\n",
        "expenditure = pd.read_csv(expend_url)\n",
        "expenditure.drop(['Unnamed: 0'], axis=1, inplace=True)\n",
        "expenditure.set_index(\"Year\", inplace = True)\n",
        "#expenditure"
      ],
      "metadata": {
        "id": "Wyc6DHSeMWRG"
      },
      "execution_count": null,
      "outputs": []
    },
    {
      "cell_type": "code",
      "source": [
        "# Merge datasets\n",
        "merged_datasets = pd.DataFrame(pd.merge(adults_2000, affordability_2000, left_index=True, right_index=True, how='inner'))\n",
        "merged_datasets.rename(columns={\"All 16+\": 'Smoking Rate'}, inplace=True)\n",
        "merged_all_datasets = pd.DataFrame(pd.merge(merged_datasets, expenditure, left_index=True, right_index=True, how='inner'))"
      ],
      "metadata": {
        "id": "AY_2LdCAFRPe"
      },
      "execution_count": null,
      "outputs": []
    },
    {
      "cell_type": "markdown",
      "source": [
        "### Affordability and Proportion of Smokers"
      ],
      "metadata": {
        "id": "w3lehIbGIZCh"
      }
    },
    {
      "cell_type": "code",
      "source": [
        "#Correlation coefficient\n",
        "smoke_rate_afford_corr = np.corrcoef(merged_datasets[\"Smoking Rate\"], merged_datasets[\"Tobacco Affordability Index\"])\n",
        "smoke_rate_afford_corr"
      ],
      "metadata": {
        "id": "07pdEdEhjhn9"
      },
      "execution_count": null,
      "outputs": []
    },
    {
      "cell_type": "markdown",
      "source": [
        "There is a strong correlation between the affordability of tobacco and the smoking rate.  As tobacco becomes less affordable, the smoking rate decreases."
      ],
      "metadata": {
        "id": "OQrhUpTBkBB8"
      }
    },
    {
      "cell_type": "code",
      "source": [
        "#Create a visualisation to compare the proportion of cigarette smokers vs the affordability of tobacco\n",
        "sns.set_theme(style=\"whitegrid\", palette=\"plasma\")\n",
        "fig, ax3 = plt.subplots()\n",
        "plt.title(\"Comparison of Smoking Rate to Affordability of Tobacco\")\n",
        "ax3.set_xlabel(\"Year\")\n",
        "ax3.set_ylabel(\"Proportion of cigarette smokers (%)\")\n",
        "ax3.tick_params(axis='y')\n",
        "# Plot smoking rate\n",
        "plt.plot(merged_all_datasets['Smoking Rate'], lw=3)\n",
        "plt.xticks([2000,2002,2004,2006,2008,2010,2012,2014,2016,2018])\n",
        "\n",
        "# Adding Twin Axes to plot smoking rates\n",
        "ax4 = ax3.twinx()\n",
        "ax4.set_ylabel(\"Affordability of Tobacco\")\n",
        "plt.plot(merged_all_datasets['Tobacco Affordability Index'], lw=3, color=\"blue\")\n",
        "ax4.tick_params(axis='y')\n",
        "\n",
        "# Show plot\n",
        "plt.show()\n",
        "plt.clf()"
      ],
      "metadata": {
        "id": "LfZGycRGIkB2"
      },
      "execution_count": null,
      "outputs": []
    },
    {
      "cell_type": "markdown",
      "source": [
        "The proportion of cigarette smokers has generally decreased at a relatively steady rate, while the afforability of tobacco is more volatile as it responds to external economic factors."
      ],
      "metadata": {
        "id": "9zf8Xv4H_dN7"
      }
    },
    {
      "cell_type": "markdown",
      "source": [
        "To understand the impact on household expenditure, we also compared the smoking rate to the percentage of household expenditure spent on tobacco."
      ],
      "metadata": {
        "id": "cmJM1ivPN3H2"
      }
    },
    {
      "cell_type": "code",
      "source": [
        "#Correlation coefficient\n",
        "smoke_rate_exp_corr = np.corrcoef(merged_all_datasets[\"Smoking Rate\"], merged_all_datasets[\"Tobacco Expenditure (%)\"])\n",
        "smoke_rate_exp_corr"
      ],
      "metadata": {
        "id": "Atb-eVQVOLEm"
      },
      "execution_count": null,
      "outputs": []
    },
    {
      "cell_type": "markdown",
      "source": [
        "This also shows a clear correlation between the percentage of household expenditure and the declining smoking rate, even as the price of cigarettes increases significantly more than the retail price index."
      ],
      "metadata": {
        "id": "dybgWhssOc7d"
      }
    },
    {
      "cell_type": "code",
      "source": [
        "#Create a visualisation to compare the proportion of cigarette smokers vs the expenditure on tobacco\n",
        "sns.set_theme(style=\"whitegrid\", palette=\"plasma\")\n",
        "fig, ax5 = plt.subplots()\n",
        "plt.title(\"Comparison of Smoking Rate to Tobacco Expenditure\")\n",
        "ax5.set_xlabel(\"Year\")\n",
        "ax5.set_ylabel = \"Proportion of cigarette smokers (%)\"\n",
        "# Plot smoking rate\n",
        "plt.plot(merged_all_datasets['Smoking Rate'], lw=3)\n",
        "\n",
        "\n",
        "ax5.tick_params(axis='y')\n",
        "plt.xticks([2000,2002,2004,2006,2008,2010,2012,2014,2016,2018])\n",
        "\n",
        "# Adding Twin Axes to plot smoking rates\n",
        "ax6 = ax5.twinx()\n",
        "ax6.set_ylabel(\"Tobacco Expenditure %\")\n",
        "plt.plot(merged_all_datasets['Tobacco Expenditure (%)'], lw=3, color=\"blue\")\n",
        "ax6.tick_params(axis='y')\n",
        "\n",
        "# Show plot\n",
        "plt.show()\n",
        "plt.clf()"
      ],
      "metadata": {
        "id": "ibM-A63DKawM"
      },
      "execution_count": null,
      "outputs": []
    },
    {
      "cell_type": "markdown",
      "source": [
        "As with the affordability of tobacco, the expenditure on tobacco appears to be more affected by external factors. Of note is the sharp rise in expenditure from 2008 to 2010, before it begins to fall again from 2012. The most obvious external factor that could affect the UK in 2008 is the recession. This may suggest that those that currently smoked would have an increased tobacco usage during times of stress."
      ],
      "metadata": {
        "id": "X6MfpLtTIm8_"
      }
    },
    {
      "cell_type": "markdown",
      "source": [
        "## Conclusions\n",
        "\n",
        "+ A relatively steady decline in the proportion of smokers in the UK can be seen dating back to 2000.\n",
        "+ The affordability of tobacco has also decreased but is somewhat more volatile and appears to respond to external economic factors. In cases where tobacco is relatively affordable, there is no comparable increase or more limited reduction in the proportion of smokers.\n",
        "+ Household expenditure on tobacco does not reduce at the same rate as the proportion in smokers. We can in fact see an increase in tobacco expenditure from 2008 - 2010, co-inciding with the \"credit crunch\" and recession in 2008 and 2009, despite both the continued reduction of the number of smokers and a sharp drop in tobacco affordability. This suggests that reducing the affordability of tobacco is of limited effectiveness as a measure to reduce the amount of tobacco consumed by those who are pre-existing smokers.\n",
        "+ Increasing the price of tobacco is potentially most effective as a deterrant to prevent people from taking up smoking as a habit. It is of limited effectiveness as a tool to help people quit smoking."
      ],
      "metadata": {
        "id": "bnPs_TJCI7eS"
      }
    },
    {
      "cell_type": "markdown",
      "metadata": {
        "id": "_OKrRyyxu01J"
      },
      "source": [
        "## Analysis Five: Changes in e-cigarette use"
      ]
    },
    {
      "cell_type": "markdown",
      "metadata": {
        "id": "Ws9bp0dru01J"
      },
      "source": [
        "The proposed ban focuses on reducing smoking rates, but also acknowledges the issue of the use of e-cigarettes (a.k.a. vaping). E-cigarettes don't contain tobacco, the key factor causing cancer, they are not risk-free. Although their use is important tool for a less harmful alternative to smoking and tool for quitting, there are concerns of the rate rising to a concerning level, particularly in young people. The NHS recommends that young people should not take up vaping, concerned that vape 'flavours' such as fruit and sweets are more attractive to young people. The long-term side-effects of vaping are still unknown.\n",
        "\n",
        "We analysed e-cigarette rates using ONS datasets, looking at different age group demographics.  \n",
        "\n",
        "#### E-cigarette use by age category\n"
      ]
    },
    {
      "cell_type": "code",
      "execution_count": null,
      "metadata": {
        "id": "ZJj31eSNu01J"
      },
      "outputs": [],
      "source": [
        "#Import vaping dataset\n",
        "url = (\"https://raw.githubusercontent.com/rhobaker/Data_Project/main/ONS_ecigarette_use_in_great_britain/table1abc_cleaned.csv\")\n",
        "\n",
        "vapers = pd.read_csv(url)\n",
        "\n",
        "vapers.drop(['Unnamed: 0'], axis=1, inplace=True)\n",
        "\n",
        "# vapers.head()"
      ]
    },
    {
      "cell_type": "code",
      "execution_count": null,
      "metadata": {
        "id": "FX7oB7OZu01K"
      },
      "outputs": [],
      "source": [
        "#Vapers by age category\n",
        "vapers_ages = vapers[[\"Year\", \"All 16-24\", \"All 25-34\", \"All 35-49\", \"All 50-59\", \"All 60+\"]]\n",
        "\n",
        "#Rename columns for better labels in vis\n",
        "columns = ['Year', '16-24', '25-34', '35-49', '50-59', '60+']\n",
        "vapers_ages.columns = columns\n",
        "\n",
        "#Convert data to long format for seaborn visualisation\n",
        "v_ages_melt = pd.melt(vapers_ages, id_vars=\"Year\")\n",
        "v_ages_melt.head()\n",
        "\n",
        "#Clean up long table\n",
        "v_ages_melt.rename(columns={\"variable\": \"Age_group\", \"value\": \"Proportion\"}, inplace=True)\n",
        "# v_ages_melt.head()"
      ]
    },
    {
      "cell_type": "code",
      "execution_count": null,
      "metadata": {
        "id": "sPQfJ4C5u01K"
      },
      "outputs": [],
      "source": [
        "#Multi-line plot on e-cig use over time by age group\n",
        "plt.figure(figsize=(9, 6))\n",
        "ax7 = sns.lineplot(x='Year', y='Proportion', hue='Age_group', data=v_ages_melt, lw=2, palette='hls')\n",
        "\n",
        "ax7.set(xlabel='Year',\n",
        "       ylabel='Proportion of population (%)',\n",
        "       title='Proportion of UK population as E-cigarette users by age group',)\n",
        "\n",
        "ax7.set_yticks(range(1,17))\n",
        "ax7.set_yticklabels(range(1,17))\n",
        "\n",
        "sns.set_style(\"darkgrid\")\n",
        "\n",
        "plt.legend(title='Age group')\n",
        "plt.show()\n",
        "plt.clf()"
      ]
    },
    {
      "cell_type": "markdown",
      "metadata": {
        "id": "nUt4QYF4u01K"
      },
      "source": [
        "We can see that in all age groups, the e-cigarette usage rate has been increasing over time. Analysing by age group, we can see that:\n",
        "- Ages 35-59 increase steadily\n",
        "- Ages 25-34 increases more quickly over time\n",
        "- Ages 60+ doesn't show much growth, showing that vaping is much less popular with the older generation.\n",
        "- Post 2019 we can see a dramatic increase in the 16-24 age group; where previously this demographic had a lower use than most of the other age categories, there is an extreme growth in the rate.  "
      ]
    },
    {
      "cell_type": "markdown",
      "metadata": {
        "id": "MSVdxmL7u01K"
      },
      "source": [
        "Let's compare e-cigarette rates to smoking rates between age groups to see if there are any patterns, taking a snapshot from the most recent year in the data (2022):\n",
        "\n",
        "#### E-cigarette vs smoking prevalence by age category"
      ]
    },
    {
      "cell_type": "code",
      "execution_count": null,
      "metadata": {
        "id": "mumVcRGku01K"
      },
      "outputs": [],
      "source": [
        "#Extract smokers ages\n",
        "smokers_ages = smokers[['All 16-24', 'All 25-34', 'All 35-49', 'All 50-59', 'All 60+']]\n",
        "#Rename columns for better labels in later vis\n",
        "columns = ['16-24', '25-34', '35-49', '50-59', '60+']\n",
        "smokers_ages.columns = columns\n",
        "#Extract just 2022 smokers\n",
        "smoke22 = smokers_ages.loc[0].to_frame()\n",
        "#Clean up dataframe\n",
        "smoke22.insert(0, 'Type', 'Smokers')\n",
        "smoke22.reset_index(inplace=True)\n",
        "smoke22.rename(columns={\"index\": \"Age_group\", 0: \"Proportion\"}, inplace=True)\n",
        "# smoke22.head()\n",
        "\n",
        "#Extract just 2022 vapers\n",
        "vape22 = vapers_ages.loc[0].to_frame()\n",
        "#Clean up dataframe\n",
        "vape22.insert(0, 'Type', 'Vapers')\n",
        "vape22.reset_index(inplace=True)\n",
        "vape22.rename(columns={\"index\": \"Age_group\", 0: \"Proportion\"}, inplace=True)\n",
        "vape22.drop(0, axis='index', inplace=True)\n",
        "# vape22.head()\n",
        "\n",
        "#Combine vaper and smoker dfs\n",
        "combined22 = pd.concat([smoke22, vape22], ignore_index=True)\n",
        "# combined22.head()"
      ]
    },
    {
      "cell_type": "code",
      "execution_count": null,
      "metadata": {
        "id": "BFxi_CcFu01K"
      },
      "outputs": [],
      "source": [
        "#Bar plot of smoking and e-cig use by age group in 2022\n",
        "\n",
        "plt.figure(figsize=(9, 6))\n",
        "ax8 = sns.barplot(combined22, x=\"Age_group\", y=\"Proportion\", hue=\"Type\", palette='hls')\n",
        "\n",
        "ax8.set(xlabel='Age group',\n",
        "       ylabel='Proportion of population (%)',\n",
        "       title='Proportion of smokers and e-cig users by age group in 2022',)\n",
        "\n",
        "ax8.legend_.set_title(None)\n",
        "plt.show()\n",
        "plt.clf()"
      ]
    },
    {
      "cell_type": "markdown",
      "metadata": {
        "id": "EgcR_wzau01K"
      },
      "source": [
        "Here we can see that smoking rates do not have a clear correlation to vaping rates between age groups. Smoking rates vary between age groups, but vaping has a clear trend of higher use the younger the age group. Therefore younger people are likely to have a higher usage because of the attractiveness of vaping, not just as a tool to quit smoking as their smoking rates are lower than most of the other age groups."
      ]
    },
    {
      "cell_type": "markdown",
      "metadata": {
        "id": "OXFqh4Asu01K"
      },
      "source": [
        "#### E-cigarette device type in youths 17 and under\n",
        "\n",
        "One of the key concerns in recent years is the rise in disposable vapes, particularly their use by young people. The UK government plans to ban these as part of the proposed bill, with Scotland having a confirmed date of banning disposable vapes from 1 April 2025. Although we do not have a recent dataset to be able to analyse general e-cigarette rates in young people under 17, we can reliably extract a small amount of data from the Ash smokefree GB youth survey report to look at device type use in this age category."
      ]
    },
    {
      "cell_type": "code",
      "execution_count": null,
      "metadata": {
        "id": "j8fxDaAbu01K"
      },
      "outputs": [],
      "source": [
        "#Import e-cig device type data\n",
        "url = (\"https://raw.githubusercontent.com/rhobaker/Data_Project/main/ONS_ecigarette_use_in_great_britain/Most_freq_used_e-cig_by_device_type_gb_youth.csv\")\n",
        "disposable = pd.read_csv(url)\n",
        "# disposable.head()"
      ]
    },
    {
      "cell_type": "code",
      "execution_count": null,
      "metadata": {
        "id": "6h0_FnGzu01K"
      },
      "outputs": [],
      "source": [
        "#Stacked bar plot for e-cig use by device\n",
        "\n",
        "x = disposable['Year']\n",
        "y1 = disposable['Non-disposable']\n",
        "y2 = disposable['Disposable']\n",
        "\n",
        "plt.bar(x, y1, color='cornflowerblue')\n",
        "plt.bar(x, y2, bottom=y1, color='salmon')\n",
        "\n",
        "plt.xticks([2020, 2021, 2022, 2023])\n",
        "plt.legend([])\n",
        "\n",
        "plt.xlabel(\"Year\")\n",
        "plt.ylabel(\"Percentage (%)\")\n",
        "plt.title(\"Most frequently used e-cigarette by device type in e-cig users aged 11-17\")\n",
        "plt.legend(['Non-disposable', 'Disposable'])\n",
        "plt.show()\n",
        "plt.clf()"
      ]
    },
    {
      "cell_type": "markdown",
      "metadata": {
        "id": "ykco31V4u01L"
      },
      "source": [
        "#### Conclusion\n",
        "\n",
        "Although evidence shows that government mitigations are effective in bringing down smoking rates, the rise in e-cigarette use is a concern. A steady rise in use as expected as smoking rates decrease and e-cigarettes are used as quitting tools or less harmful alternatives to smoking. However the very sharp increase of e-cigarette use in younger people is far above the expected rate, considerably higher than the recent smoking rate in this demographic. Government mitigations on vaping should therefore be focussed on young people; without mitigations the rate of vaping in young people could rise exponentially.\n",
        "\n",
        "The planned ban on disposable vapes is likely to reduce the e-cigarette usage rate in young people, with an overwhelming majority of those 11-17 using disposable vapes most frequently, although this will also benefit other age groups. The UK government have stated that alongside banning disposable vapes, measures will be brought forward to to restrict vape flavours, displays and packaging, to make them less attractive to children. Our MPOWER analysis shows that government mitigations effectively reduced smoking rates by including measures on displays and advertising, therefore this ban is likely to be effective and curb the rise in the vaping rate in young people by introducing restrictions in these areas, particularly as vaping flavours and colours are more attractive to younger people."
      ]
    },
    {
      "cell_type": "markdown",
      "source": [
        "## Analysis Five - Identify non-government intervention factors that may impact on smoking rates"
      ],
      "metadata": {
        "id": "xW0RFjEVmDVP"
      }
    },
    {
      "cell_type": "markdown",
      "source": [
        "Although smoking rates correlate with factors such as affordability and e-cigarette use that the government may have some control over, smoking rates are also potentially influenced by other factors.\n",
        "\n",
        "To identify these we analysed the changes in smoking habits from 2014 to 2022, to determine if other factors could be influencing the rates.\n",
        "\n",
        "The first variable we looked at was to see if there were any differences between smoking rates for people with different levels of education.\n"
      ],
      "metadata": {
        "id": "sXHAxIv48Pw0"
      }
    },
    {
      "cell_type": "code",
      "source": [
        "# Load the CSV file\n",
        "url = (\"https://raw.githubusercontent.com/rhobaker/Data_Project/main/ONS_smoking_habits_in_the_uk_and_its_constituent_countries/Table_9.csv\")\n",
        "\n",
        "data = pd.read_csv(url)\n",
        "\n",
        "# Display the first few rows to understand its structure\n",
        "# data"
      ],
      "metadata": {
        "id": "dkY3eksW8bRJ"
      },
      "execution_count": null,
      "outputs": []
    },
    {
      "cell_type": "code",
      "source": [
        "# Clean the column names\n",
        "data.columns = data.columns.str.replace('\\n', ' ').str.replace(' ', '_').str.replace('__', '_').str.strip()\n",
        "# print(data.columns.tolist())\n",
        "['Country_code', 'Country', 'Highest_level_of_education', '2022_Current_smokers_%', '2022_Current_smokers_LCL', '2022_Current_smokers_UCL', '2022_Ex-smokers_%', '2022_Ex-smokers_LCL', '2022_Ex-smokers_UCL', '2022_Never_smoked_%', '2022_Never_smoked_LCL', '2022_Never_smoked_UCL', '2022__Weighted_count_[note_2]', '2022_Sample_size_[note_3]', '2021_Current_smokers_%', '2021_Current_smokers_LCL', '2021_Current_smokers_UCL', '2021_Ex-smokers_%', '2021_Ex-smokers_LCL', '2021_Ex-smokers_UCL', '2021_Never_smoked_%', '2021_Never_smoked_LCL', '2021_Never_smoked_UCL', '2021__Weighted_count_[note_2]', '2021_Sample_size_[note_3]', '2020_Current_smokers_%', '2020_Current_smokers_LCL', '2020_Current_smokers_UCL', '2020_Ex-smokers_%', '2020_Ex-smokers_LCL', '2020_Ex-smokers_UCL', '2020_Never_smoked_%', '2020_Never_smoked_LCL', '2020_Never_smoked_UCL', '2020_Weighted_count_[note_2]', '2020_Sample_size_[note_3]', '2019_Current_smokers_%', '2019_Current_smokers_LCL', '2019_Current_smokers_UCL', '2019_Ex-smokers_%', '2019_Ex-smokers_LCL', '2019_Ex-smokers_UCL', '2019_Never_smoked_%', '2019_Never_smoked_LCL', '2019_Never_smoked_UCL', '2019_Weighted_count_[note_2]', '2019_Sample_size_[note_3]', '2018_Current_smokers_%', '2018_Current_smokers_LCL', '2018_Current_smokers_UCL', '2018_Ex-smokers_%', '2018_Ex-smokers_LCL', '2018_Ex-smokers_UCL', '2018_Never_smoked_%', '2018_Never_smoked_LCL', '2018_Never_smoked_UCL', '2018_Weighted_count_[note_2]', '2018_Sample_size_[note_3]', '2017_Current_smokers_%', '2017_Current_smokers_LCL', '2017_Current_smokers_UCL', '2017_Ex-smokers_%', '2017_Ex-smokers_LCL', '2017_Ex-smokers_UCL', '2017_Never_smoked_%', '2017_Never_smoked_LCL', '2017_Never_smoked_UCL', '2017_Weighted_count_[note_2]', '2017_Sample_size_[note_3]', '2016_Current_smokers_%', '2016_Current_smokers_LCL', '2016_Current_smokers_UCL', '2016_Ex-smokers_%', '2016_Ex-smokers_LCL', '2016_Ex-smokers_UCL', '2016_Never_smoked_%', '2016_Never_smoked_LCL', '2016_Never_smoked_UCL', '2016_Weighted_count_[note_2]', '2016_Sample_size_[note_3]', '2015_Current_smokers_%', '2015_Current_smokers_LCL', '2015_Current_smokers_UCL', '2015_Ex-smokers_%', '2015_Ex-smokers_LCL', '2015_Ex-smokers_UCL', '2015_Never_smoked_%', '2015_Never_smoked_LCL', '2015_Never_smoked_UCL', '2015_Weighted_count_[note_2]', '2015_Sample_size_[note_3]', '2014_Current_smokers_%', '2014_Current_smokers_LCL', '2014_Current_smokers_UCL', '2014_Ex-smokers_%', '2014_Ex-smokers_LCL', '2014_Ex-smokers_UCL', '2014_Never_smoked_%', '2014_Never_smoked_LCL', '2014_Never_smoked_UCL', '2014_Weighted_count_[note_2]', '2014_Sample_size_[note_3]']\n",
        "# Adjusted column names based on the inspection\n",
        "columns_of_interest = [\n",
        "    'Country', 'Highest_level_of_education',\n",
        "    '2022_Current_smokers_%', '2022_Current_smokers_LCL', '2022_Current_smokers_UCL',\n",
        "    '2022_Ex-smokers_%', '2022_Ex-smokers_LCL', '2022_Ex-smokers_UCL',\n",
        "    '2022_Never_smoked_%', '2022_Never_smoked_LCL', '2022_Never_smoked_UCL'\n",
        "]\n",
        "\n",
        "# Select relevant columns for the year 2022\n",
        "data_2022 = data[columns_of_interest].copy()\n",
        "# data_2022"
      ],
      "metadata": {
        "id": "lY8k41yO8qB2"
      },
      "execution_count": null,
      "outputs": []
    },
    {
      "cell_type": "code",
      "source": [
        "\n",
        "# Convert percentage columns to numeric\n",
        "percentage_columns = [\n",
        "    '2022_Current_smokers_%', '2022_Current_smokers_LCL', '2022_Current_smokers_UCL',\n",
        "    '2022_Ex-smokers_%', '2022_Ex-smokers_LCL', '2022_Ex-smokers_UCL',\n",
        "    '2022_Never_smoked_%', '2022_Never_smoked_LCL', '2022_Never_smoked_UCL'\n",
        "]\n",
        "\n",
        "for col in percentage_columns:\n",
        "  data_2022[col] = pd.to_numeric(data_2022[col], errors='coerce')\n",
        "\n",
        "# Check for missing data\n",
        "missing_data_summary = data_2022.isnull().sum()\n",
        "# print(missing_data_summary)\n",
        "data_2022 = data_2022[data_2022.Country.isin([\"United Kingdom\"])]\n",
        "# data_2022"
      ],
      "metadata": {
        "id": "Il78KvL9832i"
      },
      "execution_count": null,
      "outputs": []
    },
    {
      "cell_type": "code",
      "source": [
        "data_to_merge = pd.DataFrame(data_2022[[\"Highest_level_of_education\",'2022_Current_smokers_%']])\n",
        "data_to_merge.set_index([\"Highest_level_of_education\"], inplace = True)\n",
        "levels_data = {\n",
        "  \"Highest_level_of_education\": [\"Degree or equivalent\", \"Higher education\", \"GCE A level or equivalent\", \"GCSE grades A*-C or equivalent\", \"Other qualification\", \"No qualifications\"],\n",
        "  \"Total Population Percentage\": [21,9,22,21,12,14]\n",
        "}\n",
        "levels_df = pd.DataFrame(levels_data)\n",
        "levels_df.set_index([\"Highest_level_of_education\"], inplace = True)\n",
        "merged_qual_data = pd.merge(levels_df, data_to_merge, left_index=True, right_index=True, how='outer' )\n",
        "# merged_qual_data"
      ],
      "metadata": {
        "id": "RsuI3-EWsED4"
      },
      "execution_count": null,
      "outputs": []
    },
    {
      "cell_type": "code",
      "source": [
        "ed_level_coeff = np.corrcoef(merged_qual_data[\"Total Population Percentage\"], merged_qual_data[\"2022_Current_smokers_%\"])\n"
      ],
      "metadata": {
        "id": "mAstLK5r1U9K"
      },
      "execution_count": null,
      "outputs": []
    },
    {
      "cell_type": "markdown",
      "source": [
        ">> Quick check of education rates online:\n",
        "Degree: 21\n",
        "HEd: 9\n",
        "A level: 22\n",
        "GCSE: 21\n",
        "Other: 12\n",
        "None: 14\n",
        ">> Plotted them together to make sure that there was a difference based on level of education and it wasn't just mirroring the population as a whole.\n",
        ">> String negative correlation, so worth doing this analysis properly.\n",
        ">> Data from:\n",
        "https://www.ons.gov.uk/peoplepopulationandcommunity/educationandchildcare/adhocs/10516highestlevelofqualificationachievedbypeoplelivinginukregions2010to2018"
      ],
      "metadata": {
        "id": "bA8XpinQrhjk"
      }
    },
    {
      "cell_type": "code",
      "source": [
        "#Create a visualisation to compare the proportion of cigarette smokers vs the expenditure on tobacco\n",
        "# Set the theme\n",
        "sns.set_theme(style=\"whitegrid\")\n",
        "\n",
        "# Create a figure and axis\n",
        "fig, ax9 = plt.subplots(figsize=(10, 6))\n",
        "\n",
        "# Title\n",
        "plt.title(\"Comparison of Smoking Prevalence by Education Level\")\n",
        "\n",
        "# X-axis label\n",
        "ax9.set_xlabel(\"Year\")\n",
        "\n",
        "# Plot the proportion of the total population\n",
        "bar_width = 0.4\n",
        "index = merged_qual_data.index.tolist()\n",
        "\n",
        "# Primary y-axis: Proportion of the total population\n",
        "ax9.bar(index, merged_qual_data['Total Population Percentage'], bar_width, color=\"red\", alpha=0.5, label=\"Total Population Percentage\")\n",
        "ax9.set_ylabel(\"Proportion of Total Population (%)\")\n",
        "ax9.tick_params(axis='y')\n",
        "\n",
        "# Secondary y-axis: Smoking rates\n",
        "ax10 = ax9.twinx()\n",
        "ax10.bar([i + bar_width for i in range(len(index))], merged_qual_data['2022_Current_smokers_%'], bar_width, color=\"blue\", alpha=0.5, label=\"2022 Current Smokers %\")\n",
        "ax10.set_ylabel(\"% of Smokers\")\n",
        "ax10.tick_params(axis='y')\n",
        "\n",
        "# Adjusting the x-ticks to be in the center\n",
        "ax9.set_xticks([i + bar_width / 2 for i in range(len(index))])\n",
        "ax9.set_xticklabels(index, rotation=45)\n",
        "\n",
        "# Adding legends\n",
        "ax9.legend(loc='upper left')\n",
        "ax10.legend(loc='upper right')\n",
        "\n",
        "# Show plot\n",
        "plt.show()\n",
        "plt.clf()"
      ],
      "metadata": {
        "id": "BKyrAJ_m89MO"
      },
      "execution_count": null,
      "outputs": []
    },
    {
      "cell_type": "code",
      "source": [
        "# Convert percentage columns to numeric\n",
        "percentage_columns = [\n",
        "    '2022_Current_smokers_%', '2022_Current_smokers_LCL', '2022_Current_smokers_UCL',\n",
        "    '2022_Ex-smokers_%', '2022_Ex-smokers_LCL', '2022_Ex-smokers_UCL',\n",
        "    '2022_Never_smoked_%', '2022_Never_smoked_LCL', '2022_Never_smoked_UCL'\n",
        "]\n",
        "\n",
        "for col in percentage_columns:\n",
        "    data_2022[col] = pd.to_numeric(data_2022[col], errors='coerce')\n",
        "\n",
        "# Check for missing data\n",
        "missing_data_summary = data_2022.isnull().sum()\n",
        "#print(missing_data_summary)"
      ],
      "metadata": {
        "id": "243DRB_urSyR"
      },
      "execution_count": null,
      "outputs": []
    },
    {
      "cell_type": "code",
      "source": [
        "# Display the cleaned column names\n",
        "# print(data.columns.tolist())\n",
        "\n",
        "# Extract the years present in the dataset based on column names\n",
        "years = list(set([col.split('_')[0] for col in data.columns if col.split('_')[0].isdigit()]))\n",
        "# print(\"Years found in the dataset:\", years)\n",
        "\n",
        "# List of smoking status categories\n",
        "smoking_statuses = ['Current_smokers_%', 'Ex-smokers_%', 'Never_smoked_%']\n",
        "\n",
        "# Correct column names for melting\n",
        "columns_to_melt = {}\n",
        "for status in smoking_statuses:\n",
        "    columns_to_melt[status] = [col for col in data.columns if status in col]\n",
        "\n",
        "# print(\"Columns to melt for each status:\", columns_to_melt)\n",
        "\n",
        "# Initialize an empty list to store dataframes\n",
        "dfs = []\n",
        "\n",
        "# Loop through each smoking status to melt the data\n",
        "for status, status_cols in columns_to_melt.items():\n",
        "    status_df = data.melt(id_vars=['Country', 'Highest_level_of_education'],\n",
        "                          value_vars=status_cols,\n",
        "                          var_name='Year_Status',\n",
        "                          value_name=status)\n",
        "\n",
        "    # Extract year from the combined Year_Status column\n",
        "    status_df['Year'] = status_df['Year_Status'].str.extract('(\\d{4})').astype(int)\n",
        "\n",
        "    # Drop the Year_Status column\n",
        "    status_df = status_df.drop(columns=['Year_Status'])\n",
        "\n",
        "    # Append the melted dataframe to the list\n",
        "    dfs.append(status_df)\n",
        "\n",
        "# Merge the dataframes on common columns\n",
        "data_long = dfs[0]\n",
        "for df in dfs[1:]:\n",
        "    data_long = pd.merge(data_long, df, on=['Country', 'Highest_level_of_education', 'Year'])\n",
        "\n",
        "#print(data_long.head())"
      ],
      "metadata": {
        "id": "2hRgXq0srdMv"
      },
      "execution_count": null,
      "outputs": []
    },
    {
      "cell_type": "code",
      "source": [
        "# Filter the data to include only years from 2016 to 2022\n",
        "data_filtered = data_long[data_long['Year'].between(2016, 2022)]\n",
        "\n",
        "# Prepare the data for facet grid\n",
        "data_long_melted = data_filtered.melt(\n",
        "    id_vars=['Year', 'Highest_level_of_education'],\n",
        "    value_vars=smoking_statuses,\n",
        "    var_name='Smoking_Category',\n",
        "    value_name='Percentage'\n",
        ")\n",
        "\n",
        "# Create a facet grid for the smoking categories\n",
        "g = sns.FacetGrid(data_long_melted, col='Smoking_Category', hue='Highest_level_of_education', col_order=smoking_statuses, height=5, aspect=1.5)\n",
        "g.map(sns.lineplot, 'Year', 'Percentage', marker='o')\n",
        "g.add_legend(title='Education Level')\n",
        "\n",
        "# Set the titles for each facet\n",
        "facet_titles = {\n",
        "    'Current_smokers_%': 'Current Smokers by Education Level (2014-2022)',\n",
        "    'Ex-smokers_%': 'Ex-Smokers by Education Level (2014-2022)',\n",
        "    'Never_smoked_%': 'Never Smoked by Education Level (2014-2022)'\n",
        "}\n",
        "\n",
        "# Enable grid lines and set titles\n",
        "for ax in g.axes.flat:\n",
        "    ax.grid(True)  # Enable grid lines\n",
        "    title_key = ax.get_title().split('=')[1].strip()\n",
        "    ax.set_title(facet_titles.get(title_key, title_key))\n",
        "\n",
        "plt.show()\n",
        "plt.clf()"
      ],
      "metadata": {
        "id": "2IG5rWyWwszN"
      },
      "execution_count": null,
      "outputs": []
    },
    {
      "cell_type": "markdown",
      "source": [
        "Conclusion of Smoking Habits by Education Level\n",
        "\n",
        "**1. Current Smokers by Education Level**\n",
        "\n",
        "\n",
        "- Individuals with lower educational attainment tend to have higher smoking rates. This could be due to a variety of socio-economic factors, including limited access to health education and resources.\n",
        "Conversely, those with higher education levels generally show higher education often correlates with greater health awareness and healthier lifestyles.\n",
        "\n",
        "**2. Ex-Smokers by Education Level**\n",
        "\n",
        "\n",
        "- Generally, individuals with higher educational attainment are more likely to have quit smoking. This might reflect better access to smoking cessation programs and greater health literacy.\n",
        "Lower education levels show a smaller percentage of ex-smokers, suggesting challenges in quitting smoking, possibly due to socio-economic factors and limited access to support resources.\n",
        "\n",
        "**3. Never Smoked by Education Level**\n",
        "\n",
        "- The percentage of individuals who have never smoked generally mirrors the trend observed in current smokers, with higher rates in those with higher education levels.\n",
        "\n",
        "**To summarise:**\n",
        "\n",
        "- The three charts collectively highlight the impact of education on smoking behaviours. These patterns underscore the importance of education as a determinant of health behaviours and suggest that public health interventions aiming to reduce smoking prevalence may benefit from focusing on educational initiatives and targeted support for lower education groups.\n",
        "\n",
        "- Addressing socio-economic disparities and enhancing access to health education and smoking cessation resources could further help in reducing smoking rates across all education levels.\n"
      ],
      "metadata": {
        "id": "FmDdODA2-IvH"
      }
    },
    {
      "cell_type": "markdown",
      "source": [
        "**Insights for the future:**\n",
        "\n",
        "Effectiveness of Public Health Efforts:\n",
        "\n",
        "- The overall decline in current smoking rates and the increase in ex-smokers indicate that public health efforts are making a positive impact. However, the persistent disparities between education levels highlight the need for more targeted interventions.\n",
        "\n",
        "Preventive Measures:\n",
        "\n",
        "- Emphasising preventive measures in education, particularly in lower education groups, could help reduce the initiation of smoking. This includes integrating comprehensive smoking prevention programs into school curriculum and community outreach initiatives."
      ],
      "metadata": {
        "id": "us16i05Aqg93"
      }
    },
    {
      "cell_type": "markdown",
      "source": [
        "## Predicting future smoking rates\n",
        "\n",
        "Using our historic data on overall smoking prevalence rates from the ONS, we can use machine learning to implement a simple linear regression model. We don't have the advanced techniques to fully evaluate our model, but the linear regression will give us a rough estimation of future smoking rates based on the current trends and mitigations.\n"
      ],
      "metadata": {
        "id": "_Auv2Dk4MyPY"
      }
    },
    {
      "cell_type": "code",
      "source": [
        "#Some re-formatting of previous dfs\n",
        "adults_2000 = adults.loc[0:22]\n",
        "adults_2000.rename(columns={\"All 16+\": \"Smoking Rate\"}, inplace=True)\n",
        "# adults_2000.head()"
      ],
      "metadata": {
        "id": "7Q4fXrbkM56p"
      },
      "execution_count": null,
      "outputs": []
    },
    {
      "cell_type": "code",
      "source": [
        "#Selecting variables\n",
        "x = adults_2000['Year'] #independent variable\n",
        "y = adults_2000['Smoking Rate'] #dependent variable\n",
        "# Test scatter of variables\n",
        "# plt.scatter(x,y)"
      ],
      "metadata": {
        "id": "AXC2ecq0NBpA"
      },
      "execution_count": null,
      "outputs": []
    },
    {
      "cell_type": "code",
      "source": [
        "#sklearn needs a 2D array to work, not 1D\n",
        "#Reshape variables to 2D\n",
        "\n",
        "x = np.array(x).reshape(-1,1)\n",
        "y = np.array(y).reshape(-1,1)"
      ],
      "metadata": {
        "id": "Rei4bzKzND2g"
      },
      "execution_count": null,
      "outputs": []
    },
    {
      "cell_type": "code",
      "source": [
        "#Split data for training and testing\n",
        "from sklearn.model_selection import train_test_split\n",
        "\n",
        "x_train, x_test, y_train, y_test = train_test_split(x, y, test_size = 0.2, random_state = 42)"
      ],
      "metadata": {
        "id": "SpYhU8EONFzY"
      },
      "execution_count": null,
      "outputs": []
    },
    {
      "cell_type": "code",
      "source": [
        "#Create model and train the model with training sets\n",
        "from sklearn.linear_model import LinearRegression\n",
        "\n",
        "model = LinearRegression()\n",
        "model.fit(x_train, y_train)"
      ],
      "metadata": {
        "id": "tm5AoSSINHzY"
      },
      "execution_count": null,
      "outputs": []
    },
    {
      "cell_type": "code",
      "source": [
        "#Briefly evaluate model's performance\n",
        "\n",
        "#Get the R^2 value, which describes how well the linear regression model fits the data points, the closer to 1 the better.\n",
        "print(model.score(x_test,y_test))\n",
        "\n",
        "# > 0.9, strong R^2 score."
      ],
      "metadata": {
        "id": "ZBNtgGVKNKFv"
      },
      "execution_count": null,
      "outputs": []
    },
    {
      "cell_type": "code",
      "source": [
        "#Use testing set to create predictions\n",
        "y_pred = model.predict(x_test)"
      ],
      "metadata": {
        "id": "qnm3cr269FV5"
      },
      "execution_count": null,
      "outputs": []
    },
    {
      "cell_type": "code",
      "source": [
        "#Plot the linear regression\n",
        "plt.scatter(x_train, y_train,color='purple', marker=\"x\", label=\"Actual values\")\n",
        "plt.plot(x_test, y_pred,color='b', label=\"Predicted values\")\n",
        "plt.xlabel(\"Year\")\n",
        "plt.ylabel(\"Smoking rate (% of population)\")\n",
        "plt.yticks(range(10, 28, 2))\n",
        "plt.xticks(range(2000, 2025, 5))\n",
        "plt.legend()\n",
        "plt.title(\"Linear regression of predicted smoking rate\")\n",
        "plt.grid()\n",
        "plt.show()\n",
        "plt.clf()\n"
      ],
      "metadata": {
        "id": "c9vJjoDrNRuv"
      },
      "execution_count": null,
      "outputs": []
    },
    {
      "cell_type": "code",
      "source": [
        "#We can see that our algorithm is working correctly. We can now input values to the model to make predictions.\n",
        "\n",
        "# Create a list of rate predictions for future years up to 2030\n",
        "# We will also include 2022 and 2023, just to fill in the gaps in our data line and account for missing data\n",
        "future_years = [2022, 2023, 2024, 2025, 2026, 2027, 2028, 2029, 2030]\n",
        "\n",
        "def predict_list(future_years):\n",
        "    predict_rates = []\n",
        "    for year in future_years:\n",
        "        arr = np.array(year).reshape(-1,1)\n",
        "        pred_year = model.predict(arr)\n",
        "        predict_rates.append(pred_year[0][0].round(2))\n",
        "    return predict_rates\n",
        "\n",
        "future_rates = predict_list(future_years)\n",
        "future_rates"
      ],
      "metadata": {
        "id": "jvYn4Gd_Nx8I"
      },
      "execution_count": null,
      "outputs": []
    },
    {
      "cell_type": "code",
      "source": [
        "#Make list into a dataframe and organise\n",
        "\n",
        "f_years = pd.DataFrame(future_rates, future_years)\n",
        "f_years = f_years.reset_index()\n",
        "f_years.columns = ['Year', 'Smoking Rate']\n",
        "f_years_reverse = f_years.iloc[::-1]\n"
      ],
      "metadata": {
        "id": "aB1UNunoN1bh"
      },
      "execution_count": null,
      "outputs": []
    },
    {
      "cell_type": "code",
      "source": [
        "#Plot the regression again with future predicted values\n",
        "plt.scatter(x_train, y_train,color='purple', marker=\"x\", label=\"Actual values\")\n",
        "plt.plot(x_test, y_pred,color='b', label=\"Predicted values\")\n",
        "plt.plot(future_years, future_rates, color='r', label= 'Future predicted values')\n",
        "plt.xlabel(\"Year\")\n",
        "plt.ylabel(\"Smoking rate (% of population)\")\n",
        "plt.grid(True)\n",
        "plt.legend()\n",
        "plt.yticks(range(5, 31, 5))\n",
        "plt.title(\"Linear regression of predicted smoking rate\")\n",
        "plt.show()\n",
        "plt.clf()"
      ],
      "metadata": {
        "id": "vcYPXJdcN3mI"
      },
      "execution_count": null,
      "outputs": []
    },
    {
      "cell_type": "markdown",
      "source": [
        "####Conclusion:\n",
        "\n",
        "The government's target smoking rate is to be 'smokefree' by 2030, with an overall smokinng prevalence of 5% or less. Our model roughly predicts that without any further mitigations, the smoking rate would be at 8% by 2030. With the proposed smoking ban to be enacted in 2027, it is a realistic estimation, based on looking at effects of past mitigations on the rate of decrease in the smoking rate, that the ban would cause at least an extra 1% decrease in the rate per year from 2020, allowing the goverment to reach its 'smokefree' goal by 2030."
      ],
      "metadata": {
        "id": "Hv8Z3fm7N-Oo"
      }
    },
    {
      "cell_type": "markdown",
      "source": [
        "## Overall Conclusion\n",
        "\n",
        "Our analysis set out to answer the questions:\n",
        "\n",
        "\n",
        "**How effective does historic data suggest that government mitigations have been on affecting smoking prevalence?**\n",
        "\n",
        "\n",
        "**Based on this analysis, how effective will the new ban be on reducing smoking prevalence?**\n",
        "\n",
        "\n",
        "\n",
        "\n",
        "\n",
        "Firstly, we determined that global smoking rates reduced from 28.1% in 2007 to 20.9% in 2022 and that this strongly correlated to government intervention measures increasing over the same period.\n",
        "\n",
        "When then focused our analysis on the UK to see if it followed this global trend. We saw a similar movement in smoking rates, reducing from 27.0% in 2000 to 15.6% in 2019.  This can be seen to link with government intervention measures around packaging and advertising becoming more stringent.\n",
        "\n",
        "Our analysis of the tax paid on a packet of cigarettes shows that...\n",
        "\n",
        "As tax has significantly increased the price of cigarettes, we can see that the affordability of tobacco has decreased.  This strongly correlates with the decrease in smoking rates and from this we can infer that decreasing the affordability of tobacco by increasing taxes is linked to a reduction in the overall smoking rate.\n",
        "\n",
        "We then looked at the impact of e-cigarettes on changes in the overall tobacco smoking rate as anecdotal evidence and our own personal experiences suggest that there has been a significant increase in e-cigarette use in the past few years.\n",
        "\n",
        "Our analysis shows that as e-cigarette use has increased, the smoking rate has decreased, however the spike in e-cigarette use is disproportionally due to the younger generation, therefore how much impact this is having on overall smoking rates is harder to determine.\n",
        "\n",
        "Finally we examined the available data to see if other socio-economic factors could be influencing the drop in smoking rate, outside of direct government control.\n",
        "\n",
        "We could see that there was a clear link between education level and smoking rates; the higher the education level someone has the less likely they are to smoke.  *As education levels have been increasing over recent years this is likely to have had an influence on smoking rates decreasing.*\n",
        "\n",
        "When we did a similar analysis for differences between smoking rates in men and women we could not see any similar trends, so we concluded that any future government interventions should equally consider both men and women when their implmentation is planned.\n",
        "\n",
        "The evidence therefore suggests that smoking rates will continue to fall if the future government, elected in the July 2024 UK general election, continues to tighten legislation and increase tax in a similar way to previous ones.  Socio-economic trends influencing e-cigarette use and education levels may also impact this reduction.\n",
        "\n",
        "Our simple machine learning model shows that without further mitigations, the smoking rate is predicted to continue to fall but is at risk of not reaching the government smokefree target by 2030. If the ban is implemented, the target could realistically be reached."
      ],
      "metadata": {
        "id": "7GrsP1QtEzBt"
      }
    }
  ],
  "metadata": {
    "kernelspec": {
      "display_name": "base",
      "language": "python",
      "name": "python3"
    },
    "language_info": {
      "codemirror_mode": {
        "name": "ipython",
        "version": 3
      },
      "file_extension": ".py",
      "mimetype": "text/x-python",
      "name": "python",
      "nbconvert_exporter": "python",
      "pygments_lexer": "ipython3",
      "version": "3.12.3"
    },
    "colab": {
      "provenance": [],
      "include_colab_link": true
    }
  },
  "nbformat": 4,
  "nbformat_minor": 0
}