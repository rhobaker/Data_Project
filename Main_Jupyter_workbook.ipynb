{
  "cells": [
    {
      "cell_type": "markdown",
      "metadata": {
        "id": "view-in-github",
        "colab_type": "text"
      },
      "source": [
        "<a href=\"https://colab.research.google.com/github/rhobaker/Data_Project/blob/main/Main_Jupyter_workbook.ipynb\" target=\"_parent\"><img src=\"https://colab.research.google.com/assets/colab-badge.svg\" alt=\"Open In Colab\"/></a>"
      ]
    },
    {
      "cell_type": "markdown",
      "metadata": {
        "id": "a9oWpTJPu01G"
      },
      "source": [
        "# <span style=\"color:darkblue\">Introduction to the project</span>"
      ]
    },
    {
      "cell_type": "markdown",
      "metadata": {
        "id": "8gWJQITGu01H"
      },
      "source": [
        "The aim of our project was to examine the evidence that a proposed bill being put before the UK Parliament will be effective in reducing smoking rates in the UK.\n",
        "\n",
        "The long title of this bill is:\n",
        "\n",
        "> A Bill to Make provision about the supply of tobacco, vapes and other products, including provision prohibiting the sale of tobacco to people born on or after 1 January 2009; and to enable product requirements to be imposed in connection with tobacco, vapes and other products.\n",
        "\n",
        "https://bills.parliament.uk/bills/3703\n",
        "\n",
        "The Bill will prohibit the sale of cigarettes to people born after 2008.  Each year the age at which people can legally cigarettes will increase, resulting in people born after 31st December 2008 never being able to buy them.  This will be enforced by fining organisations who break the law.  The government believes that this will reduce the harm caused by smoking, which is still the number one cause of preventable deaths in the UK and costs the NHS £17bn a year.\n",
        "\n",
        "\n",
        "https://www.bbc.co.uk/news/health-68825322#:~:text=The%20restrictions%20will%20apply%20to,able%20to%20legally%20buy%20cigarettes.\n"
      ]
    },
    {
      "cell_type": "markdown",
      "metadata": {
        "id": "9qruJsRyu01H"
      },
      "source": [
        "\n",
        "To analyse how effective this ban might be we used evidence from a number of data sources to answer two questions:\n",
        "\n",
        "**<span style=\"color:darkblue\">Question One:</span>**\\\n",
        "**How effective does historic data suggest that government mitigations have been on affecting smoking prevalence and mortality?**\n",
        "\n",
        "**<span style=\"color:darkblue\">Question Two:</span>**\\\n",
        "**Based on this analysis, how effective will the new ban be on reducing smoking prevalence and mortality?**\n",
        "\n"
      ]
    },
    {
      "cell_type": "markdown",
      "metadata": {
        "id": "8kPJzQ12u01H"
      },
      "source": [
        "## <span style=\"color:darkblue\"> Question One: </span>\n",
        "### **How effective does historic data suggest that government mitigations have been on affecting smoking prevalence and mortality?**"
      ]
    },
    {
      "cell_type": "markdown",
      "metadata": {
        "id": "Z4p8e7ZIu01H"
      },
      "source": [
        "#### <span style=\"border: 2px solid darkblue\" padding = 500px > Analysis One:  Changes in global smoking rates compared to levels of government intervention</span>"
      ]
    },
    {
      "cell_type": "markdown",
      "metadata": {
        "id": "V6dw15nZu01H"
      },
      "source": [
        "Using data from the WHO we have analysed how effective government measures have been on reducing rates of smoking globally, in order to determine how effective government measures are in general at reducing smoking rates.\n",
        "\n",
        "\n",
        "The WHO adopted the WHO Framework Convention on Tobacco Control on 21 May 2003 as a response to the global tobacco epidemic.  It uses the MPOWER package to help countries reduce their smoking rates by reducing the demand for tobacco products from their populations.  It has six different strands:\n",
        "\n",
        "\n",
        "- **M**: Monitor tobacco use and prevention policies\n",
        "- **P**: Protect people from tobacco smoke\n",
        "- **O**: Offer help to quit tobacco use\n",
        "- **W**: Warn about the dangers of tobacco\n",
        "- **E**: Enforce bans on tobacco advertising, promotion and sponsorship\n",
        "- **R**: Raise taxes on tobacco\n",
        "\n",
        "https://www.who.int/initiatives/mpower\n",
        "\n",
        "#### Data Analysis\n",
        "\n",
        "The WHO categorises each of these strands into 5 levels to based on how well they have been implemented in each country, with 1 being the lowest level of control and 5 being the greatest.  This data is publically avaliable via an API.\n",
        "\n",
        "We used this API to get a total score per country for each of the years it is available.  This was used to calculate a weighted mean level of implementation for the world as a whole, based on the population of each country.\n",
        "\n",
        "By comparing this to global smoking rates, also avaliable via an API, we prepared an analysis to see if there is a relationship between the adoption of these initiatives and the global smoking rate.\n",
        "\n",
        "https://www.who.int/data/gho/data/themes/topics/indicator-groups/indicator-group-details/GHO/tobacco-control---progress-towards-selected-tobacco-control-policies-for-demand-reduction"
      ]
    },
    {
      "cell_type": "code",
      "execution_count": null,
      "metadata": {
        "id": "LF1xPDepu01H"
      },
      "outputs": [],
      "source": [
        "# Import all libraries needed for the project\n",
        "import requests as requests\n",
        "import numpy as np\n",
        "import pandas as pd\n",
        "import matplotlib.pyplot as plt\n",
        "import seaborn as sns\n",
        "import requests as requests\n",
        "from functools import reduce"
      ]
    },
    {
      "cell_type": "code",
      "execution_count": null,
      "metadata": {
        "id": "N9sH9RqLu01I",
        "outputId": "d709fbc1-f14e-47b2-dcb6-799cf1443b9a"
      },
      "outputs": [
        {
          "name": "stdout",
          "output_type": "stream",
          "text": [
            "Data was retrieved\n"
          ]
        }
      ],
      "source": [
        "# Get all API data needed from the WHO and save as JSON files\n",
        "\n",
        "# Define the urls for each of the APIs needed:\n",
        "# Global smoking rates by year:\n",
        "url_sr = \"https://ghoapi.azureedge.net/api/M_Est_tob_curr_std?$filter=SpatialDimType%20eq%20%27GLOBAL%27\"\n",
        "# Levels of smoking intervention prevelance:\n",
        "urlM = \"https://ghoapi.azureedge.net/api/M_Group\"\n",
        "urlP = \"https://ghoapi.azureedge.net/api/P_Group\"\n",
        "urlO = \"https://ghoapi.azureedge.net/api/O_Group\"\n",
        "urlW = \"https://ghoapi.azureedge.net/api/W_Group\"\n",
        "urlE = \"https://ghoapi.azureedge.net/api/E_Group\"\n",
        "urlR = \"https://ghoapi.azureedge.net/api/R_Group\"\n",
        "# World population by country:\n",
        "urlpop = \"https://ghoapi.azureedge.net/api/RS_1845\"\n",
        "\n",
        "#Use request module to get the API data and save in a variable:\n",
        "response_sr = requests.get(url_sr)\n",
        "responseM = requests.get(urlM)\n",
        "responseP = requests.get(urlP)\n",
        "responseO = requests.get(urlO)\n",
        "responseW = requests.get(urlW)\n",
        "responseE = requests.get(urlE)\n",
        "responseR = requests.get(urlR)\n",
        "responsepop = requests.get(urlpop)\n",
        "\n",
        "#Turn response into JSON data:\n",
        "json_data_rate = response_sr.json()\n",
        "json_data_M = responseM.json()\n",
        "json_data_P = responseP.json()\n",
        "json_data_O = responseO.json()\n",
        "json_data_W = responseW.json()\n",
        "json_data_E = responseE.json()\n",
        "json_data_R = responseR.json()\n",
        "json_data_pop = responsepop.json()\n",
        "\n",
        "#Check that the data has been imported and give an error message if not:\n",
        "if response_sr.status_code == 200 & responseM.status_code == 200 & responseP.status_code == 200 & responseP.status_code == 200 & responseO.status_code == 200 & responseW.status_code == 200 & responseE.status_code == 200 & responseR.status_code == 200 & responsepop.status_code == 200:\n",
        "    print(\"Data was retrieved\")\n",
        "else:\n",
        "    print(\"There was an error retrieving the data\")"
      ]
    },
    {
      "cell_type": "code",
      "execution_count": null,
      "metadata": {
        "id": "Qeqn3XjMu01I",
        "outputId": "3a1c36e0-98e7-4890-ab67-7080505ea758"
      },
      "outputs": [
        {
          "data": {
            "text/html": [
              "<div>\n",
              "<style scoped>\n",
              "    .dataframe tbody tr th:only-of-type {\n",
              "        vertical-align: middle;\n",
              "    }\n",
              "\n",
              "    .dataframe tbody tr th {\n",
              "        vertical-align: top;\n",
              "    }\n",
              "\n",
              "    .dataframe thead th {\n",
              "        text-align: right;\n",
              "    }\n",
              "</style>\n",
              "<table border=\"1\" class=\"dataframe\">\n",
              "  <thead>\n",
              "    <tr style=\"text-align: right;\">\n",
              "      <th></th>\n",
              "      <th>Smoking Rate</th>\n",
              "    </tr>\n",
              "    <tr>\n",
              "      <th>Year</th>\n",
              "      <th></th>\n",
              "    </tr>\n",
              "  </thead>\n",
              "  <tbody>\n",
              "    <tr>\n",
              "      <th>2007</th>\n",
              "      <td>28.1</td>\n",
              "    </tr>\n",
              "    <tr>\n",
              "      <th>2000</th>\n",
              "      <td>32.7</td>\n",
              "    </tr>\n",
              "    <tr>\n",
              "      <th>2030</th>\n",
              "      <td>18.1</td>\n",
              "    </tr>\n",
              "    <tr>\n",
              "      <th>2005</th>\n",
              "      <td>29.3</td>\n",
              "    </tr>\n",
              "    <tr>\n",
              "      <th>2021</th>\n",
              "      <td>21.3</td>\n",
              "    </tr>\n",
              "    <tr>\n",
              "      <th>2010</th>\n",
              "      <td>26.4</td>\n",
              "    </tr>\n",
              "    <tr>\n",
              "      <th>2022</th>\n",
              "      <td>20.9</td>\n",
              "    </tr>\n",
              "    <tr>\n",
              "      <th>2018</th>\n",
              "      <td>22.5</td>\n",
              "    </tr>\n",
              "    <tr>\n",
              "      <th>2015</th>\n",
              "      <td>23.9</td>\n",
              "    </tr>\n",
              "    <tr>\n",
              "      <th>2020</th>\n",
              "      <td>21.7</td>\n",
              "    </tr>\n",
              "    <tr>\n",
              "      <th>2025</th>\n",
              "      <td>19.8</td>\n",
              "    </tr>\n",
              "  </tbody>\n",
              "</table>\n",
              "</div>"
            ],
            "text/plain": [
              "      Smoking Rate\n",
              "Year              \n",
              "2007          28.1\n",
              "2000          32.7\n",
              "2030          18.1\n",
              "2005          29.3\n",
              "2021          21.3\n",
              "2010          26.4\n",
              "2022          20.9\n",
              "2018          22.5\n",
              "2015          23.9\n",
              "2020          21.7\n",
              "2025          19.8"
            ]
          },
          "execution_count": 1197,
          "metadata": {},
          "output_type": "execute_result"
        }
      ],
      "source": [
        "# Create a panda's DataFrame for global smoking rates:\n",
        "\n",
        "# Set empty arrays to append data into:\n",
        "sr_value = [] # For rates\n",
        "sr_time = [] # For years\n",
        "\n",
        "# Loop through the API data and append data to the empty arrays\n",
        "for i in json_data_rate[\"value\"]:\n",
        "    if i[\"Dim1\"] == \"SEX_BTSX\":  # Data for both sexes together\n",
        "        sr_value.append(i[\"NumericValue\"])\n",
        "        sr_time.append(i['TimeDimensionValue'])\n",
        "\n",
        "# Create lists for the data and for the column labels needed in the DataFrame\n",
        "data = list(zip(sr_time, sr_value))\n",
        "label = [\"Year\", \"Smoking Rate\"]\n",
        "\n",
        "#Create the DataFrame\n",
        "df_rate = pd.DataFrame(data, columns = label)\n",
        "# Turn the data into numeric values for calculations to be performed and graphs produced\n",
        "df_rate = df_rate.apply(pd.to_numeric, errors='coerce')\n",
        "# Set the year as the DataFrame's index\n",
        "df_rate = df_rate.set_index(\"Year\")\n",
        "# Check the result\n",
        "df_rate"
      ]
    },
    {
      "cell_type": "code",
      "execution_count": null,
      "metadata": {
        "id": "i1nEgndtu01I",
        "outputId": "e666efa3-70f6-4b4d-faf0-ddfef95c4a1a"
      },
      "outputs": [
        {
          "data": {
            "text/html": [
              "<div>\n",
              "<style scoped>\n",
              "    .dataframe tbody tr th:only-of-type {\n",
              "        vertical-align: middle;\n",
              "    }\n",
              "\n",
              "    .dataframe tbody tr th {\n",
              "        vertical-align: top;\n",
              "    }\n",
              "\n",
              "    .dataframe thead th {\n",
              "        text-align: right;\n",
              "    }\n",
              "</style>\n",
              "<table border=\"1\" class=\"dataframe\">\n",
              "  <thead>\n",
              "    <tr style=\"text-align: right;\">\n",
              "      <th></th>\n",
              "      <th>Population</th>\n",
              "    </tr>\n",
              "    <tr>\n",
              "      <th>Code</th>\n",
              "      <th></th>\n",
              "    </tr>\n",
              "  </thead>\n",
              "  <tbody>\n",
              "    <tr>\n",
              "      <th>ARM</th>\n",
              "      <td>3092072</td>\n",
              "    </tr>\n",
              "    <tr>\n",
              "      <th>ZMB</th>\n",
              "      <td>13088570</td>\n",
              "    </tr>\n",
              "    <tr>\n",
              "      <th>POL</th>\n",
              "      <td>38276660</td>\n",
              "    </tr>\n",
              "    <tr>\n",
              "      <th>IRL</th>\n",
              "      <td>4469900</td>\n",
              "    </tr>\n",
              "    <tr>\n",
              "      <th>MLI</th>\n",
              "      <td>15369809</td>\n",
              "    </tr>\n",
              "    <tr>\n",
              "      <th>...</th>\n",
              "      <td>...</td>\n",
              "    </tr>\n",
              "    <tr>\n",
              "      <th>BRA</th>\n",
              "      <td>194946488</td>\n",
              "    </tr>\n",
              "    <tr>\n",
              "      <th>GEO</th>\n",
              "      <td>4352244</td>\n",
              "    </tr>\n",
              "    <tr>\n",
              "      <th>PRK</th>\n",
              "      <td>24346229</td>\n",
              "    </tr>\n",
              "    <tr>\n",
              "      <th>MDG</th>\n",
              "      <td>20713819</td>\n",
              "    </tr>\n",
              "    <tr>\n",
              "      <th>SMR</th>\n",
              "      <td>31533</td>\n",
              "    </tr>\n",
              "  </tbody>\n",
              "</table>\n",
              "<p>181 rows × 1 columns</p>\n",
              "</div>"
            ],
            "text/plain": [
              "      Population\n",
              "Code            \n",
              "ARM      3092072\n",
              "ZMB     13088570\n",
              "POL     38276660\n",
              "IRL      4469900\n",
              "MLI     15369809\n",
              "...          ...\n",
              "BRA    194946488\n",
              "GEO      4352244\n",
              "PRK     24346229\n",
              "MDG     20713819\n",
              "SMR        31533\n",
              "\n",
              "[181 rows x 1 columns]"
            ]
          },
          "execution_count": 1198,
          "metadata": {},
          "output_type": "execute_result"
        }
      ],
      "source": [
        "# Create a panda's DataFrame for population data:\n",
        "\n",
        "# Set empty arrays to append data into\n",
        "indexpop = [] # For the country code\n",
        "valuepop = [] # For the population\n",
        "\n",
        "# Loop through API data and append values to the empty arrays\n",
        "for i in json_data_pop[\"value\"]:\n",
        "    indexpop.append(i[\"SpatialDim\"])\n",
        "    valuepop.append(i[\"Value\"])\n",
        "\n",
        "# Create lists for the data and for the column labels needed in the DataFrame\n",
        "data = list(zip(indexpop, valuepop))\n",
        "label = [\"Code\", \"Population\"]\n",
        "\n",
        "# Create the DataFrame\n",
        "df_pop = pd.DataFrame(data, columns = label)\n",
        "\n",
        "# Clean the spaces out of the numerical data in order to be able to use it for a calculation\n",
        "df_pop['Population'] = df_pop['Population'].str.replace(' ', '')\n",
        "\n",
        "# Turn the population value into an integer so it can be used for a calculation\n",
        "df_pop[\"Population\"] = pd.to_numeric(df_pop[\"Population\"])\n",
        "\n",
        "# Set the Code column to the DataFrame index\n",
        "df_pop = df_pop.set_index(\"Code\")\n",
        "# Check the result\n",
        "df_pop"
      ]
    },
    {
      "cell_type": "code",
      "execution_count": null,
      "metadata": {
        "id": "di6T2mdYu01I",
        "outputId": "bc8fff76-b573-4859-a0da-d659b64df8cc"
      },
      "outputs": [
        {
          "data": {
            "text/plain": [
              "6787737744"
            ]
          },
          "execution_count": 1199,
          "metadata": {},
          "output_type": "execute_result"
        }
      ],
      "source": [
        "# Calculate the total global population and save in a variable for use in the weighted mean calculation\n",
        "total_pop = sum(df_pop[\"Population\"])\n",
        "total_pop"
      ]
    },
    {
      "cell_type": "code",
      "execution_count": null,
      "metadata": {
        "id": "BlVarDBnu01I",
        "outputId": "b4f466d7-75db-47bd-ae32-0079394e82f5"
      },
      "outputs": [
        {
          "name": "stderr",
          "output_type": "stream",
          "text": [
            "/var/folders/89/f4fzz3sn2vz74xx03fmxp5vh0000gn/T/ipykernel_5212/50943069.py:30: FutureWarning: The provided callable <function sum at 0x1040de980> is currently using DataFrameGroupBy.sum. In a future version of pandas, the provided callable will be used directly. To keep current behavior pass the string \"sum\" instead.\n",
            "  df_MPOWER_pivot = pd.DataFrame(df_MPOWER.pivot_table(values='Value', index=\"Code\", columns = \"Year\", aggfunc = np.sum))\n"
          ]
        },
        {
          "data": {
            "text/html": [
              "<div>\n",
              "<style scoped>\n",
              "    .dataframe tbody tr th:only-of-type {\n",
              "        vertical-align: middle;\n",
              "    }\n",
              "\n",
              "    .dataframe tbody tr th {\n",
              "        vertical-align: top;\n",
              "    }\n",
              "\n",
              "    .dataframe thead th {\n",
              "        text-align: right;\n",
              "    }\n",
              "</style>\n",
              "<table border=\"1\" class=\"dataframe\">\n",
              "  <thead>\n",
              "    <tr style=\"text-align: right;\">\n",
              "      <th>Year</th>\n",
              "      <th>2007</th>\n",
              "      <th>2008</th>\n",
              "      <th>2010</th>\n",
              "      <th>2012</th>\n",
              "      <th>2014</th>\n",
              "      <th>2016</th>\n",
              "      <th>2018</th>\n",
              "      <th>2020</th>\n",
              "      <th>2022</th>\n",
              "    </tr>\n",
              "    <tr>\n",
              "      <th>Code</th>\n",
              "      <th></th>\n",
              "      <th></th>\n",
              "      <th></th>\n",
              "      <th></th>\n",
              "      <th></th>\n",
              "      <th></th>\n",
              "      <th></th>\n",
              "      <th></th>\n",
              "      <th></th>\n",
              "    </tr>\n",
              "  </thead>\n",
              "  <tbody>\n",
              "    <tr>\n",
              "      <th>AFG</th>\n",
              "      <td>14</td>\n",
              "      <td>15</td>\n",
              "      <td>15</td>\n",
              "      <td>15</td>\n",
              "      <td>17</td>\n",
              "      <td>21</td>\n",
              "      <td>19</td>\n",
              "      <td>19</td>\n",
              "      <td>18</td>\n",
              "    </tr>\n",
              "    <tr>\n",
              "      <th>AGO</th>\n",
              "      <td>11</td>\n",
              "      <td>12</td>\n",
              "      <td>12</td>\n",
              "      <td>13</td>\n",
              "      <td>13</td>\n",
              "      <td>12</td>\n",
              "      <td>16</td>\n",
              "      <td>16</td>\n",
              "      <td>16</td>\n",
              "    </tr>\n",
              "    <tr>\n",
              "      <th>ALB</th>\n",
              "      <td>19</td>\n",
              "      <td>24</td>\n",
              "      <td>24</td>\n",
              "      <td>25</td>\n",
              "      <td>24</td>\n",
              "      <td>24</td>\n",
              "      <td>24</td>\n",
              "      <td>25</td>\n",
              "      <td>25</td>\n",
              "    </tr>\n",
              "    <tr>\n",
              "      <th>AND</th>\n",
              "      <td>13</td>\n",
              "      <td>12</td>\n",
              "      <td>15</td>\n",
              "      <td>17</td>\n",
              "      <td>17</td>\n",
              "      <td>17</td>\n",
              "      <td>18</td>\n",
              "      <td>18</td>\n",
              "      <td>18</td>\n",
              "    </tr>\n",
              "    <tr>\n",
              "      <th>ARE</th>\n",
              "      <td>15</td>\n",
              "      <td>19</td>\n",
              "      <td>20</td>\n",
              "      <td>22</td>\n",
              "      <td>22</td>\n",
              "      <td>21</td>\n",
              "      <td>24</td>\n",
              "      <td>24</td>\n",
              "      <td>23</td>\n",
              "    </tr>\n",
              "    <tr>\n",
              "      <th>...</th>\n",
              "      <td>...</td>\n",
              "      <td>...</td>\n",
              "      <td>...</td>\n",
              "      <td>...</td>\n",
              "      <td>...</td>\n",
              "      <td>...</td>\n",
              "      <td>...</td>\n",
              "      <td>...</td>\n",
              "      <td>...</td>\n",
              "    </tr>\n",
              "    <tr>\n",
              "      <th>WSM</th>\n",
              "      <td>13</td>\n",
              "      <td>20</td>\n",
              "      <td>20</td>\n",
              "      <td>20</td>\n",
              "      <td>23</td>\n",
              "      <td>24</td>\n",
              "      <td>23</td>\n",
              "      <td>22</td>\n",
              "      <td>22</td>\n",
              "    </tr>\n",
              "    <tr>\n",
              "      <th>YEM</th>\n",
              "      <td>16</td>\n",
              "      <td>19</td>\n",
              "      <td>18</td>\n",
              "      <td>19</td>\n",
              "      <td>22</td>\n",
              "      <td>22</td>\n",
              "      <td>22</td>\n",
              "      <td>21</td>\n",
              "      <td>20</td>\n",
              "    </tr>\n",
              "    <tr>\n",
              "      <th>ZAF</th>\n",
              "      <td>15</td>\n",
              "      <td>17</td>\n",
              "      <td>18</td>\n",
              "      <td>18</td>\n",
              "      <td>19</td>\n",
              "      <td>19</td>\n",
              "      <td>17</td>\n",
              "      <td>17</td>\n",
              "      <td>18</td>\n",
              "    </tr>\n",
              "    <tr>\n",
              "      <th>ZMB</th>\n",
              "      <td>13</td>\n",
              "      <td>16</td>\n",
              "      <td>15</td>\n",
              "      <td>16</td>\n",
              "      <td>16</td>\n",
              "      <td>16</td>\n",
              "      <td>17</td>\n",
              "      <td>17</td>\n",
              "      <td>17</td>\n",
              "    </tr>\n",
              "    <tr>\n",
              "      <th>ZWE</th>\n",
              "      <td>13</td>\n",
              "      <td>15</td>\n",
              "      <td>16</td>\n",
              "      <td>14</td>\n",
              "      <td>14</td>\n",
              "      <td>16</td>\n",
              "      <td>16</td>\n",
              "      <td>15</td>\n",
              "      <td>15</td>\n",
              "    </tr>\n",
              "  </tbody>\n",
              "</table>\n",
              "<p>195 rows × 9 columns</p>\n",
              "</div>"
            ],
            "text/plain": [
              "Year  2007  2008  2010  2012  2014  2016  2018  2020  2022\n",
              "Code                                                      \n",
              "AFG     14    15    15    15    17    21    19    19    18\n",
              "AGO     11    12    12    13    13    12    16    16    16\n",
              "ALB     19    24    24    25    24    24    24    25    25\n",
              "AND     13    12    15    17    17    17    18    18    18\n",
              "ARE     15    19    20    22    22    21    24    24    23\n",
              "...    ...   ...   ...   ...   ...   ...   ...   ...   ...\n",
              "WSM     13    20    20    20    23    24    23    22    22\n",
              "YEM     16    19    18    19    22    22    22    21    20\n",
              "ZAF     15    17    18    18    19    19    17    17    18\n",
              "ZMB     13    16    15    16    16    16    17    17    17\n",
              "ZWE     13    15    16    14    14    16    16    15    15\n",
              "\n",
              "[195 rows x 9 columns]"
            ]
          },
          "execution_count": 1200,
          "metadata": {},
          "output_type": "execute_result"
        }
      ],
      "source": [
        "# Create a panda's DataFrame for MPOWER data:\n",
        "\n",
        "# Set empty arrays to append data into:\n",
        "mpower_index = [] # For the country code\n",
        "mpower_time = [] # For the year\n",
        "mpower_value = [] # For the value\n",
        "\n",
        "# Create a list of all files to append data for:\n",
        "List_of_json = [json_data_M, json_data_P, json_data_O, json_data_W, json_data_E, json_data_R]\n",
        "\n",
        "for i in List_of_json:\n",
        "    for j in i[\"value\"]:\n",
        "        mpower_index.append(j[\"SpatialDim\"])\n",
        "        mpower_time.append(j[\"TimeDimensionValue\"])\n",
        "        mpower_value.append(j[\"Value\"])\n",
        "\n",
        "# Create lists for the data and for the column labels needed in the DataFrame\n",
        "data = list(zip(mpower_index, mpower_time, mpower_value))\n",
        "label = [\"Code\", \"Year\", \"Value\"]\n",
        "\n",
        "# Create the DataFrame\n",
        "df_MPOWER = pd.DataFrame(data, columns = label)\n",
        "# Replace \"Not applicable\" with 1 - the lowest level possible\n",
        "df_MPOWER = df_MPOWER.replace(\"Not applicable\", 1)\n",
        "\n",
        "# Turn column \"Value\" into numeric to be able to calculate the mean\n",
        "df_MPOWER[\"Value\"] = df_MPOWER[\"Value\"].apply(pd.to_numeric, errors='coerce')\n",
        "\n",
        "# Create a DataFrame of a pivot table to get the total MPOWER score for each country\n",
        "df_MPOWER_pivot = pd.DataFrame(df_MPOWER.pivot_table(values='Value', index=\"Code\", columns = \"Year\", aggfunc = np.sum))\n",
        "# Check the result\n",
        "df_MPOWER_pivot\n"
      ]
    },
    {
      "cell_type": "code",
      "execution_count": null,
      "metadata": {
        "id": "shwJrcmxu01I",
        "outputId": "4af712d9-a5ea-45a7-edfb-5ff376017474"
      },
      "outputs": [
        {
          "data": {
            "text/html": [
              "<div>\n",
              "<style scoped>\n",
              "    .dataframe tbody tr th:only-of-type {\n",
              "        vertical-align: middle;\n",
              "    }\n",
              "\n",
              "    .dataframe tbody tr th {\n",
              "        vertical-align: top;\n",
              "    }\n",
              "\n",
              "    .dataframe thead th {\n",
              "        text-align: right;\n",
              "    }\n",
              "</style>\n",
              "<table border=\"1\" class=\"dataframe\">\n",
              "  <thead>\n",
              "    <tr style=\"text-align: right;\">\n",
              "      <th></th>\n",
              "      <th>Population</th>\n",
              "      <th>2007</th>\n",
              "      <th>2008</th>\n",
              "      <th>2010</th>\n",
              "      <th>2012</th>\n",
              "      <th>2014</th>\n",
              "      <th>2016</th>\n",
              "      <th>2018</th>\n",
              "      <th>2020</th>\n",
              "      <th>2022</th>\n",
              "    </tr>\n",
              "    <tr>\n",
              "      <th>Code</th>\n",
              "      <th></th>\n",
              "      <th></th>\n",
              "      <th></th>\n",
              "      <th></th>\n",
              "      <th></th>\n",
              "      <th></th>\n",
              "      <th></th>\n",
              "      <th></th>\n",
              "      <th></th>\n",
              "      <th></th>\n",
              "    </tr>\n",
              "  </thead>\n",
              "  <tbody>\n",
              "    <tr>\n",
              "      <th>ARM</th>\n",
              "      <td>3092072</td>\n",
              "      <td>16</td>\n",
              "      <td>17</td>\n",
              "      <td>17</td>\n",
              "      <td>19</td>\n",
              "      <td>20</td>\n",
              "      <td>21</td>\n",
              "      <td>21</td>\n",
              "      <td>25</td>\n",
              "      <td>25</td>\n",
              "    </tr>\n",
              "    <tr>\n",
              "      <th>ZMB</th>\n",
              "      <td>13088570</td>\n",
              "      <td>13</td>\n",
              "      <td>16</td>\n",
              "      <td>15</td>\n",
              "      <td>16</td>\n",
              "      <td>16</td>\n",
              "      <td>16</td>\n",
              "      <td>17</td>\n",
              "      <td>17</td>\n",
              "      <td>17</td>\n",
              "    </tr>\n",
              "    <tr>\n",
              "      <th>POL</th>\n",
              "      <td>38276660</td>\n",
              "      <td>18</td>\n",
              "      <td>22</td>\n",
              "      <td>23</td>\n",
              "      <td>23</td>\n",
              "      <td>23</td>\n",
              "      <td>25</td>\n",
              "      <td>25</td>\n",
              "      <td>25</td>\n",
              "      <td>25</td>\n",
              "    </tr>\n",
              "    <tr>\n",
              "      <th>IRL</th>\n",
              "      <td>4469900</td>\n",
              "      <td>22</td>\n",
              "      <td>26</td>\n",
              "      <td>26</td>\n",
              "      <td>27</td>\n",
              "      <td>27</td>\n",
              "      <td>28</td>\n",
              "      <td>28</td>\n",
              "      <td>28</td>\n",
              "      <td>28</td>\n",
              "    </tr>\n",
              "    <tr>\n",
              "      <th>MLI</th>\n",
              "      <td>15369809</td>\n",
              "      <td>12</td>\n",
              "      <td>14</td>\n",
              "      <td>16</td>\n",
              "      <td>17</td>\n",
              "      <td>15</td>\n",
              "      <td>17</td>\n",
              "      <td>17</td>\n",
              "      <td>17</td>\n",
              "      <td>16</td>\n",
              "    </tr>\n",
              "    <tr>\n",
              "      <th>...</th>\n",
              "      <td>...</td>\n",
              "      <td>...</td>\n",
              "      <td>...</td>\n",
              "      <td>...</td>\n",
              "      <td>...</td>\n",
              "      <td>...</td>\n",
              "      <td>...</td>\n",
              "      <td>...</td>\n",
              "      <td>...</td>\n",
              "      <td>...</td>\n",
              "    </tr>\n",
              "    <tr>\n",
              "      <th>BRA</th>\n",
              "      <td>194946488</td>\n",
              "      <td>19</td>\n",
              "      <td>22</td>\n",
              "      <td>22</td>\n",
              "      <td>27</td>\n",
              "      <td>28</td>\n",
              "      <td>28</td>\n",
              "      <td>29</td>\n",
              "      <td>29</td>\n",
              "      <td>29</td>\n",
              "    </tr>\n",
              "    <tr>\n",
              "      <th>GEO</th>\n",
              "      <td>4352244</td>\n",
              "      <td>15</td>\n",
              "      <td>17</td>\n",
              "      <td>17</td>\n",
              "      <td>18</td>\n",
              "      <td>19</td>\n",
              "      <td>20</td>\n",
              "      <td>25</td>\n",
              "      <td>25</td>\n",
              "      <td>24</td>\n",
              "    </tr>\n",
              "    <tr>\n",
              "      <th>PRK</th>\n",
              "      <td>24346229</td>\n",
              "      <td>12</td>\n",
              "      <td>13</td>\n",
              "      <td>14</td>\n",
              "      <td>14</td>\n",
              "      <td>15</td>\n",
              "      <td>16</td>\n",
              "      <td>16</td>\n",
              "      <td>16</td>\n",
              "      <td>16</td>\n",
              "    </tr>\n",
              "    <tr>\n",
              "      <th>MDG</th>\n",
              "      <td>20713819</td>\n",
              "      <td>14</td>\n",
              "      <td>18</td>\n",
              "      <td>21</td>\n",
              "      <td>22</td>\n",
              "      <td>25</td>\n",
              "      <td>25</td>\n",
              "      <td>26</td>\n",
              "      <td>25</td>\n",
              "      <td>25</td>\n",
              "    </tr>\n",
              "    <tr>\n",
              "      <th>SMR</th>\n",
              "      <td>31533</td>\n",
              "      <td>11</td>\n",
              "      <td>14</td>\n",
              "      <td>18</td>\n",
              "      <td>18</td>\n",
              "      <td>20</td>\n",
              "      <td>20</td>\n",
              "      <td>15</td>\n",
              "      <td>14</td>\n",
              "      <td>17</td>\n",
              "    </tr>\n",
              "  </tbody>\n",
              "</table>\n",
              "<p>181 rows × 10 columns</p>\n",
              "</div>"
            ],
            "text/plain": [
              "      Population  2007  2008  2010  2012  2014  2016  2018  2020  2022\n",
              "Code                                                                  \n",
              "ARM      3092072    16    17    17    19    20    21    21    25    25\n",
              "ZMB     13088570    13    16    15    16    16    16    17    17    17\n",
              "POL     38276660    18    22    23    23    23    25    25    25    25\n",
              "IRL      4469900    22    26    26    27    27    28    28    28    28\n",
              "MLI     15369809    12    14    16    17    15    17    17    17    16\n",
              "...          ...   ...   ...   ...   ...   ...   ...   ...   ...   ...\n",
              "BRA    194946488    19    22    22    27    28    28    29    29    29\n",
              "GEO      4352244    15    17    17    18    19    20    25    25    24\n",
              "PRK     24346229    12    13    14    14    15    16    16    16    16\n",
              "MDG     20713819    14    18    21    22    25    25    26    25    25\n",
              "SMR        31533    11    14    18    18    20    20    15    14    17\n",
              "\n",
              "[181 rows x 10 columns]"
            ]
          },
          "execution_count": 1201,
          "metadata": {},
          "output_type": "execute_result"
        }
      ],
      "source": [
        "# Merge pivot tables with population\n",
        "# Inner merge used in order to only have data where there is a poplulation number\n",
        "merged_dataframe = pd.merge(df_pop, df_MPOWER_pivot, left_index=True, right_index=True, how='inner')\n",
        "merged_dataframe"
      ]
    },
    {
      "cell_type": "code",
      "execution_count": null,
      "metadata": {
        "id": "6J0xdZptu01I",
        "outputId": "cb925f11-9245-4608-c412-47cbf082a81d"
      },
      "outputs": [
        {
          "data": {
            "text/html": [
              "<div>\n",
              "<style scoped>\n",
              "    .dataframe tbody tr th:only-of-type {\n",
              "        vertical-align: middle;\n",
              "    }\n",
              "\n",
              "    .dataframe tbody tr th {\n",
              "        vertical-align: top;\n",
              "    }\n",
              "\n",
              "    .dataframe thead th {\n",
              "        text-align: right;\n",
              "    }\n",
              "</style>\n",
              "<table border=\"1\" class=\"dataframe\">\n",
              "  <thead>\n",
              "    <tr style=\"text-align: right;\">\n",
              "      <th></th>\n",
              "      <th>Population</th>\n",
              "      <th>2007</th>\n",
              "      <th>2008</th>\n",
              "      <th>2010</th>\n",
              "      <th>2012</th>\n",
              "      <th>2014</th>\n",
              "      <th>2016</th>\n",
              "      <th>2018</th>\n",
              "      <th>2020</th>\n",
              "      <th>2022</th>\n",
              "    </tr>\n",
              "    <tr>\n",
              "      <th>Code</th>\n",
              "      <th></th>\n",
              "      <th></th>\n",
              "      <th></th>\n",
              "      <th></th>\n",
              "      <th></th>\n",
              "      <th></th>\n",
              "      <th></th>\n",
              "      <th></th>\n",
              "      <th></th>\n",
              "      <th></th>\n",
              "    </tr>\n",
              "  </thead>\n",
              "  <tbody>\n",
              "    <tr>\n",
              "      <th>ARM</th>\n",
              "      <td>3092072</td>\n",
              "      <td>49473152</td>\n",
              "      <td>52565224</td>\n",
              "      <td>52565224</td>\n",
              "      <td>58749368</td>\n",
              "      <td>61841440</td>\n",
              "      <td>64933512</td>\n",
              "      <td>64933512</td>\n",
              "      <td>77301800</td>\n",
              "      <td>77301800</td>\n",
              "    </tr>\n",
              "    <tr>\n",
              "      <th>ZMB</th>\n",
              "      <td>13088570</td>\n",
              "      <td>170151410</td>\n",
              "      <td>209417120</td>\n",
              "      <td>196328550</td>\n",
              "      <td>209417120</td>\n",
              "      <td>209417120</td>\n",
              "      <td>209417120</td>\n",
              "      <td>222505690</td>\n",
              "      <td>222505690</td>\n",
              "      <td>222505690</td>\n",
              "    </tr>\n",
              "    <tr>\n",
              "      <th>POL</th>\n",
              "      <td>38276660</td>\n",
              "      <td>688979880</td>\n",
              "      <td>842086520</td>\n",
              "      <td>880363180</td>\n",
              "      <td>880363180</td>\n",
              "      <td>880363180</td>\n",
              "      <td>956916500</td>\n",
              "      <td>956916500</td>\n",
              "      <td>956916500</td>\n",
              "      <td>956916500</td>\n",
              "    </tr>\n",
              "    <tr>\n",
              "      <th>IRL</th>\n",
              "      <td>4469900</td>\n",
              "      <td>98337800</td>\n",
              "      <td>116217400</td>\n",
              "      <td>116217400</td>\n",
              "      <td>120687300</td>\n",
              "      <td>120687300</td>\n",
              "      <td>125157200</td>\n",
              "      <td>125157200</td>\n",
              "      <td>125157200</td>\n",
              "      <td>125157200</td>\n",
              "    </tr>\n",
              "    <tr>\n",
              "      <th>MLI</th>\n",
              "      <td>15369809</td>\n",
              "      <td>184437708</td>\n",
              "      <td>215177326</td>\n",
              "      <td>245916944</td>\n",
              "      <td>261286753</td>\n",
              "      <td>230547135</td>\n",
              "      <td>261286753</td>\n",
              "      <td>261286753</td>\n",
              "      <td>261286753</td>\n",
              "      <td>245916944</td>\n",
              "    </tr>\n",
              "    <tr>\n",
              "      <th>...</th>\n",
              "      <td>...</td>\n",
              "      <td>...</td>\n",
              "      <td>...</td>\n",
              "      <td>...</td>\n",
              "      <td>...</td>\n",
              "      <td>...</td>\n",
              "      <td>...</td>\n",
              "      <td>...</td>\n",
              "      <td>...</td>\n",
              "      <td>...</td>\n",
              "    </tr>\n",
              "    <tr>\n",
              "      <th>BRA</th>\n",
              "      <td>194946488</td>\n",
              "      <td>3703983272</td>\n",
              "      <td>4288822736</td>\n",
              "      <td>4288822736</td>\n",
              "      <td>5263555176</td>\n",
              "      <td>5458501664</td>\n",
              "      <td>5458501664</td>\n",
              "      <td>5653448152</td>\n",
              "      <td>5653448152</td>\n",
              "      <td>5653448152</td>\n",
              "    </tr>\n",
              "    <tr>\n",
              "      <th>GEO</th>\n",
              "      <td>4352244</td>\n",
              "      <td>65283660</td>\n",
              "      <td>73988148</td>\n",
              "      <td>73988148</td>\n",
              "      <td>78340392</td>\n",
              "      <td>82692636</td>\n",
              "      <td>87044880</td>\n",
              "      <td>108806100</td>\n",
              "      <td>108806100</td>\n",
              "      <td>104453856</td>\n",
              "    </tr>\n",
              "    <tr>\n",
              "      <th>PRK</th>\n",
              "      <td>24346229</td>\n",
              "      <td>292154748</td>\n",
              "      <td>316500977</td>\n",
              "      <td>340847206</td>\n",
              "      <td>340847206</td>\n",
              "      <td>365193435</td>\n",
              "      <td>389539664</td>\n",
              "      <td>389539664</td>\n",
              "      <td>389539664</td>\n",
              "      <td>389539664</td>\n",
              "    </tr>\n",
              "    <tr>\n",
              "      <th>MDG</th>\n",
              "      <td>20713819</td>\n",
              "      <td>289993466</td>\n",
              "      <td>372848742</td>\n",
              "      <td>434990199</td>\n",
              "      <td>455704018</td>\n",
              "      <td>517845475</td>\n",
              "      <td>517845475</td>\n",
              "      <td>538559294</td>\n",
              "      <td>517845475</td>\n",
              "      <td>517845475</td>\n",
              "    </tr>\n",
              "    <tr>\n",
              "      <th>SMR</th>\n",
              "      <td>31533</td>\n",
              "      <td>346863</td>\n",
              "      <td>441462</td>\n",
              "      <td>567594</td>\n",
              "      <td>567594</td>\n",
              "      <td>630660</td>\n",
              "      <td>630660</td>\n",
              "      <td>472995</td>\n",
              "      <td>441462</td>\n",
              "      <td>536061</td>\n",
              "    </tr>\n",
              "  </tbody>\n",
              "</table>\n",
              "<p>181 rows × 10 columns</p>\n",
              "</div>"
            ],
            "text/plain": [
              "      Population        2007        2008        2010        2012        2014  \\\n",
              "Code                                                                           \n",
              "ARM      3092072    49473152    52565224    52565224    58749368    61841440   \n",
              "ZMB     13088570   170151410   209417120   196328550   209417120   209417120   \n",
              "POL     38276660   688979880   842086520   880363180   880363180   880363180   \n",
              "IRL      4469900    98337800   116217400   116217400   120687300   120687300   \n",
              "MLI     15369809   184437708   215177326   245916944   261286753   230547135   \n",
              "...          ...         ...         ...         ...         ...         ...   \n",
              "BRA    194946488  3703983272  4288822736  4288822736  5263555176  5458501664   \n",
              "GEO      4352244    65283660    73988148    73988148    78340392    82692636   \n",
              "PRK     24346229   292154748   316500977   340847206   340847206   365193435   \n",
              "MDG     20713819   289993466   372848742   434990199   455704018   517845475   \n",
              "SMR        31533      346863      441462      567594      567594      630660   \n",
              "\n",
              "            2016        2018        2020        2022  \n",
              "Code                                                  \n",
              "ARM     64933512    64933512    77301800    77301800  \n",
              "ZMB    209417120   222505690   222505690   222505690  \n",
              "POL    956916500   956916500   956916500   956916500  \n",
              "IRL    125157200   125157200   125157200   125157200  \n",
              "MLI    261286753   261286753   261286753   245916944  \n",
              "...          ...         ...         ...         ...  \n",
              "BRA   5458501664  5653448152  5653448152  5653448152  \n",
              "GEO     87044880   108806100   108806100   104453856  \n",
              "PRK    389539664   389539664   389539664   389539664  \n",
              "MDG    517845475   538559294   517845475   517845475  \n",
              "SMR       630660      472995      441462      536061  \n",
              "\n",
              "[181 rows x 10 columns]"
            ]
          },
          "execution_count": 1202,
          "metadata": {},
          "output_type": "execute_result"
        }
      ],
      "source": [
        "# Multiply population by MPOWER score for the weighted mean calculation:\n",
        "\n",
        "# Create a list of the years\n",
        "df_MPOWER_pivot_columns = list(df_MPOWER_pivot.columns)\n",
        "\n",
        "# Loop through the columns and multiply population by total MPOWER score\n",
        "for i in df_MPOWER_pivot_columns:\n",
        "    merged_dataframe[i] = merged_dataframe[i] * merged_dataframe[\"Population\"]\n",
        "merged_dataframe"
      ]
    },
    {
      "cell_type": "code",
      "execution_count": null,
      "metadata": {
        "id": "mPLt5CEpu01J",
        "outputId": "e8579e33-3b99-4aac-ec28-2914d81c678a"
      },
      "outputs": [
        {
          "data": {
            "text/html": [
              "<div>\n",
              "<style scoped>\n",
              "    .dataframe tbody tr th:only-of-type {\n",
              "        vertical-align: middle;\n",
              "    }\n",
              "\n",
              "    .dataframe tbody tr th {\n",
              "        vertical-align: top;\n",
              "    }\n",
              "\n",
              "    .dataframe thead th {\n",
              "        text-align: right;\n",
              "    }\n",
              "</style>\n",
              "<table border=\"1\" class=\"dataframe\">\n",
              "  <thead>\n",
              "    <tr style=\"text-align: right;\">\n",
              "      <th></th>\n",
              "      <th>Weighted Mean MPOWER</th>\n",
              "    </tr>\n",
              "    <tr>\n",
              "      <th>Year</th>\n",
              "      <th></th>\n",
              "    </tr>\n",
              "  </thead>\n",
              "  <tbody>\n",
              "    <tr>\n",
              "      <th>2007</th>\n",
              "      <td>15.185550</td>\n",
              "    </tr>\n",
              "    <tr>\n",
              "      <th>2008</th>\n",
              "      <td>18.812244</td>\n",
              "    </tr>\n",
              "    <tr>\n",
              "      <th>2010</th>\n",
              "      <td>19.041077</td>\n",
              "    </tr>\n",
              "    <tr>\n",
              "      <th>2012</th>\n",
              "      <td>19.873850</td>\n",
              "    </tr>\n",
              "    <tr>\n",
              "      <th>2014</th>\n",
              "      <td>20.900575</td>\n",
              "    </tr>\n",
              "    <tr>\n",
              "      <th>2016</th>\n",
              "      <td>21.946641</td>\n",
              "    </tr>\n",
              "    <tr>\n",
              "      <th>2018</th>\n",
              "      <td>22.497117</td>\n",
              "    </tr>\n",
              "    <tr>\n",
              "      <th>2020</th>\n",
              "      <td>22.687553</td>\n",
              "    </tr>\n",
              "    <tr>\n",
              "      <th>2022</th>\n",
              "      <td>22.782868</td>\n",
              "    </tr>\n",
              "  </tbody>\n",
              "</table>\n",
              "</div>"
            ],
            "text/plain": [
              "      Weighted Mean MPOWER\n",
              "Year                      \n",
              "2007             15.185550\n",
              "2008             18.812244\n",
              "2010             19.041077\n",
              "2012             19.873850\n",
              "2014             20.900575\n",
              "2016             21.946641\n",
              "2018             22.497117\n",
              "2020             22.687553\n",
              "2022             22.782868"
            ]
          },
          "execution_count": 1203,
          "metadata": {},
          "output_type": "execute_result"
        }
      ],
      "source": [
        "# Add up each column in the table\n",
        "\n",
        "# Set empty arrays to append data into:\n",
        "total_year = []\n",
        "total_mean = []\n",
        "\n",
        "# Loop through the and append the weighted mean to the empty arrays\n",
        "for i in df_MPOWER_pivot_columns:\n",
        "    total_year.append(i)\n",
        "    total_mean.append(merged_dataframe[i].sum()/total_pop)\n",
        "\n",
        "# Create lists for the data needed in the DataFrame\n",
        "data = list(zip(total_year, total_mean))\n",
        "\n",
        "# Create a DataFrame of the weighted mean by year\n",
        "mean_by_year = pd.DataFrame(data, columns = [\"Year\", \"Weighted Mean MPOWER\"])\n",
        "# Turn all data into numeric values in order to plot them on the graph\n",
        "mean_by_year = mean_by_year.apply(pd.to_numeric, errors='coerce')\n",
        "# Set year as the index to merge with smoking rates\n",
        "mean_by_year = mean_by_year.set_index(\"Year\")\n",
        "# Check the DataFrame\n",
        "mean_by_year"
      ]
    },
    {
      "cell_type": "code",
      "execution_count": null,
      "metadata": {
        "id": "Q3-9oj4Cu01J",
        "outputId": "3963775c-bc69-4e1d-ed2d-6acdc969c459"
      },
      "outputs": [
        {
          "data": {
            "text/html": [
              "<div>\n",
              "<style scoped>\n",
              "    .dataframe tbody tr th:only-of-type {\n",
              "        vertical-align: middle;\n",
              "    }\n",
              "\n",
              "    .dataframe tbody tr th {\n",
              "        vertical-align: top;\n",
              "    }\n",
              "\n",
              "    .dataframe thead th {\n",
              "        text-align: right;\n",
              "    }\n",
              "</style>\n",
              "<table border=\"1\" class=\"dataframe\">\n",
              "  <thead>\n",
              "    <tr style=\"text-align: right;\">\n",
              "      <th></th>\n",
              "      <th>Weighted Mean MPOWER</th>\n",
              "      <th>Smoking Rate</th>\n",
              "    </tr>\n",
              "    <tr>\n",
              "      <th>Year</th>\n",
              "      <th></th>\n",
              "      <th></th>\n",
              "    </tr>\n",
              "  </thead>\n",
              "  <tbody>\n",
              "    <tr>\n",
              "      <th>2007</th>\n",
              "      <td>15.185550</td>\n",
              "      <td>28.1</td>\n",
              "    </tr>\n",
              "    <tr>\n",
              "      <th>2008</th>\n",
              "      <td>18.812244</td>\n",
              "      <td>NaN</td>\n",
              "    </tr>\n",
              "    <tr>\n",
              "      <th>2010</th>\n",
              "      <td>19.041077</td>\n",
              "      <td>26.4</td>\n",
              "    </tr>\n",
              "    <tr>\n",
              "      <th>2012</th>\n",
              "      <td>19.873850</td>\n",
              "      <td>NaN</td>\n",
              "    </tr>\n",
              "    <tr>\n",
              "      <th>2014</th>\n",
              "      <td>20.900575</td>\n",
              "      <td>NaN</td>\n",
              "    </tr>\n",
              "    <tr>\n",
              "      <th>2015</th>\n",
              "      <td>NaN</td>\n",
              "      <td>23.9</td>\n",
              "    </tr>\n",
              "    <tr>\n",
              "      <th>2016</th>\n",
              "      <td>21.946641</td>\n",
              "      <td>NaN</td>\n",
              "    </tr>\n",
              "    <tr>\n",
              "      <th>2018</th>\n",
              "      <td>22.497117</td>\n",
              "      <td>22.5</td>\n",
              "    </tr>\n",
              "    <tr>\n",
              "      <th>2020</th>\n",
              "      <td>22.687553</td>\n",
              "      <td>21.7</td>\n",
              "    </tr>\n",
              "    <tr>\n",
              "      <th>2021</th>\n",
              "      <td>NaN</td>\n",
              "      <td>21.3</td>\n",
              "    </tr>\n",
              "    <tr>\n",
              "      <th>2022</th>\n",
              "      <td>22.782868</td>\n",
              "      <td>20.9</td>\n",
              "    </tr>\n",
              "  </tbody>\n",
              "</table>\n",
              "</div>"
            ],
            "text/plain": [
              "      Weighted Mean MPOWER  Smoking Rate\n",
              "Year                                    \n",
              "2007             15.185550          28.1\n",
              "2008             18.812244           NaN\n",
              "2010             19.041077          26.4\n",
              "2012             19.873850           NaN\n",
              "2014             20.900575           NaN\n",
              "2015                   NaN          23.9\n",
              "2016             21.946641           NaN\n",
              "2018             22.497117          22.5\n",
              "2020             22.687553          21.7\n",
              "2021                   NaN          21.3\n",
              "2022             22.782868          20.9"
            ]
          },
          "execution_count": 1204,
          "metadata": {},
          "output_type": "execute_result"
        }
      ],
      "source": [
        "# Merge weighted mean with smoking rate\n",
        "# Use outer merge as we want to plot data for all of the years\n",
        "merged_rate_MPOWER = pd.merge(mean_by_year, df_rate, left_index=True, right_index=True, how='outer')\n",
        "# Drop future years and past years without MPOWER data\n",
        "cleaned_merged_rate_MPOWER = merged_rate_MPOWER.drop([2000, 2005,2025, 2030])\n",
        "# Check result\n",
        "cleaned_merged_rate_MPOWER"
      ]
    },
    {
      "cell_type": "markdown",
      "metadata": {
        "id": "XZf63K3Bu01J"
      },
      "source": [
        "#### Calculate the Correlation"
      ]
    },
    {
      "cell_type": "code",
      "execution_count": null,
      "metadata": {
        "id": "NDamYK0yu01J",
        "outputId": "fe86d4b8-2fc2-4413-cdd8-a4c03c7a15c4"
      },
      "outputs": [
        {
          "name": "stdout",
          "output_type": "stream",
          "text": [
            "                      Weighted Mean MPOWER  Smoking Rate\n",
            "Weighted Mean MPOWER              1.000000     -0.963532\n",
            "Smoking Rate                     -0.963532      1.000000\n"
          ]
        }
      ],
      "source": [
        "# Calculate the correlation\n",
        "print(merged_rate_MPOWER.corr())"
      ]
    },
    {
      "cell_type": "markdown",
      "metadata": {
        "id": "zie6_RCOu01J"
      },
      "source": [
        "#### Plot the relationship"
      ]
    },
    {
      "cell_type": "code",
      "execution_count": null,
      "metadata": {
        "id": "R-BQZ89Hu01J",
        "outputId": "542f8299-4f99-487b-bc9f-2e70abffe362"
      },
      "outputs": [
        {
          "data": {
            "image/png": "[encoded data removed]",
            "text/plain": [
              "<Figure size 640x480 with 2 Axes>"
            ]
          },
          "metadata": {},
          "output_type": "display_data"
        }
      ],
      "source": [
        "# import libraries\n",
        "import numpy as np\n",
        "import matplotlib.pyplot as plt\n",
        "import seaborn as sns\n",
        "\n",
        "# Create a mask to smooth the data into a line as not all years have data\n",
        "ratemask = np.isfinite(cleaned_merged_rate_MPOWER[\"Smoking Rate\"])\n",
        "MPOWERmask = np.isfinite(cleaned_merged_rate_MPOWER[\"Weighted Mean MPOWER\"])\n",
        "\n",
        "# Create the plot and set the axis values\n",
        "fig, ax1 = plt.subplots()\n",
        "plt.xlim(2008, 2022)\n",
        "plt.ylim(18, 23)\n",
        "ax1.set_facecolor(\"gainsboro\")\n",
        "plt.grid(axis = 'y')\n",
        "\n",
        "# Plot the MPOWER values\n",
        "ax1.set_xlabel('Year')\n",
        "ax1.set_ylabel('MPOWER Weighted Average Mean', color = 'darkred')\n",
        "ax1.plot(cleaned_merged_rate_MPOWER[\"Weighted Mean MPOWER\"][MPOWERmask], color = 'darkred', lw = 3)\n",
        "ax1.tick_params(axis ='y', labelcolor = 'darkred')\n",
        "plt.grid(axis = 'y')\n",
        "\n",
        "# Adding Twin Axes to plot smoking rates\n",
        "ax2 = ax1.twinx()\n",
        "ax2.set_ylabel('Global Smoking Rate (%)', color = \"darkblue\")\n",
        "ax2.plot(cleaned_merged_rate_MPOWER[\"Smoking Rate\"][ratemask], linestyle='-', color = \"darkblue\", lw=3)\n",
        "ax2.tick_params(axis ='y', labelcolor = \"darkblue\")\n",
        "plt.grid(axis = 'y')\n",
        "\n",
        "# Adding title\n",
        "plt.title('MPOWER Measures and Smoking Rates over Time')\n",
        "\n",
        "# Show plot\n",
        "plt.show()"
      ]
    },
    {
      "cell_type": "markdown",
      "metadata": {
        "id": "lmWctyf8u01J"
      },
      "source": [
        "#### Conclusion\n",
        "The data shows that there is a clear correlation globally between the number of measures in place to reduce demand for tobacco and the smoking rate.\n",
        "This demonstrates that there is evidence that increasing the measures in place to reduce demand for tobacco products reduces smoking rates."
      ]
    },
    {
      "cell_type": "markdown",
      "metadata": {
        "id": "nYb5m7N2u01J"
      },
      "source": []
    },
    {
      "cell_type": "markdown",
      "metadata": {
        "id": "za_iet_Bu01J"
      },
      "source": [
        "The next step in our analysis was to determine if this global trend was also seen in the UK.\n",
        "Over the last twenty years there has been increasing legal measures implemented by successive UK governments to reduce the rate of smoking.\n",
        "A summary of these is outlined below:"
      ]
    },
    {
      "cell_type": "markdown",
      "metadata": {
        "id": "iA7LSCr4u01J"
      },
      "source": [
        "### Timeline of key government legislation and regulation\n",
        "\n",
        "<img src=\"https://github.com/rhobaker/Data_Project/blob/main/Smoking_actions_timeline.png?raw=true\" width=\"900\" height=\"450\"/>"
      ]
    },
    {
      "cell_type": "markdown",
      "metadata": {
        "id": "ZG_1kVzhu01J"
      },
      "source": [
        "https://news.cancerresearchuk.org/2023/03/07/ending-smoking-could-free-up-gp-appointments/"
      ]
    },
    {
      "cell_type": "markdown",
      "metadata": {
        "id": "_OKrRyyxu01J"
      },
      "source": [
        "#### <span style=\"border: 2px solid darkblue\" padding = 500px > Analysis XX: Changes in e-cigarette use</span>"
      ]
    },
    {
      "cell_type": "markdown",
      "metadata": {
        "id": "Ws9bp0dru01J"
      },
      "source": [
        "The proposed ban focuses on reducing smoking rates, but also acknowledges the issue of the use of e-cigarettes (a.k.a. vaping). Although e-cigarettes don't contain tobacco, the key factor causing cancer, they are not risk-free. The NHS recommends that young people should not take up vaping, a key concern, particularly with attractive 'flavours' such as fruit and sweets. The long-term side-effects of vaping are still unknown.\n",
        "\n",
        "In order to analyse the effect e-cigarettes may have on smoking rates, we analysed the Office for National Statistics and NHS publicly available datasets on 'E-cigarette use in Great Britain', 'Adult smoking habits in Great Britain' and 'Smoking, drinking and drug use among young people'.\n",
        "\n",
        "Recency in the datasets prevents us from analysing reported recent significant changes in e-cigarette use; the adult dataset goes up to 2022 but the youth set only up to 2021. To mitigate this, we have taken a small amount of data from written documents (all that was available) of the ASH Smokefree GB youth survey 2023.\n"
      ]
    },
    {
      "cell_type": "markdown",
      "metadata": {
        "id": "NpfoGODWu01J"
      },
      "source": [
        "#### Overall e-cigarette rates"
      ]
    },
    {
      "cell_type": "code",
      "execution_count": null,
      "metadata": {
        "id": "ZJj31eSNu01J",
        "outputId": "5dadfebe-2f26-44a8-9971-ea77e2ff4d38"
      },
      "outputs": [
        {
          "data": {
            "text/html": [
              "<div>\n",
              "<style scoped>\n",
              "    .dataframe tbody tr th:only-of-type {\n",
              "        vertical-align: middle;\n",
              "    }\n",
              "\n",
              "    .dataframe tbody tr th {\n",
              "        vertical-align: top;\n",
              "    }\n",
              "\n",
              "    .dataframe thead th {\n",
              "        text-align: right;\n",
              "    }\n",
              "</style>\n",
              "<table border=\"1\" class=\"dataframe\">\n",
              "  <thead>\n",
              "    <tr style=\"text-align: right;\">\n",
              "      <th></th>\n",
              "      <th>Year</th>\n",
              "      <th>Men 16-24</th>\n",
              "      <th>Men 25-34</th>\n",
              "      <th>Men 35-49</th>\n",
              "      <th>Men 50-59</th>\n",
              "      <th>Men 60+</th>\n",
              "      <th>All men 16+</th>\n",
              "      <th>Women 16-14</th>\n",
              "      <th>Women 25-34</th>\n",
              "      <th>Women 35-49</th>\n",
              "      <th>Women 50-59</th>\n",
              "      <th>Women 60+</th>\n",
              "      <th>All women 16+</th>\n",
              "      <th>All 16-24</th>\n",
              "      <th>All 25-34</th>\n",
              "      <th>All 35-49</th>\n",
              "      <th>All 50-59</th>\n",
              "      <th>All 60+</th>\n",
              "      <th>All 16+</th>\n",
              "    </tr>\n",
              "  </thead>\n",
              "  <tbody>\n",
              "    <tr>\n",
              "      <th>0</th>\n",
              "      <td>2022</td>\n",
              "      <td>12.3</td>\n",
              "      <td>11.6</td>\n",
              "      <td>11.7</td>\n",
              "      <td>9.9</td>\n",
              "      <td>5.1</td>\n",
              "      <td>9.5</td>\n",
              "      <td>18.9</td>\n",
              "      <td>9.7</td>\n",
              "      <td>7.5</td>\n",
              "      <td>7.2</td>\n",
              "      <td>3.7</td>\n",
              "      <td>7.9</td>\n",
              "      <td>15.5</td>\n",
              "      <td>10.6</td>\n",
              "      <td>9.5</td>\n",
              "      <td>8.5</td>\n",
              "      <td>4.4</td>\n",
              "      <td>8.7</td>\n",
              "    </tr>\n",
              "    <tr>\n",
              "      <th>1</th>\n",
              "      <td>2021</td>\n",
              "      <td>13.0</td>\n",
              "      <td>13.3</td>\n",
              "      <td>12.0</td>\n",
              "      <td>7.9</td>\n",
              "      <td>5.8</td>\n",
              "      <td>9.7</td>\n",
              "      <td>9.0</td>\n",
              "      <td>8.4</td>\n",
              "      <td>5.7</td>\n",
              "      <td>7.2</td>\n",
              "      <td>2.4</td>\n",
              "      <td>5.7</td>\n",
              "      <td>11.1</td>\n",
              "      <td>10.8</td>\n",
              "      <td>8.8</td>\n",
              "      <td>7.6</td>\n",
              "      <td>4.0</td>\n",
              "      <td>7.7</td>\n",
              "    </tr>\n",
              "    <tr>\n",
              "      <th>2</th>\n",
              "      <td>2020</td>\n",
              "      <td>9.1</td>\n",
              "      <td>8.9</td>\n",
              "      <td>9.2</td>\n",
              "      <td>8.1</td>\n",
              "      <td>3.3</td>\n",
              "      <td>7.2</td>\n",
              "      <td>4.7</td>\n",
              "      <td>8.3</td>\n",
              "      <td>5.6</td>\n",
              "      <td>7.7</td>\n",
              "      <td>3.6</td>\n",
              "      <td>5.6</td>\n",
              "      <td>7.0</td>\n",
              "      <td>8.6</td>\n",
              "      <td>7.5</td>\n",
              "      <td>7.9</td>\n",
              "      <td>3.5</td>\n",
              "      <td>6.4</td>\n",
              "    </tr>\n",
              "    <tr>\n",
              "      <th>3</th>\n",
              "      <td>2019</td>\n",
              "      <td>3.2</td>\n",
              "      <td>7.7</td>\n",
              "      <td>9.3</td>\n",
              "      <td>6.6</td>\n",
              "      <td>3.8</td>\n",
              "      <td>6.1</td>\n",
              "      <td>3.4</td>\n",
              "      <td>10.5</td>\n",
              "      <td>5.4</td>\n",
              "      <td>7.5</td>\n",
              "      <td>2.4</td>\n",
              "      <td>5.4</td>\n",
              "      <td>3.3</td>\n",
              "      <td>9.2</td>\n",
              "      <td>7.3</td>\n",
              "      <td>7.1</td>\n",
              "      <td>3.0</td>\n",
              "      <td>5.7</td>\n",
              "    </tr>\n",
              "    <tr>\n",
              "      <th>4</th>\n",
              "      <td>2018</td>\n",
              "      <td>7.8</td>\n",
              "      <td>9.3</td>\n",
              "      <td>11.3</td>\n",
              "      <td>7.2</td>\n",
              "      <td>3.5</td>\n",
              "      <td>7.7</td>\n",
              "      <td>1.1</td>\n",
              "      <td>4.7</td>\n",
              "      <td>5.7</td>\n",
              "      <td>6.3</td>\n",
              "      <td>5.1</td>\n",
              "      <td>5.0</td>\n",
              "      <td>4.8</td>\n",
              "      <td>7.0</td>\n",
              "      <td>8.5</td>\n",
              "      <td>6.8</td>\n",
              "      <td>4.4</td>\n",
              "      <td>6.3</td>\n",
              "    </tr>\n",
              "  </tbody>\n",
              "</table>\n",
              "</div>"
            ],
            "text/plain": [
              "   Year  Men 16-24  Men 25-34  Men 35-49  Men 50-59  Men 60+  All men 16+  \\\n",
              "0  2022       12.3       11.6       11.7        9.9      5.1          9.5   \n",
              "1  2021       13.0       13.3       12.0        7.9      5.8          9.7   \n",
              "2  2020        9.1        8.9        9.2        8.1      3.3          7.2   \n",
              "3  2019        3.2        7.7        9.3        6.6      3.8          6.1   \n",
              "4  2018        7.8        9.3       11.3        7.2      3.5          7.7   \n",
              "\n",
              "   Women 16-14  Women 25-34  Women 35-49  Women 50-59  Women 60+  \\\n",
              "0         18.9          9.7          7.5          7.2        3.7   \n",
              "1          9.0          8.4          5.7          7.2        2.4   \n",
              "2          4.7          8.3          5.6          7.7        3.6   \n",
              "3          3.4         10.5          5.4          7.5        2.4   \n",
              "4          1.1          4.7          5.7          6.3        5.1   \n",
              "\n",
              "   All women 16+  All 16-24  All 25-34  All 35-49  All 50-59  All 60+  All 16+  \n",
              "0            7.9       15.5       10.6        9.5        8.5      4.4      8.7  \n",
              "1            5.7       11.1       10.8        8.8        7.6      4.0      7.7  \n",
              "2            5.6        7.0        8.6        7.5        7.9      3.5      6.4  \n",
              "3            5.4        3.3        9.2        7.3        7.1      3.0      5.7  \n",
              "4            5.0        4.8        7.0        8.5        6.8      4.4      6.3  "
            ]
          },
          "execution_count": 1207,
          "metadata": {},
          "output_type": "execute_result"
        }
      ],
      "source": [
        "#Import vaping dataset\n",
        "url = (\"/Users/rhonabaker/CFG/GROUP PROJECT/GitHub/GitHub repository/ONS_ecigarette_use_in_great_britain/table1abc_cleaned.csv\")\n",
        "\n",
        "vapers = pd.read_csv(url)\n",
        "\n",
        "vapers.drop(['Unnamed: 0'], axis=1, inplace=True)\n",
        "\n",
        "vapers.head()"
      ]
    },
    {
      "cell_type": "code",
      "execution_count": null,
      "metadata": {
        "id": "1UNGF1ZFu01J",
        "outputId": "d49f4fd8-f46a-43b2-a4a4-395e802d3f6f"
      },
      "outputs": [
        {
          "data": {
            "image/png": "[encoded data removed]",
            "text/plain": [
              "<Figure size 900x600 with 1 Axes>"
            ]
          },
          "metadata": {},
          "output_type": "display_data"
        }
      ],
      "source": [
        "#Create a lineplot of overall e-cig users over time\n",
        "import seaborn as sns\n",
        "import matplotlib.pyplot as plt\n",
        "\n",
        "plt.figure(figsize=(9, 6))\n",
        "ax3 = sns.lineplot(x=\"Year\", y=\"All 16+\", data=vapers, lw=3, color=\"darkblue\")\n",
        "\n",
        "ax3.set(xlabel='Year',\n",
        "       ylabel='Proportion of population (%)',\n",
        "       title='Proportion of UK population as E-cigarette users')\n",
        "\n",
        "ax3.set_yticks(range(3,10))\n",
        "ax3.set_yticklabels(range(3,10))\n",
        "\n",
        "sns.set_style(\"darkgrid\")"
      ]
    },
    {
      "cell_type": "markdown",
      "metadata": {
        "id": "PG9uPqUhu01J"
      },
      "source": [
        "We can see here that there has been a clear continual rise in the use of e-cigarettes, increasing more post-2019. This however is a relatively small scale up to 10% - let's compare it with the scale of smoking rates."
      ]
    },
    {
      "cell_type": "markdown",
      "metadata": {
        "id": "wqppX02Au01J"
      },
      "source": [
        "#### E-cigarette vs smoking prevalence"
      ]
    },
    {
      "cell_type": "code",
      "execution_count": null,
      "metadata": {
        "id": "VRkDIcUCu01J",
        "outputId": "cf72cd8c-b855-4417-f080-35b5d06a8908"
      },
      "outputs": [
        {
          "data": {
            "text/html": [
              "<div>\n",
              "<style scoped>\n",
              "    .dataframe tbody tr th:only-of-type {\n",
              "        vertical-align: middle;\n",
              "    }\n",
              "\n",
              "    .dataframe tbody tr th {\n",
              "        vertical-align: top;\n",
              "    }\n",
              "\n",
              "    .dataframe thead th {\n",
              "        text-align: right;\n",
              "    }\n",
              "</style>\n",
              "<table border=\"1\" class=\"dataframe\">\n",
              "  <thead>\n",
              "    <tr style=\"text-align: right;\">\n",
              "      <th></th>\n",
              "      <th>Weight</th>\n",
              "      <th>Year</th>\n",
              "      <th>Men 16-24</th>\n",
              "      <th>Men 25-34</th>\n",
              "      <th>Men 35-49</th>\n",
              "      <th>Men 50-59</th>\n",
              "      <th>Men 60+</th>\n",
              "      <th>All men 16+</th>\n",
              "      <th>Women 16-14</th>\n",
              "      <th>Women 25-34</th>\n",
              "      <th>Women 35-49</th>\n",
              "      <th>Women 50-59</th>\n",
              "      <th>Women 60+</th>\n",
              "      <th>All women 16+</th>\n",
              "      <th>All 16-24</th>\n",
              "      <th>All 25-34</th>\n",
              "      <th>All 35-49</th>\n",
              "      <th>All 50-59</th>\n",
              "      <th>All 60+</th>\n",
              "      <th>All 16+</th>\n",
              "    </tr>\n",
              "  </thead>\n",
              "  <tbody>\n",
              "    <tr>\n",
              "      <th>0</th>\n",
              "      <td>Weighted</td>\n",
              "      <td>2022</td>\n",
              "      <td>9.9</td>\n",
              "      <td>14.4</td>\n",
              "      <td>13.7</td>\n",
              "      <td>17.3</td>\n",
              "      <td>9.0</td>\n",
              "      <td>12.5</td>\n",
              "      <td>11.0</td>\n",
              "      <td>13.3</td>\n",
              "      <td>10.0</td>\n",
              "      <td>12.5</td>\n",
              "      <td>6.8</td>\n",
              "      <td>10.0</td>\n",
              "      <td>10.5</td>\n",
              "      <td>13.8</td>\n",
              "      <td>11.8</td>\n",
              "      <td>14.9</td>\n",
              "      <td>7.9</td>\n",
              "      <td>11.2</td>\n",
              "    </tr>\n",
              "    <tr>\n",
              "      <th>1</th>\n",
              "      <td>Weighted</td>\n",
              "      <td>2021</td>\n",
              "      <td>13.5</td>\n",
              "      <td>17.4</td>\n",
              "      <td>16.3</td>\n",
              "      <td>16.1</td>\n",
              "      <td>8.4</td>\n",
              "      <td>13.7</td>\n",
              "      <td>12.7</td>\n",
              "      <td>16.1</td>\n",
              "      <td>13.3</td>\n",
              "      <td>13.6</td>\n",
              "      <td>7.0</td>\n",
              "      <td>11.7</td>\n",
              "      <td>13.1</td>\n",
              "      <td>16.8</td>\n",
              "      <td>14.8</td>\n",
              "      <td>14.8</td>\n",
              "      <td>7.7</td>\n",
              "      <td>12.7</td>\n",
              "    </tr>\n",
              "    <tr>\n",
              "      <th>2</th>\n",
              "      <td>Weighted</td>\n",
              "      <td>2020</td>\n",
              "      <td>15.9</td>\n",
              "      <td>18.4</td>\n",
              "      <td>18.7</td>\n",
              "      <td>16.4</td>\n",
              "      <td>9.8</td>\n",
              "      <td>15.3</td>\n",
              "      <td>14.4</td>\n",
              "      <td>17.9</td>\n",
              "      <td>15.1</td>\n",
              "      <td>16.1</td>\n",
              "      <td>9.1</td>\n",
              "      <td>13.7</td>\n",
              "      <td>15.2</td>\n",
              "      <td>18.1</td>\n",
              "      <td>16.9</td>\n",
              "      <td>16.3</td>\n",
              "      <td>9.4</td>\n",
              "      <td>14.5</td>\n",
              "    </tr>\n",
              "    <tr>\n",
              "      <th>3</th>\n",
              "      <td>Weighted</td>\n",
              "      <td>2019</td>\n",
              "      <td>20.7</td>\n",
              "      <td>22.8</td>\n",
              "      <td>19.0</td>\n",
              "      <td>21.8</td>\n",
              "      <td>10.4</td>\n",
              "      <td>17.9</td>\n",
              "      <td>15.2</td>\n",
              "      <td>20.8</td>\n",
              "      <td>14.3</td>\n",
              "      <td>14.6</td>\n",
              "      <td>8.7</td>\n",
              "      <td>13.8</td>\n",
              "      <td>18.3</td>\n",
              "      <td>21.8</td>\n",
              "      <td>16.5</td>\n",
              "      <td>18.4</td>\n",
              "      <td>9.5</td>\n",
              "      <td>15.8</td>\n",
              "    </tr>\n",
              "    <tr>\n",
              "      <th>4</th>\n",
              "      <td>Weighted</td>\n",
              "      <td>2018</td>\n",
              "      <td>28.0</td>\n",
              "      <td>19.1</td>\n",
              "      <td>20.3</td>\n",
              "      <td>14.5</td>\n",
              "      <td>8.8</td>\n",
              "      <td>17.0</td>\n",
              "      <td>18.4</td>\n",
              "      <td>22.3</td>\n",
              "      <td>16.9</td>\n",
              "      <td>15.8</td>\n",
              "      <td>11.3</td>\n",
              "      <td>16.2</td>\n",
              "      <td>23.6</td>\n",
              "      <td>20.8</td>\n",
              "      <td>18.6</td>\n",
              "      <td>15.2</td>\n",
              "      <td>10.2</td>\n",
              "      <td>16.6</td>\n",
              "    </tr>\n",
              "  </tbody>\n",
              "</table>\n",
              "</div>"
            ],
            "text/plain": [
              "     Weight  Year  Men 16-24  Men 25-34  Men 35-49  Men 50-59  Men 60+  \\\n",
              "0  Weighted  2022        9.9       14.4       13.7       17.3      9.0   \n",
              "1  Weighted  2021       13.5       17.4       16.3       16.1      8.4   \n",
              "2  Weighted  2020       15.9       18.4       18.7       16.4      9.8   \n",
              "3  Weighted  2019       20.7       22.8       19.0       21.8     10.4   \n",
              "4  Weighted  2018       28.0       19.1       20.3       14.5      8.8   \n",
              "\n",
              "   All men 16+  Women 16-14  Women 25-34  Women 35-49  Women 50-59  Women 60+  \\\n",
              "0         12.5         11.0         13.3         10.0         12.5        6.8   \n",
              "1         13.7         12.7         16.1         13.3         13.6        7.0   \n",
              "2         15.3         14.4         17.9         15.1         16.1        9.1   \n",
              "3         17.9         15.2         20.8         14.3         14.6        8.7   \n",
              "4         17.0         18.4         22.3         16.9         15.8       11.3   \n",
              "\n",
              "   All women 16+  All 16-24  All 25-34  All 35-49  All 50-59  All 60+  All 16+  \n",
              "0           10.0       10.5       13.8       11.8       14.9      7.9     11.2  \n",
              "1           11.7       13.1       16.8       14.8       14.8      7.7     12.7  \n",
              "2           13.7       15.2       18.1       16.9       16.3      9.4     14.5  \n",
              "3           13.8       18.3       21.8       16.5       18.4      9.5     15.8  \n",
              "4           16.2       23.6       20.8       18.6       15.2     10.2     16.6  "
            ]
          },
          "execution_count": 1209,
          "metadata": {},
          "output_type": "execute_result"
        }
      ],
      "source": [
        "#import smokers data\n",
        "\n",
        "url = (\"/Users/rhonabaker/CFG/GROUP PROJECT/GitHub/GitHub repository/ONS_adult_smoking_habits_in_great_britain/Table_1a-Table_1_cleaned.csv\")\n",
        "smokers = pd.read_csv(url)\n",
        "\n",
        "smokers.drop(['Unnamed: 0'], axis=1, inplace=True)\n",
        "smokers.head()"
      ]
    },
    {
      "cell_type": "code",
      "execution_count": null,
      "metadata": {
        "id": "ablwOPf5u01J",
        "outputId": "6dd2c9e4-8ea9-417e-87e4-5a3dc6ae0f06"
      },
      "outputs": [
        {
          "name": "stderr",
          "output_type": "stream",
          "text": [
            "/var/folders/89/f4fzz3sn2vz74xx03fmxp5vh0000gn/T/ipykernel_5212/4045901250.py:11: FutureWarning: A value is trying to be set on a copy of a DataFrame or Series through chained assignment using an inplace method.\n",
            "The behavior will change in pandas 3.0. This inplace method will never work because the intermediate object on which we are setting values always behaves as a copy.\n",
            "\n",
            "For example, when doing 'df[col].method(value, inplace=True)', try using 'df.method({col: value}, inplace=True)' or df[col] = df[col].method(value) instead, to perform the operation inplace on the original object.\n",
            "\n",
            "\n",
            "  smokers_melt['variable'].replace('All 16+', 'Smokers', inplace=True)\n"
          ]
        },
        {
          "data": {
            "text/html": [
              "<div>\n",
              "<style scoped>\n",
              "    .dataframe tbody tr th:only-of-type {\n",
              "        vertical-align: middle;\n",
              "    }\n",
              "\n",
              "    .dataframe tbody tr th {\n",
              "        vertical-align: top;\n",
              "    }\n",
              "\n",
              "    .dataframe thead th {\n",
              "        text-align: right;\n",
              "    }\n",
              "</style>\n",
              "<table border=\"1\" class=\"dataframe\">\n",
              "  <thead>\n",
              "    <tr style=\"text-align: right;\">\n",
              "      <th></th>\n",
              "      <th>Year</th>\n",
              "      <th>Type</th>\n",
              "      <th>Proportion</th>\n",
              "    </tr>\n",
              "  </thead>\n",
              "  <tbody>\n",
              "    <tr>\n",
              "      <th>0</th>\n",
              "      <td>2022</td>\n",
              "      <td>Smokers</td>\n",
              "      <td>11.2</td>\n",
              "    </tr>\n",
              "    <tr>\n",
              "      <th>1</th>\n",
              "      <td>2021</td>\n",
              "      <td>Smokers</td>\n",
              "      <td>12.7</td>\n",
              "    </tr>\n",
              "    <tr>\n",
              "      <th>2</th>\n",
              "      <td>2020</td>\n",
              "      <td>Smokers</td>\n",
              "      <td>14.5</td>\n",
              "    </tr>\n",
              "    <tr>\n",
              "      <th>3</th>\n",
              "      <td>2019</td>\n",
              "      <td>Smokers</td>\n",
              "      <td>15.8</td>\n",
              "    </tr>\n",
              "    <tr>\n",
              "      <th>4</th>\n",
              "      <td>2018</td>\n",
              "      <td>Smokers</td>\n",
              "      <td>16.6</td>\n",
              "    </tr>\n",
              "  </tbody>\n",
              "</table>\n",
              "</div>"
            ],
            "text/plain": [
              "   Year     Type  Proportion\n",
              "0  2022  Smokers        11.2\n",
              "1  2021  Smokers        12.7\n",
              "2  2020  Smokers        14.5\n",
              "3  2019  Smokers        15.8\n",
              "4  2018  Smokers        16.6"
            ]
          },
          "execution_count": 1210,
          "metadata": {},
          "output_type": "execute_result"
        }
      ],
      "source": [
        "#Extract just the data for overall figures\n",
        "smokers_all = smokers[['Year','All 16+']]\n",
        "\n",
        "#We need to convert the data from wide into long format to make a multi-line plot in seaborn. We will use the melt method:\n",
        "smokers_melt = pd.melt(smokers_all, id_vars=\"Year\")\n",
        "\n",
        "#Extract only the years also available for e-cig data\n",
        "smokers_melt = smokers_melt[:9]\n",
        "\n",
        "#Clean up long form table\n",
        "smokers_melt['variable'].replace('All 16+', 'Smokers', inplace=True)\n",
        "smokers_melt.rename(columns={\"value\": \"Proportion\", \"variable\": \"Type\"}, inplace=True)\n",
        "smokers_melt.head()"
      ]
    },
    {
      "cell_type": "code",
      "execution_count": null,
      "metadata": {
        "id": "AXrLRuV1u01J",
        "outputId": "02749495-805e-4c5e-a01d-7aeffe9fc8d9"
      },
      "outputs": [
        {
          "name": "stderr",
          "output_type": "stream",
          "text": [
            "/var/folders/89/f4fzz3sn2vz74xx03fmxp5vh0000gn/T/ipykernel_5212/2957385721.py:8: FutureWarning: A value is trying to be set on a copy of a DataFrame or Series through chained assignment using an inplace method.\n",
            "The behavior will change in pandas 3.0. This inplace method will never work because the intermediate object on which we are setting values always behaves as a copy.\n",
            "\n",
            "For example, when doing 'df[col].method(value, inplace=True)', try using 'df.method({col: value}, inplace=True)' or df[col] = df[col].method(value) instead, to perform the operation inplace on the original object.\n",
            "\n",
            "\n",
            "  vapers_melt['variable'].replace('All 16+', 'Vapers', inplace=True)\n"
          ]
        }
      ],
      "source": [
        "#Extract just overall figures for vapers\n",
        "vapers_all = vapers[['Year','All 16+']]\n",
        "\n",
        "#Convert to long format\n",
        "vapers_melt = pd.melt(vapers_all, id_vars=\"Year\")\n",
        "\n",
        "#Clean up long table\n",
        "vapers_melt['variable'].replace('All 16+', 'Vapers', inplace=True)\n",
        "vapers_melt.rename(columns={\"value\": \"Proportion\", \"variable\": \"Type\"}, inplace=True)\n",
        "vapers_melt.head()\n",
        "\n",
        "#Combine smokers and vapers into one table to visualise\n",
        "smokers_vapers_all = pd.concat([smokers_melt, vapers_melt], ignore_index=True)"
      ]
    },
    {
      "cell_type": "code",
      "execution_count": null,
      "metadata": {
        "id": "vWo5jVANu01J",
        "outputId": "e6a158d9-f44e-4106-eb44-0baad8968d78"
      },
      "outputs": [
        {
          "data": {
            "image/png": "[encoded data removed]",
            "text/plain": [
              "<Figure size 900x600 with 1 Axes>"
            ]
          },
          "metadata": {},
          "output_type": "display_data"
        }
      ],
      "source": [
        "#Multi-line plot of smoking rates vs e-cig rates over time\n",
        "\n",
        "plt.figure(figsize=(9, 6))\n",
        "\n",
        "ax4= sns.lineplot(data=smokers_vapers_all, x='Year', y='Proportion', hue='Type', palette=['darkblue', 'darkred'], lw=3)\n",
        "\n",
        "ax4.set(xlabel='Year',\n",
        "       ylabel='Proportion of population (%)',\n",
        "       title='Proportion of UK population as smokers and e-cigarette users')\n",
        "\n",
        "ax4.set_yticks(range(3,21))\n",
        "ax4.set_yticklabels(range(3,21))\n",
        "\n",
        "ax4.legend_.set_title(None)"
      ]
    },
    {
      "cell_type": "code",
      "execution_count": null,
      "metadata": {
        "id": "ac6JZWqqu01K",
        "outputId": "58cb0e8f-eee0-4f33-8103-2fe366c9e0ea"
      },
      "outputs": [
        {
          "data": {
            "text/plain": [
              "array([[ 1.        , -0.96845349],\n",
              "       [-0.96845349,  1.        ]])"
            ]
          },
          "execution_count": 1213,
          "metadata": {},
          "output_type": "execute_result"
        }
      ],
      "source": [
        "#Correlation coefficient\n",
        "import numpy as np\n",
        "\n",
        "smokers_arr = np.array(smokers['All 16+'].loc[:8])\n",
        "vapers_arr = np.array(vapers['All 16+'].loc[:8])\n",
        "\n",
        "smoke_vape_coeff = np.corrcoef(smokers_arr, vapers_arr)\n",
        "smoke_vape_coeff"
      ]
    },
    {
      "cell_type": "markdown",
      "metadata": {
        "id": "MVEupka5u01K"
      },
      "source": [
        "We can see a clear steady negative correlation between smoking and e-cigarette use. The general e-cig rate remains below the smoking rate.\n",
        "\n",
        "These are however average rates across all age ranges. We often see reports and warnings about the risks of vaping in young people. Let's look at e-cigarette usage by age category - which in this dataset is for ages 16+:"
      ]
    },
    {
      "cell_type": "markdown",
      "metadata": {
        "id": "-RnoSzb0u01K"
      },
      "source": [
        "#### E-cigarette use by age category"
      ]
    },
    {
      "cell_type": "code",
      "execution_count": null,
      "metadata": {
        "id": "FX7oB7OZu01K"
      },
      "outputs": [],
      "source": [
        "#Vapers by age category\n",
        "vapers_ages = vapers[[\"Year\", \"All 16-24\", \"All 25-34\", \"All 35-49\", \"All 50-59\", \"All 60+\"]]\n",
        "\n",
        "#Convert to long format\n",
        "v_ages_melt = pd.melt(vapers_ages, id_vars=\"Year\")\n",
        "v_ages_melt.head()\n",
        "\n",
        "#Clean up long table\n",
        "v_ages_melt.rename(columns={\"variable\": \"Age_group\", \"value\": \"Proportion\"}, inplace=True)"
      ]
    },
    {
      "cell_type": "code",
      "execution_count": null,
      "metadata": {
        "id": "sPQfJ4C5u01K",
        "outputId": "195108c2-bee9-4380-ea8e-7c526a2e34fe"
      },
      "outputs": [
        {
          "data": {
            "text/plain": [
              "<matplotlib.legend.Legend at 0x148394860>"
            ]
          },
          "execution_count": 1215,
          "metadata": {},
          "output_type": "execute_result"
        },
        {
          "data": {
            "image/png": "[encoded data removed]",
            "text/plain": [
              "<Figure size 900x600 with 1 Axes>"
            ]
          },
          "metadata": {},
          "output_type": "display_data"
        }
      ],
      "source": [
        "#Multi-line plot on e-cig use over time by age group\n",
        "plt.figure(figsize=(9, 6))\n",
        "ax5 = sns.lineplot(x='Year', y='Proportion', hue='Age_group', data=v_ages_melt, lw=2)\n",
        "\n",
        "ax5.set(xlabel='Year',\n",
        "       ylabel='Proportion of population (%)',\n",
        "       title='Proportion of UK population as E-cigarette users by age group',)\n",
        "\n",
        "ax5.set_yticks(range(1,17))\n",
        "ax5.set_yticklabels(range(1,17))\n",
        "\n",
        "plt.legend(title='Age group')\n",
        "\n",
        "#Renaming labels messing up legend?\n",
        "# plt.legend(labels=[\"16-24\", \"25-34\", \"35-49\", \"50-59\", \"60+\"])"
      ]
    },
    {
      "cell_type": "markdown",
      "metadata": {
        "id": "nUt4QYF4u01K"
      },
      "source": [
        "When analysing by age group, we can see that ages 35-59 increase steadily, 25-34 increases more quickly over time, and 60+ doesn't show much growth, with vaping being less popular with the older population. However post 2019 we can see a dramatic increase in the 16-24 age group, which was responsible for bringing up the steeper general increase in the overall trend.\n",
        "\n",
        "We can also look at this data in box plots over time, to see how the distribution of the proportion for each age group affects the overall e-cigarette use rate for each year:"
      ]
    },
    {
      "cell_type": "code",
      "execution_count": null,
      "metadata": {
        "id": "C4oSv1FLu01K",
        "outputId": "07f279a3-c3c1-4b77-f7f2-323c2ceb953f"
      },
      "outputs": [
        {
          "name": "stderr",
          "output_type": "stream",
          "text": [
            "/var/folders/89/f4fzz3sn2vz74xx03fmxp5vh0000gn/T/ipykernel_5212/3888185093.py:3: FutureWarning: \n",
            "\n",
            "Passing `palette` without assigning `hue` is deprecated and will be removed in v0.14.0. Assign the `x` variable to `hue` and set `legend=False` for the same effect.\n",
            "\n",
            "  ax6 = sns.boxplot(x = 'Year', y = 'Proportion', data = v_ages_melt, width=.5, palette=\"hls\")\n"
          ]
        },
        {
          "data": {
            "text/plain": [
              "[Text(0, 1, '1'),\n",
              " Text(0, 2, '2'),\n",
              " Text(0, 3, '3'),\n",
              " Text(0, 4, '4'),\n",
              " Text(0, 5, '5'),\n",
              " Text(0, 6, '6'),\n",
              " Text(0, 7, '7'),\n",
              " Text(0, 8, '8'),\n",
              " Text(0, 9, '9'),\n",
              " Text(0, 10, '10'),\n",
              " Text(0, 11, '11'),\n",
              " Text(0, 12, '12'),\n",
              " Text(0, 13, '13'),\n",
              " Text(0, 14, '14'),\n",
              " Text(0, 15, '15'),\n",
              " Text(0, 16, '16')]"
            ]
          },
          "execution_count": 1216,
          "metadata": {},
          "output_type": "execute_result"
        },
        {
          "data": {
            "image/png": "[encoded data removed]",
            "text/plain": [
              "<Figure size 900x600 with 1 Axes>"
            ]
          },
          "metadata": {},
          "output_type": "display_data"
        }
      ],
      "source": [
        "#Box plot to show distribution of age group values each year\n",
        "plt.figure(figsize=(9, 6))\n",
        "ax6 = sns.boxplot(x = 'Year', y = 'Proportion', data = v_ages_melt, width=.5, palette=\"hls\")\n",
        "\n",
        "ax6.set(xlabel='Year',\n",
        "       ylabel='Proportion of population (%)',\n",
        "       title='Proportion of UK population as E-cigarette users: distribution by age group',)\n",
        "\n",
        "ax6.set_yticks(range(1,17))\n",
        "ax6.set_yticklabels(range(1,17))"
      ]
    },
    {
      "cell_type": "markdown",
      "metadata": {
        "id": "CGa8x-P_u01K"
      },
      "source": [
        "Here we can see that the large distribution differences in our age groups mean we should not make assumptions on the e-cigarette rate in general; clearly the spike in e-cigarette use is due to a rise in the younger generation.\n",
        "\n",
        "Looking further into trends within age groups, let's look at a snapshot of e-cigarette users compared to smokers in each age group in our most recent year of data, 2022:"
      ]
    },
    {
      "cell_type": "markdown",
      "metadata": {
        "id": "MSVdxmL7u01K"
      },
      "source": [
        "#### E-cigarette vs smoking prevalence by age category"
      ]
    },
    {
      "cell_type": "code",
      "execution_count": null,
      "metadata": {
        "id": "mumVcRGku01K",
        "outputId": "8e4975bf-5b66-44b5-f4c9-b6c2cc7858ae"
      },
      "outputs": [
        {
          "data": {
            "text/html": [
              "<div>\n",
              "<style scoped>\n",
              "    .dataframe tbody tr th:only-of-type {\n",
              "        vertical-align: middle;\n",
              "    }\n",
              "\n",
              "    .dataframe tbody tr th {\n",
              "        vertical-align: top;\n",
              "    }\n",
              "\n",
              "    .dataframe thead th {\n",
              "        text-align: right;\n",
              "    }\n",
              "</style>\n",
              "<table border=\"1\" class=\"dataframe\">\n",
              "  <thead>\n",
              "    <tr style=\"text-align: right;\">\n",
              "      <th></th>\n",
              "      <th>Age_group</th>\n",
              "      <th>Type</th>\n",
              "      <th>Proportion</th>\n",
              "    </tr>\n",
              "  </thead>\n",
              "  <tbody>\n",
              "    <tr>\n",
              "      <th>0</th>\n",
              "      <td>All 16-24</td>\n",
              "      <td>Smokers</td>\n",
              "      <td>10.5</td>\n",
              "    </tr>\n",
              "    <tr>\n",
              "      <th>1</th>\n",
              "      <td>All 25-34</td>\n",
              "      <td>Smokers</td>\n",
              "      <td>13.8</td>\n",
              "    </tr>\n",
              "    <tr>\n",
              "      <th>2</th>\n",
              "      <td>All 35-49</td>\n",
              "      <td>Smokers</td>\n",
              "      <td>11.8</td>\n",
              "    </tr>\n",
              "    <tr>\n",
              "      <th>3</th>\n",
              "      <td>All 50-59</td>\n",
              "      <td>Smokers</td>\n",
              "      <td>14.9</td>\n",
              "    </tr>\n",
              "    <tr>\n",
              "      <th>4</th>\n",
              "      <td>All 60+</td>\n",
              "      <td>Smokers</td>\n",
              "      <td>7.9</td>\n",
              "    </tr>\n",
              "  </tbody>\n",
              "</table>\n",
              "</div>"
            ],
            "text/plain": [
              "   Age_group     Type  Proportion\n",
              "0  All 16-24  Smokers        10.5\n",
              "1  All 25-34  Smokers        13.8\n",
              "2  All 35-49  Smokers        11.8\n",
              "3  All 50-59  Smokers        14.9\n",
              "4    All 60+  Smokers         7.9"
            ]
          },
          "execution_count": 1217,
          "metadata": {},
          "output_type": "execute_result"
        }
      ],
      "source": [
        "#Extract smokers ages\n",
        "smokers_ages = smokers[['All 16-24', 'All 25-34', 'All 35-49', 'All 50-59', 'All 60+']]\n",
        "#Extract just 2022 smokers\n",
        "smoke22 = smokers_ages.loc[0].to_frame()\n",
        "#Clean up dataframe\n",
        "smoke22.insert(0, 'Type', 'Smokers')\n",
        "smoke22 = smoke22.reset_index()\n",
        "smoke22.rename(columns={\"index\": \"Age_group\", 0: \"Proportion\"}, inplace=True)\n",
        "smoke22.head()\n",
        "\n",
        "#Extract just 2022 vapers\n",
        "vape22 = vapers_ages.loc[0].to_frame()\n",
        "#Clean up dataframe\n",
        "vape22.insert(0, 'Type', 'Vapers')\n",
        "vape22 = vape22.reset_index()\n",
        "vape22.rename(columns={\"index\": \"Age_group\", 0: \"Proportion\"}, inplace=True)\n",
        "vape22 = vape22.drop(0, axis='index')\n",
        "vape22.head()\n",
        "\n",
        "#Combine vaper and smoker dfs\n",
        "combined22 = pd.concat([smoke22, vape22], ignore_index=True)\n",
        "combined22.head()"
      ]
    },
    {
      "cell_type": "code",
      "execution_count": null,
      "metadata": {
        "id": "BFxi_CcFu01K",
        "outputId": "3f860824-2e5f-450f-b454-a5c587edea18"
      },
      "outputs": [
        {
          "data": {
            "image/png": "[encoded data removed]",
            "text/plain": [
              "<Figure size 900x600 with 1 Axes>"
            ]
          },
          "metadata": {},
          "output_type": "display_data"
        }
      ],
      "source": [
        "#Bar plot of smoking and e-cig use by age group in 2022\n",
        "\n",
        "plt.figure(figsize=(9, 6))\n",
        "ax7 = sns.barplot(combined22, x=\"Age_group\", y=\"Proportion\", hue=\"Type\", palette='hls')\n",
        "\n",
        "ax7.set(xlabel='Age group',\n",
        "       ylabel='Proportion of population (%)',\n",
        "       title='Proportion of smokers and e-cig users by age group in 2022',)\n",
        "\n",
        "ax7.legend_.set_title(None)"
      ]
    },
    {
      "cell_type": "markdown",
      "metadata": {
        "id": "EgcR_wzau01K"
      },
      "source": [
        "Here we can see that smoking rates do not have a clear correlation to vaping rates between age groups. Smoking rates vary between age groups, but vaping has a clear trend of higher use the younger the age group. Younger people may have higher usage because of the attractiveness of vaping, not just as a tool to quit smoking as their smoking rates are lower than most of the other age groups. We can look again at the proportion of ecig users to vapers over time, but just with the 16-24 age group:"
      ]
    },
    {
      "cell_type": "markdown",
      "metadata": {
        "id": "OXFqh4Asu01K"
      },
      "source": [
        "#### E-cigarette vs smoking prevalence in young people"
      ]
    },
    {
      "cell_type": "code",
      "execution_count": null,
      "metadata": {
        "id": "j8fxDaAbu01K",
        "outputId": "79f9b96e-080d-4708-fd04-9dfe4365e474"
      },
      "outputs": [
        {
          "name": "stderr",
          "output_type": "stream",
          "text": [
            "/var/folders/89/f4fzz3sn2vz74xx03fmxp5vh0000gn/T/ipykernel_5212/273293000.py:11: FutureWarning: A value is trying to be set on a copy of a DataFrame or Series through chained assignment using an inplace method.\n",
            "The behavior will change in pandas 3.0. This inplace method will never work because the intermediate object on which we are setting values always behaves as a copy.\n",
            "\n",
            "For example, when doing 'df[col].method(value, inplace=True)', try using 'df.method({col: value}, inplace=True)' or df[col] = df[col].method(value) instead, to perform the operation inplace on the original object.\n",
            "\n",
            "\n",
            "  smokers_young_melt['variable'].replace('All 16-24', 'Smokers', inplace=True)\n"
          ]
        },
        {
          "data": {
            "text/html": [
              "<div>\n",
              "<style scoped>\n",
              "    .dataframe tbody tr th:only-of-type {\n",
              "        vertical-align: middle;\n",
              "    }\n",
              "\n",
              "    .dataframe tbody tr th {\n",
              "        vertical-align: top;\n",
              "    }\n",
              "\n",
              "    .dataframe thead th {\n",
              "        text-align: right;\n",
              "    }\n",
              "</style>\n",
              "<table border=\"1\" class=\"dataframe\">\n",
              "  <thead>\n",
              "    <tr style=\"text-align: right;\">\n",
              "      <th></th>\n",
              "      <th>Year</th>\n",
              "      <th>Type</th>\n",
              "      <th>Proportion</th>\n",
              "    </tr>\n",
              "  </thead>\n",
              "  <tbody>\n",
              "    <tr>\n",
              "      <th>0</th>\n",
              "      <td>2022</td>\n",
              "      <td>Smokers</td>\n",
              "      <td>10.5</td>\n",
              "    </tr>\n",
              "    <tr>\n",
              "      <th>1</th>\n",
              "      <td>2021</td>\n",
              "      <td>Smokers</td>\n",
              "      <td>13.1</td>\n",
              "    </tr>\n",
              "    <tr>\n",
              "      <th>2</th>\n",
              "      <td>2020</td>\n",
              "      <td>Smokers</td>\n",
              "      <td>15.2</td>\n",
              "    </tr>\n",
              "    <tr>\n",
              "      <th>3</th>\n",
              "      <td>2019</td>\n",
              "      <td>Smokers</td>\n",
              "      <td>18.3</td>\n",
              "    </tr>\n",
              "    <tr>\n",
              "      <th>4</th>\n",
              "      <td>2018</td>\n",
              "      <td>Smokers</td>\n",
              "      <td>23.6</td>\n",
              "    </tr>\n",
              "  </tbody>\n",
              "</table>\n",
              "</div>"
            ],
            "text/plain": [
              "   Year     Type  Proportion\n",
              "0  2022  Smokers        10.5\n",
              "1  2021  Smokers        13.1\n",
              "2  2020  Smokers        15.2\n",
              "3  2019  Smokers        18.3\n",
              "4  2018  Smokers        23.6"
            ]
          },
          "execution_count": 1219,
          "metadata": {},
          "output_type": "execute_result"
        }
      ],
      "source": [
        "#Extract just the data for 16-24 smokers overall\n",
        "smokers_young = smokers[['Year','All 16-24']]\n",
        "\n",
        "#We need to convert the data from wide into long format to make a multi-line plot in seaborn. We will use the melt method:\n",
        "smokers_young_melt = pd.melt(smokers_young, id_vars=\"Year\")\n",
        "\n",
        "#Extract only the years also available for e-cig data\n",
        "smokers_young_melt = smokers_young_melt[:9]\n",
        "\n",
        "#Clean up long form table\n",
        "smokers_young_melt['variable'].replace('All 16-24', 'Smokers', inplace=True)\n",
        "smokers_young_melt.rename(columns={\"value\": \"Proportion\", \"variable\": \"Type\"}, inplace=True)\n",
        "smokers_young_melt.head()"
      ]
    },
    {
      "cell_type": "code",
      "execution_count": null,
      "metadata": {
        "id": "6h0_FnGzu01K",
        "outputId": "9a044dbe-b916-4d53-d51b-f5bea67aeca3"
      },
      "outputs": [
        {
          "name": "stderr",
          "output_type": "stream",
          "text": [
            "/var/folders/89/f4fzz3sn2vz74xx03fmxp5vh0000gn/T/ipykernel_5212/75197884.py:8: FutureWarning: A value is trying to be set on a copy of a DataFrame or Series through chained assignment using an inplace method.\n",
            "The behavior will change in pandas 3.0. This inplace method will never work because the intermediate object on which we are setting values always behaves as a copy.\n",
            "\n",
            "For example, when doing 'df[col].method(value, inplace=True)', try using 'df.method({col: value}, inplace=True)' or df[col] = df[col].method(value) instead, to perform the operation inplace on the original object.\n",
            "\n",
            "\n",
            "  vapers_young_melt['variable'].replace('All 16-24', 'Vapers', inplace=True)\n"
          ]
        }
      ],
      "source": [
        "#Extract just 16-24 overall figures for vapers\n",
        "vapers_young = vapers[['Year','All 16-24']]\n",
        "\n",
        "#Convert to long format\n",
        "vapers_young_melt = pd.melt(vapers_young, id_vars=\"Year\")\n",
        "\n",
        "#Clean up long table\n",
        "vapers_young_melt['variable'].replace('All 16-24', 'Vapers', inplace=True)\n",
        "vapers_young_melt.rename(columns={\"value\": \"Proportion\", \"variable\": \"Type\"}, inplace=True)\n",
        "vapers_young_melt.head()\n",
        "\n",
        "#Combine smokers and vapers into one table to visualise\n",
        "smokers_vapers_young_all = pd.concat([smokers_young_melt, vapers_young_melt], ignore_index=True)"
      ]
    },
    {
      "cell_type": "code",
      "execution_count": null,
      "metadata": {
        "id": "WgGC1ABLu01K",
        "outputId": "44c702a3-88bd-4b33-99d7-aebc29ca1207"
      },
      "outputs": [
        {
          "data": {
            "image/png": "[encoded data removed]",
            "text/plain": [
              "<Figure size 900x600 with 1 Axes>"
            ]
          },
          "metadata": {},
          "output_type": "display_data"
        }
      ],
      "source": [
        "#Multi-line plot of smoking rates vs e-cig rates over time in 16-24\n",
        "\n",
        "plt.figure(figsize=(9, 6))\n",
        "\n",
        "ax8= sns.lineplot(data=smokers_vapers_young_all, x='Year', y='Proportion', hue='Type', palette=['purple', 'blue'], lw=3)\n",
        "\n",
        "ax8.set(xlabel='Year',\n",
        "       ylabel='Proportion of population (%)',\n",
        "       title='Proportion of UK population as smokers and e-cigarette users')\n",
        "\n",
        "ax8.set_yticks(range(0,25))\n",
        "ax8.set_yticklabels(range(0,25))\n",
        "\n",
        "ax8.legend_.set_title(None)"
      ]
    },
    {
      "cell_type": "code",
      "execution_count": null,
      "metadata": {
        "id": "yLXJ2HMxu01L",
        "outputId": "f7594c72-6c31-431f-888e-f4a271d2e555"
      },
      "outputs": [
        {
          "data": {
            "text/plain": [
              "array([[ 1.      , -0.885275],\n",
              "       [-0.885275,  1.      ]])"
            ]
          },
          "execution_count": 1222,
          "metadata": {},
          "output_type": "execute_result"
        }
      ],
      "source": [
        "#Correlation coefficient\n",
        "smokers_young_arr = np.array(smokers['All 16-24'].loc[:8])\n",
        "vapers_young_arr = np.array(vapers['All 16-24'].loc[:8])\n",
        "\n",
        "smoke_vape_young_coeff = np.corrcoef(smokers_young_arr, vapers_young_arr)\n",
        "smoke_vape_young_coeff"
      ]
    },
    {
      "cell_type": "markdown",
      "metadata": {
        "id": "3rBO9VYFu01L"
      },
      "source": [
        "Here we can see a slightly lower negative correlation between the rates, where from 2018-2019 smoking rates in young people started to steeply go down whilst e-cigarette rates steeply went up, showing in combination with the previous bar chart that although lower smoking rates in young people is encouraging, e-cigarette use has surpassed the smoking rate in young people, further suggesting that vaping in young people is not just being used to quit smoking and the rate will likely continue to increase without further measures."
      ]
    },
    {
      "cell_type": "markdown",
      "metadata": {
        "id": "LfHI2YScu01L"
      },
      "source": [
        "#### E-cigarette use in youths 17 and under\n",
        "\n",
        "What about data for those those under 16? The data we have for GB youth on smoking and vaping, aged 11-15, only goes up to the year 2021. The differences in data have too low figures over time to make an effective visualisation. We will however note the 2021 statistics here:\n",
        "\n",
        "In 2021 smoking rates for the 11-15 year olds were **1% for regular smokers** and **1% for occasional smokers**. E-cigarette use was **4% for regular users** and **4% for occassional users**.\n",
        "\n",
        "We won't use the written figures from the ASH GB Smokefree youth survey to look at increase in rates in more recent years, as we don't have the raw data and the written report statistics differ from our more comprehensive ONS youth dataset."
      ]
    },
    {
      "cell_type": "markdown",
      "metadata": {
        "id": "noLgookWu01L"
      },
      "source": [
        "One of the key concerns in recent years is the rise in disposable vapes, particularly their use by young people. The UK government plans to ban these as part of the proposed bill, with Scotland having a confirmed date of banning disposable vapes from 1 April 2025. We can reliably look at our small amount of data from the Ash smokefree GB youth survey to look at the use of disposable vapes in more recent years:"
      ]
    },
    {
      "cell_type": "code",
      "execution_count": null,
      "metadata": {
        "id": "3OoQtBr6u01L",
        "outputId": "aeb99bdb-cbc5-4937-f46b-e42ced3a0bc2"
      },
      "outputs": [
        {
          "ename": "URLError",
          "evalue": "<urlopen error [SSL: CERTIFICATE_VERIFY_FAILED] certificate verify failed: unable to get local issuer certificate (_ssl.c:1000)>",
          "output_type": "error",
          "traceback": [
            "\u001b[0;31m---------------------------------------------------------------------------\u001b[0m",
            "\u001b[0;31mSSLCertVerificationError\u001b[0m                  Traceback (most recent call last)",
            "File \u001b[0;32m/Library/Frameworks/Python.framework/Versions/3.12/lib/python3.12/urllib/request.py:1344\u001b[0m, in \u001b[0;36mAbstractHTTPHandler.do_open\u001b[0;34m(self, http_class, req, **http_conn_args)\u001b[0m\n\u001b[1;32m   1343\u001b[0m \u001b[38;5;28;01mtry\u001b[39;00m:\n\u001b[0;32m-> 1344\u001b[0m     \u001b[43mh\u001b[49m\u001b[38;5;241;43m.\u001b[39;49m\u001b[43mrequest\u001b[49m\u001b[43m(\u001b[49m\u001b[43mreq\u001b[49m\u001b[38;5;241;43m.\u001b[39;49m\u001b[43mget_method\u001b[49m\u001b[43m(\u001b[49m\u001b[43m)\u001b[49m\u001b[43m,\u001b[49m\u001b[43m \u001b[49m\u001b[43mreq\u001b[49m\u001b[38;5;241;43m.\u001b[39;49m\u001b[43mselector\u001b[49m\u001b[43m,\u001b[49m\u001b[43m \u001b[49m\u001b[43mreq\u001b[49m\u001b[38;5;241;43m.\u001b[39;49m\u001b[43mdata\u001b[49m\u001b[43m,\u001b[49m\u001b[43m \u001b[49m\u001b[43mheaders\u001b[49m\u001b[43m,\u001b[49m\n\u001b[1;32m   1345\u001b[0m \u001b[43m              \u001b[49m\u001b[43mencode_chunked\u001b[49m\u001b[38;5;241;43m=\u001b[39;49m\u001b[43mreq\u001b[49m\u001b[38;5;241;43m.\u001b[39;49m\u001b[43mhas_header\u001b[49m\u001b[43m(\u001b[49m\u001b[38;5;124;43m'\u001b[39;49m\u001b[38;5;124;43mTransfer-encoding\u001b[39;49m\u001b[38;5;124;43m'\u001b[39;49m\u001b[43m)\u001b[49m\u001b[43m)\u001b[49m\n\u001b[1;32m   1346\u001b[0m \u001b[38;5;28;01mexcept\u001b[39;00m \u001b[38;5;167;01mOSError\u001b[39;00m \u001b[38;5;28;01mas\u001b[39;00m err: \u001b[38;5;66;03m# timeout error\u001b[39;00m\n",
            "File \u001b[0;32m/Library/Frameworks/Python.framework/Versions/3.12/lib/python3.12/http/client.py:1336\u001b[0m, in \u001b[0;36mHTTPConnection.request\u001b[0;34m(self, method, url, body, headers, encode_chunked)\u001b[0m\n\u001b[1;32m   1335\u001b[0m \u001b[38;5;250m\u001b[39m\u001b[38;5;124;03m\"\"\"Send a complete request to the server.\"\"\"\u001b[39;00m\n\u001b[0;32m-> 1336\u001b[0m \u001b[38;5;28;43mself\u001b[39;49m\u001b[38;5;241;43m.\u001b[39;49m\u001b[43m_send_request\u001b[49m\u001b[43m(\u001b[49m\u001b[43mmethod\u001b[49m\u001b[43m,\u001b[49m\u001b[43m \u001b[49m\u001b[43murl\u001b[49m\u001b[43m,\u001b[49m\u001b[43m \u001b[49m\u001b[43mbody\u001b[49m\u001b[43m,\u001b[49m\u001b[43m \u001b[49m\u001b[43mheaders\u001b[49m\u001b[43m,\u001b[49m\u001b[43m \u001b[49m\u001b[43mencode_chunked\u001b[49m\u001b[43m)\u001b[49m\n",
            "File \u001b[0;32m/Library/Frameworks/Python.framework/Versions/3.12/lib/python3.12/http/client.py:1382\u001b[0m, in \u001b[0;36mHTTPConnection._send_request\u001b[0;34m(self, method, url, body, headers, encode_chunked)\u001b[0m\n\u001b[1;32m   1381\u001b[0m     body \u001b[38;5;241m=\u001b[39m _encode(body, \u001b[38;5;124m'\u001b[39m\u001b[38;5;124mbody\u001b[39m\u001b[38;5;124m'\u001b[39m)\n\u001b[0;32m-> 1382\u001b[0m \u001b[38;5;28;43mself\u001b[39;49m\u001b[38;5;241;43m.\u001b[39;49m\u001b[43mendheaders\u001b[49m\u001b[43m(\u001b[49m\u001b[43mbody\u001b[49m\u001b[43m,\u001b[49m\u001b[43m \u001b[49m\u001b[43mencode_chunked\u001b[49m\u001b[38;5;241;43m=\u001b[39;49m\u001b[43mencode_chunked\u001b[49m\u001b[43m)\u001b[49m\n",
            "File \u001b[0;32m/Library/Frameworks/Python.framework/Versions/3.12/lib/python3.12/http/client.py:1331\u001b[0m, in \u001b[0;36mHTTPConnection.endheaders\u001b[0;34m(self, message_body, encode_chunked)\u001b[0m\n\u001b[1;32m   1330\u001b[0m     \u001b[38;5;28;01mraise\u001b[39;00m CannotSendHeader()\n\u001b[0;32m-> 1331\u001b[0m \u001b[38;5;28;43mself\u001b[39;49m\u001b[38;5;241;43m.\u001b[39;49m\u001b[43m_send_output\u001b[49m\u001b[43m(\u001b[49m\u001b[43mmessage_body\u001b[49m\u001b[43m,\u001b[49m\u001b[43m \u001b[49m\u001b[43mencode_chunked\u001b[49m\u001b[38;5;241;43m=\u001b[39;49m\u001b[43mencode_chunked\u001b[49m\u001b[43m)\u001b[49m\n",
            "File \u001b[0;32m/Library/Frameworks/Python.framework/Versions/3.12/lib/python3.12/http/client.py:1091\u001b[0m, in \u001b[0;36mHTTPConnection._send_output\u001b[0;34m(self, message_body, encode_chunked)\u001b[0m\n\u001b[1;32m   1090\u001b[0m \u001b[38;5;28;01mdel\u001b[39;00m \u001b[38;5;28mself\u001b[39m\u001b[38;5;241m.\u001b[39m_buffer[:]\n\u001b[0;32m-> 1091\u001b[0m \u001b[38;5;28;43mself\u001b[39;49m\u001b[38;5;241;43m.\u001b[39;49m\u001b[43msend\u001b[49m\u001b[43m(\u001b[49m\u001b[43mmsg\u001b[49m\u001b[43m)\u001b[49m\n\u001b[1;32m   1093\u001b[0m \u001b[38;5;28;01mif\u001b[39;00m message_body \u001b[38;5;129;01mis\u001b[39;00m \u001b[38;5;129;01mnot\u001b[39;00m \u001b[38;5;28;01mNone\u001b[39;00m:\n\u001b[1;32m   1094\u001b[0m \n\u001b[1;32m   1095\u001b[0m     \u001b[38;5;66;03m# create a consistent interface to message_body\u001b[39;00m\n",
            "File \u001b[0;32m/Library/Frameworks/Python.framework/Versions/3.12/lib/python3.12/http/client.py:1035\u001b[0m, in \u001b[0;36mHTTPConnection.send\u001b[0;34m(self, data)\u001b[0m\n\u001b[1;32m   1034\u001b[0m \u001b[38;5;28;01mif\u001b[39;00m \u001b[38;5;28mself\u001b[39m\u001b[38;5;241m.\u001b[39mauto_open:\n\u001b[0;32m-> 1035\u001b[0m     \u001b[38;5;28;43mself\u001b[39;49m\u001b[38;5;241;43m.\u001b[39;49m\u001b[43mconnect\u001b[49m\u001b[43m(\u001b[49m\u001b[43m)\u001b[49m\n\u001b[1;32m   1036\u001b[0m \u001b[38;5;28;01melse\u001b[39;00m:\n",
            "File \u001b[0;32m/Library/Frameworks/Python.framework/Versions/3.12/lib/python3.12/http/client.py:1477\u001b[0m, in \u001b[0;36mHTTPSConnection.connect\u001b[0;34m(self)\u001b[0m\n\u001b[1;32m   1475\u001b[0m     server_hostname \u001b[38;5;241m=\u001b[39m \u001b[38;5;28mself\u001b[39m\u001b[38;5;241m.\u001b[39mhost\n\u001b[0;32m-> 1477\u001b[0m \u001b[38;5;28mself\u001b[39m\u001b[38;5;241m.\u001b[39msock \u001b[38;5;241m=\u001b[39m \u001b[38;5;28;43mself\u001b[39;49m\u001b[38;5;241;43m.\u001b[39;49m\u001b[43m_context\u001b[49m\u001b[38;5;241;43m.\u001b[39;49m\u001b[43mwrap_socket\u001b[49m\u001b[43m(\u001b[49m\u001b[38;5;28;43mself\u001b[39;49m\u001b[38;5;241;43m.\u001b[39;49m\u001b[43msock\u001b[49m\u001b[43m,\u001b[49m\n\u001b[1;32m   1478\u001b[0m \u001b[43m                                      \u001b[49m\u001b[43mserver_hostname\u001b[49m\u001b[38;5;241;43m=\u001b[39;49m\u001b[43mserver_hostname\u001b[49m\u001b[43m)\u001b[49m\n",
            "File \u001b[0;32m/Library/Frameworks/Python.framework/Versions/3.12/lib/python3.12/ssl.py:455\u001b[0m, in \u001b[0;36mSSLContext.wrap_socket\u001b[0;34m(self, sock, server_side, do_handshake_on_connect, suppress_ragged_eofs, server_hostname, session)\u001b[0m\n\u001b[1;32m    449\u001b[0m \u001b[38;5;28;01mdef\u001b[39;00m \u001b[38;5;21mwrap_socket\u001b[39m(\u001b[38;5;28mself\u001b[39m, sock, server_side\u001b[38;5;241m=\u001b[39m\u001b[38;5;28;01mFalse\u001b[39;00m,\n\u001b[1;32m    450\u001b[0m                 do_handshake_on_connect\u001b[38;5;241m=\u001b[39m\u001b[38;5;28;01mTrue\u001b[39;00m,\n\u001b[1;32m    451\u001b[0m                 suppress_ragged_eofs\u001b[38;5;241m=\u001b[39m\u001b[38;5;28;01mTrue\u001b[39;00m,\n\u001b[1;32m    452\u001b[0m                 server_hostname\u001b[38;5;241m=\u001b[39m\u001b[38;5;28;01mNone\u001b[39;00m, session\u001b[38;5;241m=\u001b[39m\u001b[38;5;28;01mNone\u001b[39;00m):\n\u001b[1;32m    453\u001b[0m     \u001b[38;5;66;03m# SSLSocket class handles server_hostname encoding before it calls\u001b[39;00m\n\u001b[1;32m    454\u001b[0m     \u001b[38;5;66;03m# ctx._wrap_socket()\u001b[39;00m\n\u001b[0;32m--> 455\u001b[0m     \u001b[38;5;28;01mreturn\u001b[39;00m \u001b[38;5;28;43mself\u001b[39;49m\u001b[38;5;241;43m.\u001b[39;49m\u001b[43msslsocket_class\u001b[49m\u001b[38;5;241;43m.\u001b[39;49m\u001b[43m_create\u001b[49m\u001b[43m(\u001b[49m\n\u001b[1;32m    456\u001b[0m \u001b[43m        \u001b[49m\u001b[43msock\u001b[49m\u001b[38;5;241;43m=\u001b[39;49m\u001b[43msock\u001b[49m\u001b[43m,\u001b[49m\n\u001b[1;32m    457\u001b[0m \u001b[43m        \u001b[49m\u001b[43mserver_side\u001b[49m\u001b[38;5;241;43m=\u001b[39;49m\u001b[43mserver_side\u001b[49m\u001b[43m,\u001b[49m\n\u001b[1;32m    458\u001b[0m \u001b[43m        \u001b[49m\u001b[43mdo_handshake_on_connect\u001b[49m\u001b[38;5;241;43m=\u001b[39;49m\u001b[43mdo_handshake_on_connect\u001b[49m\u001b[43m,\u001b[49m\n\u001b[1;32m    459\u001b[0m \u001b[43m        \u001b[49m\u001b[43msuppress_ragged_eofs\u001b[49m\u001b[38;5;241;43m=\u001b[39;49m\u001b[43msuppress_ragged_eofs\u001b[49m\u001b[43m,\u001b[49m\n\u001b[1;32m    460\u001b[0m \u001b[43m        \u001b[49m\u001b[43mserver_hostname\u001b[49m\u001b[38;5;241;43m=\u001b[39;49m\u001b[43mserver_hostname\u001b[49m\u001b[43m,\u001b[49m\n\u001b[1;32m    461\u001b[0m \u001b[43m        \u001b[49m\u001b[43mcontext\u001b[49m\u001b[38;5;241;43m=\u001b[39;49m\u001b[38;5;28;43mself\u001b[39;49m\u001b[43m,\u001b[49m\n\u001b[1;32m    462\u001b[0m \u001b[43m        \u001b[49m\u001b[43msession\u001b[49m\u001b[38;5;241;43m=\u001b[39;49m\u001b[43msession\u001b[49m\n\u001b[1;32m    463\u001b[0m \u001b[43m    \u001b[49m\u001b[43m)\u001b[49m\n",
            "File \u001b[0;32m/Library/Frameworks/Python.framework/Versions/3.12/lib/python3.12/ssl.py:1042\u001b[0m, in \u001b[0;36mSSLSocket._create\u001b[0;34m(cls, sock, server_side, do_handshake_on_connect, suppress_ragged_eofs, server_hostname, context, session)\u001b[0m\n\u001b[1;32m   1041\u001b[0m                 \u001b[38;5;28;01mraise\u001b[39;00m \u001b[38;5;167;01mValueError\u001b[39;00m(\u001b[38;5;124m\"\u001b[39m\u001b[38;5;124mdo_handshake_on_connect should not be specified for non-blocking sockets\u001b[39m\u001b[38;5;124m\"\u001b[39m)\n\u001b[0;32m-> 1042\u001b[0m             \u001b[38;5;28;43mself\u001b[39;49m\u001b[38;5;241;43m.\u001b[39;49m\u001b[43mdo_handshake\u001b[49m\u001b[43m(\u001b[49m\u001b[43m)\u001b[49m\n\u001b[1;32m   1043\u001b[0m \u001b[38;5;28;01mexcept\u001b[39;00m:\n",
            "File \u001b[0;32m/Library/Frameworks/Python.framework/Versions/3.12/lib/python3.12/ssl.py:1320\u001b[0m, in \u001b[0;36mSSLSocket.do_handshake\u001b[0;34m(self, block)\u001b[0m\n\u001b[1;32m   1319\u001b[0m         \u001b[38;5;28mself\u001b[39m\u001b[38;5;241m.\u001b[39msettimeout(\u001b[38;5;28;01mNone\u001b[39;00m)\n\u001b[0;32m-> 1320\u001b[0m     \u001b[38;5;28;43mself\u001b[39;49m\u001b[38;5;241;43m.\u001b[39;49m\u001b[43m_sslobj\u001b[49m\u001b[38;5;241;43m.\u001b[39;49m\u001b[43mdo_handshake\u001b[49m\u001b[43m(\u001b[49m\u001b[43m)\u001b[49m\n\u001b[1;32m   1321\u001b[0m \u001b[38;5;28;01mfinally\u001b[39;00m:\n",
            "\u001b[0;31mSSLCertVerificationError\u001b[0m: [SSL: CERTIFICATE_VERIFY_FAILED] certificate verify failed: unable to get local issuer certificate (_ssl.c:1000)",
            "\nDuring handling of the above exception, another exception occurred:\n",
            "\u001b[0;31mURLError\u001b[0m                                  Traceback (most recent call last)",
            "Cell \u001b[0;32mIn[1223], line 3\u001b[0m\n\u001b[1;32m      1\u001b[0m \u001b[38;5;66;03m#Import e-cig device type data\u001b[39;00m\n\u001b[1;32m      2\u001b[0m url \u001b[38;5;241m=\u001b[39m (\u001b[38;5;124m\"\u001b[39m\u001b[38;5;124mhttps://raw.githubusercontent.com/rhobaker/Data_Project/main/ONS_ecigarette_use_in_great_britain/Most_freq_used_e-cig_by_device_type_gb_youth.csv\u001b[39m\u001b[38;5;124m\"\u001b[39m)\n\u001b[0;32m----> 3\u001b[0m disposable \u001b[38;5;241m=\u001b[39m \u001b[43mpd\u001b[49m\u001b[38;5;241;43m.\u001b[39;49m\u001b[43mread_csv\u001b[49m\u001b[43m(\u001b[49m\u001b[43murl\u001b[49m\u001b[43m)\u001b[49m\n\u001b[1;32m      5\u001b[0m disposable\n",
            "File \u001b[0;32m/Library/Frameworks/Python.framework/Versions/3.12/lib/python3.12/site-packages/pandas/io/parsers/readers.py:1026\u001b[0m, in \u001b[0;36mread_csv\u001b[0;34m(filepath_or_buffer, sep, delimiter, header, names, index_col, usecols, dtype, engine, converters, true_values, false_values, skipinitialspace, skiprows, skipfooter, nrows, na_values, keep_default_na, na_filter, verbose, skip_blank_lines, parse_dates, infer_datetime_format, keep_date_col, date_parser, date_format, dayfirst, cache_dates, iterator, chunksize, compression, thousands, decimal, lineterminator, quotechar, quoting, doublequote, escapechar, comment, encoding, encoding_errors, dialect, on_bad_lines, delim_whitespace, low_memory, memory_map, float_precision, storage_options, dtype_backend)\u001b[0m\n\u001b[1;32m   1013\u001b[0m kwds_defaults \u001b[38;5;241m=\u001b[39m _refine_defaults_read(\n\u001b[1;32m   1014\u001b[0m     dialect,\n\u001b[1;32m   1015\u001b[0m     delimiter,\n\u001b[0;32m   (...)\u001b[0m\n\u001b[1;32m   1022\u001b[0m     dtype_backend\u001b[38;5;241m=\u001b[39mdtype_backend,\n\u001b[1;32m   1023\u001b[0m )\n\u001b[1;32m   1024\u001b[0m kwds\u001b[38;5;241m.\u001b[39mupdate(kwds_defaults)\n\u001b[0;32m-> 1026\u001b[0m \u001b[38;5;28;01mreturn\u001b[39;00m \u001b[43m_read\u001b[49m\u001b[43m(\u001b[49m\u001b[43mfilepath_or_buffer\u001b[49m\u001b[43m,\u001b[49m\u001b[43m \u001b[49m\u001b[43mkwds\u001b[49m\u001b[43m)\u001b[49m\n",
            "File \u001b[0;32m/Library/Frameworks/Python.framework/Versions/3.12/lib/python3.12/site-packages/pandas/io/parsers/readers.py:620\u001b[0m, in \u001b[0;36m_read\u001b[0;34m(filepath_or_buffer, kwds)\u001b[0m\n\u001b[1;32m    617\u001b[0m _validate_names(kwds\u001b[38;5;241m.\u001b[39mget(\u001b[38;5;124m\"\u001b[39m\u001b[38;5;124mnames\u001b[39m\u001b[38;5;124m\"\u001b[39m, \u001b[38;5;28;01mNone\u001b[39;00m))\n\u001b[1;32m    619\u001b[0m \u001b[38;5;66;03m# Create the parser.\u001b[39;00m\n\u001b[0;32m--> 620\u001b[0m parser \u001b[38;5;241m=\u001b[39m \u001b[43mTextFileReader\u001b[49m\u001b[43m(\u001b[49m\u001b[43mfilepath_or_buffer\u001b[49m\u001b[43m,\u001b[49m\u001b[43m \u001b[49m\u001b[38;5;241;43m*\u001b[39;49m\u001b[38;5;241;43m*\u001b[39;49m\u001b[43mkwds\u001b[49m\u001b[43m)\u001b[49m\n\u001b[1;32m    622\u001b[0m \u001b[38;5;28;01mif\u001b[39;00m chunksize \u001b[38;5;129;01mor\u001b[39;00m iterator:\n\u001b[1;32m    623\u001b[0m     \u001b[38;5;28;01mreturn\u001b[39;00m parser\n",
            "File \u001b[0;32m/Library/Frameworks/Python.framework/Versions/3.12/lib/python3.12/site-packages/pandas/io/parsers/readers.py:1620\u001b[0m, in \u001b[0;36mTextFileReader.__init__\u001b[0;34m(self, f, engine, **kwds)\u001b[0m\n\u001b[1;32m   1617\u001b[0m     \u001b[38;5;28mself\u001b[39m\u001b[38;5;241m.\u001b[39moptions[\u001b[38;5;124m\"\u001b[39m\u001b[38;5;124mhas_index_names\u001b[39m\u001b[38;5;124m\"\u001b[39m] \u001b[38;5;241m=\u001b[39m kwds[\u001b[38;5;124m\"\u001b[39m\u001b[38;5;124mhas_index_names\u001b[39m\u001b[38;5;124m\"\u001b[39m]\n\u001b[1;32m   1619\u001b[0m \u001b[38;5;28mself\u001b[39m\u001b[38;5;241m.\u001b[39mhandles: IOHandles \u001b[38;5;241m|\u001b[39m \u001b[38;5;28;01mNone\u001b[39;00m \u001b[38;5;241m=\u001b[39m \u001b[38;5;28;01mNone\u001b[39;00m\n\u001b[0;32m-> 1620\u001b[0m \u001b[38;5;28mself\u001b[39m\u001b[38;5;241m.\u001b[39m_engine \u001b[38;5;241m=\u001b[39m \u001b[38;5;28;43mself\u001b[39;49m\u001b[38;5;241;43m.\u001b[39;49m\u001b[43m_make_engine\u001b[49m\u001b[43m(\u001b[49m\u001b[43mf\u001b[49m\u001b[43m,\u001b[49m\u001b[43m \u001b[49m\u001b[38;5;28;43mself\u001b[39;49m\u001b[38;5;241;43m.\u001b[39;49m\u001b[43mengine\u001b[49m\u001b[43m)\u001b[49m\n",
            "File \u001b[0;32m/Library/Frameworks/Python.framework/Versions/3.12/lib/python3.12/site-packages/pandas/io/parsers/readers.py:1880\u001b[0m, in \u001b[0;36mTextFileReader._make_engine\u001b[0;34m(self, f, engine)\u001b[0m\n\u001b[1;32m   1878\u001b[0m     \u001b[38;5;28;01mif\u001b[39;00m \u001b[38;5;124m\"\u001b[39m\u001b[38;5;124mb\u001b[39m\u001b[38;5;124m\"\u001b[39m \u001b[38;5;129;01mnot\u001b[39;00m \u001b[38;5;129;01min\u001b[39;00m mode:\n\u001b[1;32m   1879\u001b[0m         mode \u001b[38;5;241m+\u001b[39m\u001b[38;5;241m=\u001b[39m \u001b[38;5;124m\"\u001b[39m\u001b[38;5;124mb\u001b[39m\u001b[38;5;124m\"\u001b[39m\n\u001b[0;32m-> 1880\u001b[0m \u001b[38;5;28mself\u001b[39m\u001b[38;5;241m.\u001b[39mhandles \u001b[38;5;241m=\u001b[39m \u001b[43mget_handle\u001b[49m\u001b[43m(\u001b[49m\n\u001b[1;32m   1881\u001b[0m \u001b[43m    \u001b[49m\u001b[43mf\u001b[49m\u001b[43m,\u001b[49m\n\u001b[1;32m   1882\u001b[0m \u001b[43m    \u001b[49m\u001b[43mmode\u001b[49m\u001b[43m,\u001b[49m\n\u001b[1;32m   1883\u001b[0m \u001b[43m    \u001b[49m\u001b[43mencoding\u001b[49m\u001b[38;5;241;43m=\u001b[39;49m\u001b[38;5;28;43mself\u001b[39;49m\u001b[38;5;241;43m.\u001b[39;49m\u001b[43moptions\u001b[49m\u001b[38;5;241;43m.\u001b[39;49m\u001b[43mget\u001b[49m\u001b[43m(\u001b[49m\u001b[38;5;124;43m\"\u001b[39;49m\u001b[38;5;124;43mencoding\u001b[39;49m\u001b[38;5;124;43m\"\u001b[39;49m\u001b[43m,\u001b[49m\u001b[43m \u001b[49m\u001b[38;5;28;43;01mNone\u001b[39;49;00m\u001b[43m)\u001b[49m\u001b[43m,\u001b[49m\n\u001b[1;32m   1884\u001b[0m \u001b[43m    \u001b[49m\u001b[43mcompression\u001b[49m\u001b[38;5;241;43m=\u001b[39;49m\u001b[38;5;28;43mself\u001b[39;49m\u001b[38;5;241;43m.\u001b[39;49m\u001b[43moptions\u001b[49m\u001b[38;5;241;43m.\u001b[39;49m\u001b[43mget\u001b[49m\u001b[43m(\u001b[49m\u001b[38;5;124;43m\"\u001b[39;49m\u001b[38;5;124;43mcompression\u001b[39;49m\u001b[38;5;124;43m\"\u001b[39;49m\u001b[43m,\u001b[49m\u001b[43m \u001b[49m\u001b[38;5;28;43;01mNone\u001b[39;49;00m\u001b[43m)\u001b[49m\u001b[43m,\u001b[49m\n\u001b[1;32m   1885\u001b[0m \u001b[43m    \u001b[49m\u001b[43mmemory_map\u001b[49m\u001b[38;5;241;43m=\u001b[39;49m\u001b[38;5;28;43mself\u001b[39;49m\u001b[38;5;241;43m.\u001b[39;49m\u001b[43moptions\u001b[49m\u001b[38;5;241;43m.\u001b[39;49m\u001b[43mget\u001b[49m\u001b[43m(\u001b[49m\u001b[38;5;124;43m\"\u001b[39;49m\u001b[38;5;124;43mmemory_map\u001b[39;49m\u001b[38;5;124;43m\"\u001b[39;49m\u001b[43m,\u001b[49m\u001b[43m \u001b[49m\u001b[38;5;28;43;01mFalse\u001b[39;49;00m\u001b[43m)\u001b[49m\u001b[43m,\u001b[49m\n\u001b[1;32m   1886\u001b[0m \u001b[43m    \u001b[49m\u001b[43mis_text\u001b[49m\u001b[38;5;241;43m=\u001b[39;49m\u001b[43mis_text\u001b[49m\u001b[43m,\u001b[49m\n\u001b[1;32m   1887\u001b[0m \u001b[43m    \u001b[49m\u001b[43merrors\u001b[49m\u001b[38;5;241;43m=\u001b[39;49m\u001b[38;5;28;43mself\u001b[39;49m\u001b[38;5;241;43m.\u001b[39;49m\u001b[43moptions\u001b[49m\u001b[38;5;241;43m.\u001b[39;49m\u001b[43mget\u001b[49m\u001b[43m(\u001b[49m\u001b[38;5;124;43m\"\u001b[39;49m\u001b[38;5;124;43mencoding_errors\u001b[39;49m\u001b[38;5;124;43m\"\u001b[39;49m\u001b[43m,\u001b[49m\u001b[43m \u001b[49m\u001b[38;5;124;43m\"\u001b[39;49m\u001b[38;5;124;43mstrict\u001b[39;49m\u001b[38;5;124;43m\"\u001b[39;49m\u001b[43m)\u001b[49m\u001b[43m,\u001b[49m\n\u001b[1;32m   1888\u001b[0m \u001b[43m    \u001b[49m\u001b[43mstorage_options\u001b[49m\u001b[38;5;241;43m=\u001b[39;49m\u001b[38;5;28;43mself\u001b[39;49m\u001b[38;5;241;43m.\u001b[39;49m\u001b[43moptions\u001b[49m\u001b[38;5;241;43m.\u001b[39;49m\u001b[43mget\u001b[49m\u001b[43m(\u001b[49m\u001b[38;5;124;43m\"\u001b[39;49m\u001b[38;5;124;43mstorage_options\u001b[39;49m\u001b[38;5;124;43m\"\u001b[39;49m\u001b[43m,\u001b[49m\u001b[43m \u001b[49m\u001b[38;5;28;43;01mNone\u001b[39;49;00m\u001b[43m)\u001b[49m\u001b[43m,\u001b[49m\n\u001b[1;32m   1889\u001b[0m \u001b[43m\u001b[49m\u001b[43m)\u001b[49m\n\u001b[1;32m   1890\u001b[0m \u001b[38;5;28;01massert\u001b[39;00m \u001b[38;5;28mself\u001b[39m\u001b[38;5;241m.\u001b[39mhandles \u001b[38;5;129;01mis\u001b[39;00m \u001b[38;5;129;01mnot\u001b[39;00m \u001b[38;5;28;01mNone\u001b[39;00m\n\u001b[1;32m   1891\u001b[0m f \u001b[38;5;241m=\u001b[39m \u001b[38;5;28mself\u001b[39m\u001b[38;5;241m.\u001b[39mhandles\u001b[38;5;241m.\u001b[39mhandle\n",
            "File \u001b[0;32m/Library/Frameworks/Python.framework/Versions/3.12/lib/python3.12/site-packages/pandas/io/common.py:728\u001b[0m, in \u001b[0;36mget_handle\u001b[0;34m(path_or_buf, mode, encoding, compression, memory_map, is_text, errors, storage_options)\u001b[0m\n\u001b[1;32m    725\u001b[0m     codecs\u001b[38;5;241m.\u001b[39mlookup_error(errors)\n\u001b[1;32m    727\u001b[0m \u001b[38;5;66;03m# open URLs\u001b[39;00m\n\u001b[0;32m--> 728\u001b[0m ioargs \u001b[38;5;241m=\u001b[39m \u001b[43m_get_filepath_or_buffer\u001b[49m\u001b[43m(\u001b[49m\n\u001b[1;32m    729\u001b[0m \u001b[43m    \u001b[49m\u001b[43mpath_or_buf\u001b[49m\u001b[43m,\u001b[49m\n\u001b[1;32m    730\u001b[0m \u001b[43m    \u001b[49m\u001b[43mencoding\u001b[49m\u001b[38;5;241;43m=\u001b[39;49m\u001b[43mencoding\u001b[49m\u001b[43m,\u001b[49m\n\u001b[1;32m    731\u001b[0m \u001b[43m    \u001b[49m\u001b[43mcompression\u001b[49m\u001b[38;5;241;43m=\u001b[39;49m\u001b[43mcompression\u001b[49m\u001b[43m,\u001b[49m\n\u001b[1;32m    732\u001b[0m \u001b[43m    \u001b[49m\u001b[43mmode\u001b[49m\u001b[38;5;241;43m=\u001b[39;49m\u001b[43mmode\u001b[49m\u001b[43m,\u001b[49m\n\u001b[1;32m    733\u001b[0m \u001b[43m    \u001b[49m\u001b[43mstorage_options\u001b[49m\u001b[38;5;241;43m=\u001b[39;49m\u001b[43mstorage_options\u001b[49m\u001b[43m,\u001b[49m\n\u001b[1;32m    734\u001b[0m \u001b[43m\u001b[49m\u001b[43m)\u001b[49m\n\u001b[1;32m    736\u001b[0m handle \u001b[38;5;241m=\u001b[39m ioargs\u001b[38;5;241m.\u001b[39mfilepath_or_buffer\n\u001b[1;32m    737\u001b[0m handles: \u001b[38;5;28mlist\u001b[39m[BaseBuffer]\n",
            "File \u001b[0;32m/Library/Frameworks/Python.framework/Versions/3.12/lib/python3.12/site-packages/pandas/io/common.py:384\u001b[0m, in \u001b[0;36m_get_filepath_or_buffer\u001b[0;34m(filepath_or_buffer, encoding, compression, mode, storage_options)\u001b[0m\n\u001b[1;32m    382\u001b[0m \u001b[38;5;66;03m# assuming storage_options is to be interpreted as headers\u001b[39;00m\n\u001b[1;32m    383\u001b[0m req_info \u001b[38;5;241m=\u001b[39m urllib\u001b[38;5;241m.\u001b[39mrequest\u001b[38;5;241m.\u001b[39mRequest(filepath_or_buffer, headers\u001b[38;5;241m=\u001b[39mstorage_options)\n\u001b[0;32m--> 384\u001b[0m \u001b[38;5;28;01mwith\u001b[39;00m \u001b[43murlopen\u001b[49m\u001b[43m(\u001b[49m\u001b[43mreq_info\u001b[49m\u001b[43m)\u001b[49m \u001b[38;5;28;01mas\u001b[39;00m req:\n\u001b[1;32m    385\u001b[0m     content_encoding \u001b[38;5;241m=\u001b[39m req\u001b[38;5;241m.\u001b[39mheaders\u001b[38;5;241m.\u001b[39mget(\u001b[38;5;124m\"\u001b[39m\u001b[38;5;124mContent-Encoding\u001b[39m\u001b[38;5;124m\"\u001b[39m, \u001b[38;5;28;01mNone\u001b[39;00m)\n\u001b[1;32m    386\u001b[0m     \u001b[38;5;28;01mif\u001b[39;00m content_encoding \u001b[38;5;241m==\u001b[39m \u001b[38;5;124m\"\u001b[39m\u001b[38;5;124mgzip\u001b[39m\u001b[38;5;124m\"\u001b[39m:\n\u001b[1;32m    387\u001b[0m         \u001b[38;5;66;03m# Override compression based on Content-Encoding header\u001b[39;00m\n",
            "File \u001b[0;32m/Library/Frameworks/Python.framework/Versions/3.12/lib/python3.12/site-packages/pandas/io/common.py:289\u001b[0m, in \u001b[0;36murlopen\u001b[0;34m(*args, **kwargs)\u001b[0m\n\u001b[1;32m    283\u001b[0m \u001b[38;5;250m\u001b[39m\u001b[38;5;124;03m\"\"\"\u001b[39;00m\n\u001b[1;32m    284\u001b[0m \u001b[38;5;124;03mLazy-import wrapper for stdlib urlopen, as that imports a big chunk of\u001b[39;00m\n\u001b[1;32m    285\u001b[0m \u001b[38;5;124;03mthe stdlib.\u001b[39;00m\n\u001b[1;32m    286\u001b[0m \u001b[38;5;124;03m\"\"\"\u001b[39;00m\n\u001b[1;32m    287\u001b[0m \u001b[38;5;28;01mimport\u001b[39;00m \u001b[38;5;21;01murllib\u001b[39;00m\u001b[38;5;21;01m.\u001b[39;00m\u001b[38;5;21;01mrequest\u001b[39;00m\n\u001b[0;32m--> 289\u001b[0m \u001b[38;5;28;01mreturn\u001b[39;00m \u001b[43murllib\u001b[49m\u001b[38;5;241;43m.\u001b[39;49m\u001b[43mrequest\u001b[49m\u001b[38;5;241;43m.\u001b[39;49m\u001b[43murlopen\u001b[49m\u001b[43m(\u001b[49m\u001b[38;5;241;43m*\u001b[39;49m\u001b[43margs\u001b[49m\u001b[43m,\u001b[49m\u001b[43m \u001b[49m\u001b[38;5;241;43m*\u001b[39;49m\u001b[38;5;241;43m*\u001b[39;49m\u001b[43mkwargs\u001b[49m\u001b[43m)\u001b[49m\n",
            "File \u001b[0;32m/Library/Frameworks/Python.framework/Versions/3.12/lib/python3.12/urllib/request.py:215\u001b[0m, in \u001b[0;36murlopen\u001b[0;34m(url, data, timeout, cafile, capath, cadefault, context)\u001b[0m\n\u001b[1;32m    213\u001b[0m \u001b[38;5;28;01melse\u001b[39;00m:\n\u001b[1;32m    214\u001b[0m     opener \u001b[38;5;241m=\u001b[39m _opener\n\u001b[0;32m--> 215\u001b[0m \u001b[38;5;28;01mreturn\u001b[39;00m \u001b[43mopener\u001b[49m\u001b[38;5;241;43m.\u001b[39;49m\u001b[43mopen\u001b[49m\u001b[43m(\u001b[49m\u001b[43murl\u001b[49m\u001b[43m,\u001b[49m\u001b[43m \u001b[49m\u001b[43mdata\u001b[49m\u001b[43m,\u001b[49m\u001b[43m \u001b[49m\u001b[43mtimeout\u001b[49m\u001b[43m)\u001b[49m\n",
            "File \u001b[0;32m/Library/Frameworks/Python.framework/Versions/3.12/lib/python3.12/urllib/request.py:515\u001b[0m, in \u001b[0;36mOpenerDirector.open\u001b[0;34m(self, fullurl, data, timeout)\u001b[0m\n\u001b[1;32m    512\u001b[0m     req \u001b[38;5;241m=\u001b[39m meth(req)\n\u001b[1;32m    514\u001b[0m sys\u001b[38;5;241m.\u001b[39maudit(\u001b[38;5;124m'\u001b[39m\u001b[38;5;124murllib.Request\u001b[39m\u001b[38;5;124m'\u001b[39m, req\u001b[38;5;241m.\u001b[39mfull_url, req\u001b[38;5;241m.\u001b[39mdata, req\u001b[38;5;241m.\u001b[39mheaders, req\u001b[38;5;241m.\u001b[39mget_method())\n\u001b[0;32m--> 515\u001b[0m response \u001b[38;5;241m=\u001b[39m \u001b[38;5;28;43mself\u001b[39;49m\u001b[38;5;241;43m.\u001b[39;49m\u001b[43m_open\u001b[49m\u001b[43m(\u001b[49m\u001b[43mreq\u001b[49m\u001b[43m,\u001b[49m\u001b[43m \u001b[49m\u001b[43mdata\u001b[49m\u001b[43m)\u001b[49m\n\u001b[1;32m    517\u001b[0m \u001b[38;5;66;03m# post-process response\u001b[39;00m\n\u001b[1;32m    518\u001b[0m meth_name \u001b[38;5;241m=\u001b[39m protocol\u001b[38;5;241m+\u001b[39m\u001b[38;5;124m\"\u001b[39m\u001b[38;5;124m_response\u001b[39m\u001b[38;5;124m\"\u001b[39m\n",
            "File \u001b[0;32m/Library/Frameworks/Python.framework/Versions/3.12/lib/python3.12/urllib/request.py:532\u001b[0m, in \u001b[0;36mOpenerDirector._open\u001b[0;34m(self, req, data)\u001b[0m\n\u001b[1;32m    529\u001b[0m     \u001b[38;5;28;01mreturn\u001b[39;00m result\n\u001b[1;32m    531\u001b[0m protocol \u001b[38;5;241m=\u001b[39m req\u001b[38;5;241m.\u001b[39mtype\n\u001b[0;32m--> 532\u001b[0m result \u001b[38;5;241m=\u001b[39m \u001b[38;5;28;43mself\u001b[39;49m\u001b[38;5;241;43m.\u001b[39;49m\u001b[43m_call_chain\u001b[49m\u001b[43m(\u001b[49m\u001b[38;5;28;43mself\u001b[39;49m\u001b[38;5;241;43m.\u001b[39;49m\u001b[43mhandle_open\u001b[49m\u001b[43m,\u001b[49m\u001b[43m \u001b[49m\u001b[43mprotocol\u001b[49m\u001b[43m,\u001b[49m\u001b[43m \u001b[49m\u001b[43mprotocol\u001b[49m\u001b[43m \u001b[49m\u001b[38;5;241;43m+\u001b[39;49m\n\u001b[1;32m    533\u001b[0m \u001b[43m                          \u001b[49m\u001b[38;5;124;43m'\u001b[39;49m\u001b[38;5;124;43m_open\u001b[39;49m\u001b[38;5;124;43m'\u001b[39;49m\u001b[43m,\u001b[49m\u001b[43m \u001b[49m\u001b[43mreq\u001b[49m\u001b[43m)\u001b[49m\n\u001b[1;32m    534\u001b[0m \u001b[38;5;28;01mif\u001b[39;00m result:\n\u001b[1;32m    535\u001b[0m     \u001b[38;5;28;01mreturn\u001b[39;00m result\n",
            "File \u001b[0;32m/Library/Frameworks/Python.framework/Versions/3.12/lib/python3.12/urllib/request.py:492\u001b[0m, in \u001b[0;36mOpenerDirector._call_chain\u001b[0;34m(self, chain, kind, meth_name, *args)\u001b[0m\n\u001b[1;32m    490\u001b[0m \u001b[38;5;28;01mfor\u001b[39;00m handler \u001b[38;5;129;01min\u001b[39;00m handlers:\n\u001b[1;32m    491\u001b[0m     func \u001b[38;5;241m=\u001b[39m \u001b[38;5;28mgetattr\u001b[39m(handler, meth_name)\n\u001b[0;32m--> 492\u001b[0m     result \u001b[38;5;241m=\u001b[39m \u001b[43mfunc\u001b[49m\u001b[43m(\u001b[49m\u001b[38;5;241;43m*\u001b[39;49m\u001b[43margs\u001b[49m\u001b[43m)\u001b[49m\n\u001b[1;32m    493\u001b[0m     \u001b[38;5;28;01mif\u001b[39;00m result \u001b[38;5;129;01mis\u001b[39;00m \u001b[38;5;129;01mnot\u001b[39;00m \u001b[38;5;28;01mNone\u001b[39;00m:\n\u001b[1;32m    494\u001b[0m         \u001b[38;5;28;01mreturn\u001b[39;00m result\n",
            "File \u001b[0;32m/Library/Frameworks/Python.framework/Versions/3.12/lib/python3.12/urllib/request.py:1392\u001b[0m, in \u001b[0;36mHTTPSHandler.https_open\u001b[0;34m(self, req)\u001b[0m\n\u001b[1;32m   1391\u001b[0m \u001b[38;5;28;01mdef\u001b[39;00m \u001b[38;5;21mhttps_open\u001b[39m(\u001b[38;5;28mself\u001b[39m, req):\n\u001b[0;32m-> 1392\u001b[0m     \u001b[38;5;28;01mreturn\u001b[39;00m \u001b[38;5;28;43mself\u001b[39;49m\u001b[38;5;241;43m.\u001b[39;49m\u001b[43mdo_open\u001b[49m\u001b[43m(\u001b[49m\u001b[43mhttp\u001b[49m\u001b[38;5;241;43m.\u001b[39;49m\u001b[43mclient\u001b[49m\u001b[38;5;241;43m.\u001b[39;49m\u001b[43mHTTPSConnection\u001b[49m\u001b[43m,\u001b[49m\u001b[43m \u001b[49m\u001b[43mreq\u001b[49m\u001b[43m,\u001b[49m\n\u001b[1;32m   1393\u001b[0m \u001b[43m                        \u001b[49m\u001b[43mcontext\u001b[49m\u001b[38;5;241;43m=\u001b[39;49m\u001b[38;5;28;43mself\u001b[39;49m\u001b[38;5;241;43m.\u001b[39;49m\u001b[43m_context\u001b[49m\u001b[43m)\u001b[49m\n",
            "File \u001b[0;32m/Library/Frameworks/Python.framework/Versions/3.12/lib/python3.12/urllib/request.py:1347\u001b[0m, in \u001b[0;36mAbstractHTTPHandler.do_open\u001b[0;34m(self, http_class, req, **http_conn_args)\u001b[0m\n\u001b[1;32m   1344\u001b[0m         h\u001b[38;5;241m.\u001b[39mrequest(req\u001b[38;5;241m.\u001b[39mget_method(), req\u001b[38;5;241m.\u001b[39mselector, req\u001b[38;5;241m.\u001b[39mdata, headers,\n\u001b[1;32m   1345\u001b[0m                   encode_chunked\u001b[38;5;241m=\u001b[39mreq\u001b[38;5;241m.\u001b[39mhas_header(\u001b[38;5;124m'\u001b[39m\u001b[38;5;124mTransfer-encoding\u001b[39m\u001b[38;5;124m'\u001b[39m))\n\u001b[1;32m   1346\u001b[0m     \u001b[38;5;28;01mexcept\u001b[39;00m \u001b[38;5;167;01mOSError\u001b[39;00m \u001b[38;5;28;01mas\u001b[39;00m err: \u001b[38;5;66;03m# timeout error\u001b[39;00m\n\u001b[0;32m-> 1347\u001b[0m         \u001b[38;5;28;01mraise\u001b[39;00m URLError(err)\n\u001b[1;32m   1348\u001b[0m     r \u001b[38;5;241m=\u001b[39m h\u001b[38;5;241m.\u001b[39mgetresponse()\n\u001b[1;32m   1349\u001b[0m \u001b[38;5;28;01mexcept\u001b[39;00m:\n",
            "\u001b[0;31mURLError\u001b[0m: <urlopen error [SSL: CERTIFICATE_VERIFY_FAILED] certificate verify failed: unable to get local issuer certificate (_ssl.c:1000)>"
          ]
        }
      ],
      "source": [
        "#Import e-cig device type data\n",
        "url = (\"https://raw.githubusercontent.com/rhobaker/Data_Project/main/ONS_ecigarette_use_in_great_britain/Most_freq_used_e-cig_by_device_type_gb_youth.csv\")\n",
        "disposable = pd.read_csv(url)\n",
        "\n",
        "disposable"
      ]
    },
    {
      "cell_type": "code",
      "execution_count": null,
      "metadata": {
        "id": "1ItUcb0Qu01L",
        "outputId": "3e0bc0cf-d00b-4959-a510-8b6d3a23c253"
      },
      "outputs": [
        {
          "data": {
            "image/png": "[encoded data removed]",
            "text/plain": [
              "<Figure size 640x480 with 1 Axes>"
            ]
          },
          "metadata": {},
          "output_type": "display_data"
        }
      ],
      "source": [
        "#Stacked bar plot for e-cig use by device\n",
        "\n",
        "x = disposable['Year']\n",
        "y1 = disposable['Non-disposable']\n",
        "y2 = disposable['Disposable']\n",
        "\n",
        "plt.bar(x, y1, color='cornflowerblue')\n",
        "plt.bar(x, y2, bottom=y1, color='salmon')\n",
        "\n",
        "plt.xticks([2020, 2021, 2022, 2023])\n",
        "plt.legend([])\n",
        "\n",
        "plt.xlabel(\"Year\")\n",
        "plt.ylabel(\"Percentage (%)\")\n",
        "plt.title(\"Most frequently used e-cigarette by device type in e-cig users aged 11-17\")\n",
        "plt.legend(['Non-disposable', 'Disposable'])\n",
        "plt.show()"
      ]
    },
    {
      "cell_type": "markdown",
      "metadata": {
        "id": "ykco31V4u01L"
      },
      "source": [
        "We can see a dramatic rise, with the vast majority of young people using disposable vapes for their most frequent e-cigarette use.\n",
        "\n",
        "## Conclusion\n",
        "\n",
        "Although evidence shows that government mitigations are effective in bringing down smoking rates, the rise in e-cigarette use is a concern. A steady rise in use as expected as smoking rates decrease and e-cigarettes are used as quitting tools or less harmful alternatives to smoking. However the very sharp increase of e-cigarette use in younger people is far above the expected rate, considerably higher than the recent smoking rate in this demographic. Government mitigations on vaping should therefore be focussed on young people; without mitigations the rate of vaping in young people could rise exponentially.\n",
        "\n",
        "The planned ban on disposable vapes is likely to reduce the e-cigarette usage rate in young people, with an overwhelming majority of those 11-17 using disposable vapes most frequently, although this will also benefit other age groups. The UK government have stated that alongside banning disposable vapes, measures will be brought forward to to restrict vape flavours, displays and packaging, to make them less attractive to children. Our MPOWER analysis shows that government mitigations effectively reduced smoking rates by including measures on displays and advertising, therefore this ban is likely to be effective and curb the rise in the vaping rate in young people by introducing restrictions in these areas, particularly as vaping flavours and colours are more attractive to younger people.\n"
      ]
    },
    {
      "cell_type": "code",
      "execution_count": null,
      "metadata": {
        "id": "7nF9TQV9u01L"
      },
      "outputs": [],
      "source": [
        "## Question Two:\n",
        "Based on this analysis, how effective will the new ban be on reducing smoking prevalence and mortality?"
      ]
    }
  ],
  "metadata": {
    "kernelspec": {
      "display_name": "base",
      "language": "python",
      "name": "python3"
    },
    "language_info": {
      "codemirror_mode": {
        "name": "ipython",
        "version": 3
      },
      "file_extension": ".py",
      "mimetype": "text/x-python",
      "name": "python",
      "nbconvert_exporter": "python",
      "pygments_lexer": "ipython3",
      "version": "3.12.3"
    },
    "colab": {
      "provenance": [],
      "include_colab_link": true
    }
  },
  "nbformat": 4,
  "nbformat_minor": 0
}