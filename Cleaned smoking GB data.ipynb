{
 "cells": [
  {
   "cell_type": "code",
   "execution_count": 17,
   "metadata": {},
   "outputs": [],
   "source": [
    "import pandas as pd"
   ]
  },
  {
   "cell_type": "code",
   "execution_count": 16,
   "metadata": {},
   "outputs": [],
   "source": [
    "df = pd.read_csv('ONS_adult_smoking_habits_in_great_britain/Table_1a-Table 1.csv')"
   ]
  },
  {
   "cell_type": "code",
   "execution_count": 31,
   "metadata": {},
   "outputs": [],
   "source": [
    "def remove_outliers_iqr(df):\n",
    "    # Select numeric columns\n",
    "    numeric_cols = df.select_dtypes(include=['number']).columns\n",
    "\n",
    "    # Calculate Q1 (25th percentile) and Q3 (75th percentile)\n",
    "    Q1 = df[numeric_cols].quantile(0.25)\n",
    "    Q3 = df[numeric_cols].quantile(0.75)\n",
    "    IQR = Q3 - Q1\n",
    "\n",
    "    # Define outliers as those lying outside 1.5 * IQR from Q1 and Q3\n",
    "    lower_bound = Q1 - 1.5 * IQR\n",
    "    upper_bound = Q3 + 1.5 * IQR\n",
    "\n",
    "    # Filter out outliers\n",
    "    df_outliers_removed = df[~((df[numeric_cols] < lower_bound) | (df[numeric_cols] > upper_bound)).any(axis=1)]\n",
    "    return df_outliers_removed"
   ]
  },
  {
   "cell_type": "code",
   "execution_count": 32,
   "metadata": {},
   "outputs": [
    {
     "name": "stdout",
     "output_type": "stream",
     "text": [
      "Dataset after removing outliers:\n",
      "  Weight \\n[note 4] Year \\n[note 5]  Men \\naged \\n16 to 24  \\\n",
      "0          Weighted  2022 [note 11]                    9.9   \n",
      "1          Weighted  2021 [note 11]                   13.5   \n",
      "2          Weighted  2020 [note 10]                   15.9   \n",
      "3          Weighted            2019                   20.7   \n",
      "4          Weighted            2018                   28.0   \n",
      "\n",
      "   Men \\naged \\n25 to 34  Men \\naged \\n35 to 49  Men \\naged \\n50 to 59  \\\n",
      "0                   14.4                   13.7                   17.3   \n",
      "1                   17.4                   16.3                   16.1   \n",
      "2                   18.4                   18.7                   16.4   \n",
      "3                   22.8                   19.0                   21.8   \n",
      "4                   19.1                   20.3                   14.5   \n",
      "\n",
      "   Men \\naged \\n60 and over  Men \\naged \\n16 and over  \\\n",
      "0                       9.0                      12.5   \n",
      "1                       8.4                      13.7   \n",
      "2                       9.8                      15.3   \n",
      "3                      10.4                      17.9   \n",
      "4                       8.8                      17.0   \n",
      "\n",
      "   Women \\naged \\n16 to 24  Women \\naged \\n25 to 34  ...  \\\n",
      "0                     11.0                     13.3  ...   \n",
      "1                     12.7                     16.1  ...   \n",
      "2                     14.4                     17.9  ...   \n",
      "3                     15.2                     20.8  ...   \n",
      "4                     18.4                     22.3  ...   \n",
      "\n",
      "   Women \\naged \\n50 to 59  Women \\naged \\n60 and over  \\\n",
      "0                     12.5                         6.8   \n",
      "1                     13.6                         7.0   \n",
      "2                     16.1                         9.1   \n",
      "3                     14.6                         8.7   \n",
      "4                     15.8                        11.3   \n",
      "\n",
      "   Women \\naged \\n16 and over  All persons \\naged \\n16 to 24  \\\n",
      "0                        10.0                           10.5   \n",
      "1                        11.7                           13.1   \n",
      "2                        13.7                           15.2   \n",
      "3                        13.8                           18.3   \n",
      "4                        16.2                           23.6   \n",
      "\n",
      "   All persons \\naged \\n25 to 34  All persons \\naged \\n35 to 49  \\\n",
      "0                           13.8                           11.8   \n",
      "1                           16.8                           14.8   \n",
      "2                           18.1                           16.9   \n",
      "3                           21.8                           16.5   \n",
      "4                           20.8                           18.6   \n",
      "\n",
      "   All persons \\naged \\n50 to 59  All persons \\naged \\n60 and over  \\\n",
      "0                           14.9                               7.9   \n",
      "1                           14.8                               7.7   \n",
      "2                           16.3                               9.4   \n",
      "3                           18.4                               9.5   \n",
      "4                           15.2                              10.2   \n",
      "\n",
      "   All persons \\naged \\n16 and over  Unnamed: 20  \n",
      "0                              11.2          NaN  \n",
      "1                              12.7          NaN  \n",
      "2                              14.5          NaN  \n",
      "3                              15.8          NaN  \n",
      "4                              16.6          NaN  \n",
      "\n",
      "[5 rows x 21 columns]\n"
     ]
    }
   ],
   "source": [
    "\n",
    "# Apply the function to remove outliers\n",
    "df_cleaned = remove_outliers_iqr(df)\n",
    "\n",
    "print(\"Dataset after removing outliers:\")\n",
    "print(df_cleaned.head())\n"
   ]
  },
  {
   "cell_type": "code",
   "execution_count": 33,
   "metadata": {},
   "outputs": [],
   "source": [
    "\n",
    "# Optionally, save the cleaned dataset to a new file\n",
    "df_cleaned.to_csv('cleaned_dataset.csv', index=False)"
   ]
  }
 ],
 "metadata": {
  "kernelspec": {
   "display_name": "Python 3",
   "language": "python",
   "name": "python3"
  },
  "language_info": {
   "codemirror_mode": {
    "name": "ipython",
    "version": 3
   },
   "file_extension": ".py",
   "mimetype": "text/x-python",
   "name": "python",
   "nbconvert_exporter": "python",
   "pygments_lexer": "ipython3",
   "version": "3.11.4"
  },
  "orig_nbformat": 4,
  "vscode": {
   "interpreter": {
    "hash": "aee8b7b246df8f9039afb4144a1f6fd8d2ca17a180786b69acc140d282b71a49"
   }
  }
 },
 "nbformat": 4,
 "nbformat_minor": 2
}
