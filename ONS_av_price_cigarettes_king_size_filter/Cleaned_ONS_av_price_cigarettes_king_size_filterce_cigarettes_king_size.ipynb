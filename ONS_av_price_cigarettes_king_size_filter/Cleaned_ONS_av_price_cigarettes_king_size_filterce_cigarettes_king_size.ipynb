{
 "cells": [
  {
   "cell_type": "code",
   "execution_count": 4,
   "metadata": {},
   "outputs": [],
   "source": [
    "import pandas as pd\n",
    "file_path = r'C:\\Users\\norah\\Desktop\\CFG\\group_project_data\\ONS_av_price_cigarettes_king_size_filter.csv'  # Replace with your file path\n",
    "df = pd.read_csv(file_path)"
   ]
  },
  {
   "cell_type": "code",
   "execution_count": 5,
   "metadata": {},
   "outputs": [],
   "source": [
    "# Extract the year from the 'unit' column\n",
    "df['year'] = df['Unit'].str[:4]\n",
    "\n",
    "# Extract the month or quarter from the 'unit' column if it is present.\n",
    "df['month'] = df['Unit'].str[4:]"
   ]
  },
  {
   "cell_type": "code",
   "execution_count": 9,
   "metadata": {},
   "outputs": [],
   "source": [
    "# Convert the 'year' column to integer.\n",
    "df['year'] = df['year'].astype(int)\n",
    "\n",
    "# Group by year and calculate the maximum price.\n",
    "max_price_per_year = df.groupby('year')['Pence'].max().reset_index()"
   ]
  },
  {
   "cell_type": "code",
   "execution_count": 10,
   "metadata": {},
   "outputs": [
    {
     "name": "stdout",
     "output_type": "stream",
     "text": [
      "    year  Pence\n",
      "0   1987    145\n",
      "1   1988    150\n",
      "2   1989    153\n",
      "3   1990    170\n",
      "4   1991    196\n",
      "5   1992    214\n",
      "6   1993    233\n",
      "7   1994    245\n",
      "8   1995    266\n",
      "9   1996    279\n",
      "10  1997    305\n",
      "11  1998    330\n",
      "12  1999    367\n",
      "13  2000    402\n",
      "14  2001    417\n",
      "15  2002    419\n",
      "16  2003    429\n",
      "17  2004    445\n",
      "18  2005    465\n",
      "19  2006    483\n",
      "20  2007    505\n",
      "21  2008    537\n",
      "22  2009    550\n",
      "23  2010    600\n",
      "24  2011    673\n",
      "25  2012    738\n",
      "26  2013    804\n",
      "27  2014    870\n",
      "28  2015    907\n",
      "29  2016    948\n",
      "30  2017    990\n",
      "31  2018   1063\n",
      "32  2019   1083\n",
      "33  2020   1145\n",
      "34  2021   1196\n",
      "35  2022   1277\n",
      "36  2023   1512\n",
      "37  2024   1566\n"
     ]
    }
   ],
   "source": [
    "print(max_price_per_year)"
   ]
  }
 ],
 "metadata": {
  "language_info": {
   "name": "python"
  }
 },
 "nbformat": 4,
 "nbformat_minor": 2
}
